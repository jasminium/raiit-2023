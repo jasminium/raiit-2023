{
 "cells": [
  {
   "cell_type": "code",
   "execution_count": 3,
   "metadata": {},
   "outputs": [
    {
     "name": "stderr",
     "output_type": "stream",
     "text": [
      "/home/john/miniconda3/envs/ds/lib/python3.11/site-packages/tqdm/auto.py:21: TqdmWarning: IProgress not found. Please update jupyter and ipywidgets. See https://ipywidgets.readthedocs.io/en/stable/user_install.html\n",
      "  from .autonotebook import tqdm as notebook_tqdm\n"
     ]
    }
   ],
   "source": [
    "import json\n",
    "from uuid import uuid4\n",
    "from collections import Counter\n",
    "\n",
    "import pandas as pd\n",
    "from tqdm import tqdm\n",
    "import numpy as np\n",
    "from datasets import load_dataset\n",
    "from imblearn.under_sampling import RandomUnderSampler\n",
    "from imblearn.over_sampling import RandomOverSampler\n",
    "import optuna\n",
    "import shap\n",
    "from sklearn.feature_extraction.text import TfidfVectorizer\n",
    "from sklearn.linear_model import SGDClassifier\n",
    "from sklearn.metrics import classification_report, f1_score\n",
    "\n",
    "from imblearn.over_sampling import RandomOverSampler\n",
    "\n",
    "from transformers import AutoTokenizer, AutoModelForTokenClassification\n",
    "from transformers import pipeline\n",
    "\n",
    "import pickle\n"
   ]
  },
  {
   "cell_type": "code",
   "execution_count": 10,
   "metadata": {},
   "outputs": [
    {
     "name": "stdout",
     "output_type": "stream",
     "text": [
      "Riku\n"
     ]
    }
   ],
   "source": [
    "results_df = pd.read_csv('data/ner_deep_learning_results.csv')\n",
    "mistakes = results_df[(results_df['y_pred'] == 0) & (results_df.model == 'dslim/bert-base-NER')]['Name'].to_numpy()\n",
    "mistakes\n",
    "rng = np.random.default_rng(seed=0)\n",
    "hard_name = rng.choice(mistakes)\n",
    "print(hard_name)\n",
    "switch_name = 'Peter'\n",
    "targets = ['no emotion', 'anger', 'disgust', 'fear', 'happiness', 'sadness', 'surprise']\n"
   ]
  },
  {
   "cell_type": "markdown",
   "metadata": {},
   "source": [
    "# NER False Negatives"
   ]
  },
  {
   "cell_type": "code",
   "execution_count": 32,
   "metadata": {},
   "outputs": [
    {
     "data": {
      "text/plain": [
       "array(['A', 'A', 'A', ..., 'Zion', 'Zion', 'Zion'], dtype=object)"
      ]
     },
     "execution_count": 32,
     "metadata": {},
     "output_type": "execute_result"
    }
   ],
   "source": []
  },
  {
   "cell_type": "markdown",
   "metadata": {},
   "source": [
    "# feature importance"
   ]
  },
  {
   "cell_type": "code",
   "execution_count": 4,
   "metadata": {},
   "outputs": [
    {
     "ename": "NameError",
     "evalue": "name 'mistakes' is not defined",
     "output_type": "error",
     "traceback": [
      "\u001b[0;31m---------------------------------------------------------------------------\u001b[0m",
      "\u001b[0;31mNameError\u001b[0m                                 Traceback (most recent call last)",
      "Cell \u001b[0;32mIn[4], line 5\u001b[0m\n\u001b[1;32m      3\u001b[0m model \u001b[39m=\u001b[39m AutoModelForTokenClassification\u001b[39m.\u001b[39mfrom_pretrained(model_name)\n\u001b[1;32m      4\u001b[0m rng \u001b[39m=\u001b[39m np\u001b[39m.\u001b[39mrandom\u001b[39m.\u001b[39mdefault_rng(seed\u001b[39m=\u001b[39m\u001b[39m0\u001b[39m)\n\u001b[0;32m----> 5\u001b[0m hard_name \u001b[39m=\u001b[39m rng\u001b[39m.\u001b[39mchoice(mistakes)\n\u001b[1;32m      6\u001b[0m \u001b[39mprint\u001b[39m(hard_name)\n\u001b[1;32m      7\u001b[0m switch_name \u001b[39m=\u001b[39m \u001b[39m'\u001b[39m\u001b[39mPeter\u001b[39m\u001b[39m'\u001b[39m\n",
      "\u001b[0;31mNameError\u001b[0m: name 'mistakes' is not defined"
     ]
    }
   ],
   "source": [
    "model_name='dslim/bert-base-NER'\n",
    "tokenizer = AutoTokenizer.from_pretrained(model_name)\n",
    "model = AutoModelForTokenClassification.from_pretrained(model_name)\n",
    "\n",
    "\n",
    "\n",
    "def train(who='all', n_samples=100, fp='data/output.pkl'):\n",
    "    \"\"\"\n",
    "    who: 'all' - anonyimise everyone\n",
    "    who: 'rare-once' - only insert the rare name once\n",
    "    \"\"\"\n",
    "\n",
    "    removed_names = set()\n",
    "\n",
    "    def anonymise(sentence, who='all'):\n",
    "        global rare_insert_count\n",
    "        nlp = pipeline(\"ner\", model=model, tokenizer=tokenizer)\n",
    "        ner_results = nlp(sentence)\n",
    "        for item in ner_results:\n",
    "            # https://huggingface.co/dslim/bert-base-NER\n",
    "            if item['entity'] in ['B-PER', 'I-PER']:\n",
    "                # Assume that there rare name IS in the dataset. We replace another name with hard name.\n",
    "                if who == 'all':\n",
    "                    if item['word'] == switch_name:\n",
    "                        sentence = sentence.replace(item['word'], hard_name)\n",
    "                        print(sentence)\n",
    "                    else:\n",
    "                        sentence = sentence.replace(item['word'], '')\n",
    "                        removed_names.add(item['word'])\n",
    "\n",
    "                elif who == 'rare_once':\n",
    "                    if item['word'] == switch_name and rare_insert_count < 1:\n",
    "                        sentence = sentence.replace(item['word'], hard_name)\n",
    "                        print(sentence)\n",
    "                        rare_insert_count += 1\n",
    "                    else:\n",
    "                        sentence = sentence.replace(item['word'], '')\n",
    "                        removed_names.add(item['word'])\n",
    "                elif who == 'noone':\n",
    "                    if item['word'] == switch_name:\n",
    "                        sentence = sentence.replace(item['word'], hard_name)\n",
    "                        print(sentence)\n",
    "                else:\n",
    "                    raise NotImplementedError(f'{who} is an unknown option')\n",
    "\n",
    "        return sentence\n",
    "\n",
    "    def process(split='train', ner=True):    \n",
    "    \n",
    "        utterance = []\n",
    "        ids = []\n",
    "        label = []\n",
    "        act = []\n",
    "        \n",
    "        # Apply the function to all examples in the dataset\n",
    "        dataset = load_dataset('daily_dialog', split=split)\n",
    "        \n",
    "        if n_samples:\n",
    "            nd = n_samples\n",
    "        else:\n",
    "            nd = len(dataset)\n",
    "        \n",
    "        for i in tqdm(range(nd)):\n",
    "            example = dataset[i]\n",
    "            did = uuid4()\n",
    "            for j in range(len(example['dialog'])):\n",
    "                text = example['dialog'][j]\n",
    "                # add previous sentnce xontext\n",
    "                if j > 1:\n",
    "                    text = str(example['emotion'][j - 1]) + ' ' + example['dialog'][j - 1] + ' ' + text\n",
    "                if ner:\n",
    "                    text = anonymise(text, who=who)\n",
    "                utterance.append(text)\n",
    "                act.append(example['act'][j])\n",
    "                label.append(example['emotion'][j])\n",
    "                ids.append(did)\n",
    "\n",
    "        data = {\n",
    "            'text': utterance,\n",
    "            'label': label,\n",
    "            'attr': act,\n",
    "            'id': ids\n",
    "        }\n",
    "\n",
    "        df = pd.DataFrame(data=data)\n",
    "\n",
    "        return df\n",
    "    \n",
    "    global rare_insert_count\n",
    "    rare_insert_count = 0\n",
    "    df_train = process(split='train')\n",
    "    print('n train', len(df_train))\n",
    "    rare_insert_count = 0\n",
    "    df_valid = process(split='validation')\n",
    "    rare_insert_count = 0\n",
    "    df_test = process(split='test')\n",
    "\n",
    "    print(list(set(removed_names)))\n",
    "\n",
    "    # improves macro f1\n",
    "    rus = RandomOverSampler(random_state=42)\n",
    "    df_train, _ = rus.fit_resample(df_train, df_train.label)\n",
    "\n",
    "    counts = Counter(df_train.label)\n",
    "    print('train label dist.', counts)\n",
    "\n",
    "    clf = SGDClassifier(loss='log_loss', penalty='l2', alpha=1.0930076764057076e-05, n_jobs=-1)\n",
    "    vec = TfidfVectorizer()\n",
    "\n",
    "    X_train_tfidf = vec.fit_transform(df_train.text.to_list())\n",
    "    X_valid_tfidf = vec.transform(df_valid.text.to_list())\n",
    "    X_test_tfidf = vec.transform(df_test.text.to_list())\n",
    "\n",
    "    clf.fit(X_train_tfidf, df_train.label)\n",
    "\n",
    "    y_pred = clf.predict(X_test_tfidf)\n",
    "    y_true = df_test.label\n",
    "    report = classification_report(y_true, y_pred)\n",
    "    print(report)\n",
    "\n",
    "    r = (clf, vec, removed_names, X_train_tfidf, df_train, X_test_tfidf, df_test)\n",
    "\n",
    "    f = open(fp, 'wb')\n",
    "    pickle.dump(r, f)\n",
    "    f.close()\n",
    "\n",
    "    return r\n"
   ]
  },
  {
   "cell_type": "code",
   "execution_count": 55,
   "metadata": {},
   "outputs": [
    {
     "name": "stderr",
     "output_type": "stream",
     "text": [
      "Found cached dataset daily_dialog (/home/john/.cache/huggingface/datasets/daily_dialog/default/1.0.0/1d0a58c7f2a4dab5ed9d01dbde8e55e0058e589ab81fce5c2df929ea810eabcd)\n"
     ]
    },
    {
     "name": "stdout",
     "output_type": "stream",
     "text": [
      " Great idea ! Riku , I could use the drink . \n",
      "4  Great idea ! Riku , I could use the drink .   How about the new bar across road ? \n"
     ]
    },
    {
     "name": "stderr",
     "output_type": "stream",
     "text": []
    },
    {
     "name": "stdout",
     "output_type": "stream",
     "text": [
      "Did you hear Riku just retired ? \n"
     ]
    },
    {
     "name": "stderr",
     "output_type": "stream",
     "text": []
    },
    {
     "name": "stdout",
     "output_type": "stream",
     "text": [
      "Who broke the glass , Riku ? \n"
     ]
    },
    {
     "name": "stderr",
     "output_type": "stream",
     "text": []
    },
    {
     "name": "stdout",
     "output_type": "stream",
     "text": [
      "0  Well , so long ,  . Have fun .   You too , Riku . Give my regards to John . I'll see you in September . \n"
     ]
    },
    {
     "name": "stderr",
     "output_type": "stream",
     "text": []
    },
    {
     "name": "stdout",
     "output_type": "stream",
     "text": [
      "Riku and Mary broke up . \n"
     ]
    },
    {
     "name": "stderr",
     "output_type": "stream",
     "text": []
    },
    {
     "name": "stdout",
     "output_type": "stream",
     "text": [
      " Great idea ! Riku , I could use the drink . \n",
      "4  Great idea ! Riku , I could use the drink .   How about the new bar across road ? \n"
     ]
    },
    {
     "name": "stderr",
     "output_type": "stream",
     "text": []
    },
    {
     "name": "stdout",
     "output_type": "stream",
     "text": [
      "0  Who's coming ?   Riku.Riku Brown , you know.Don ' t forget to bring the letter . \n",
      "0  Who's coming ?   Riku.Riku Brown , you know.Don ' t forget to bring the letter . \n",
      "0  Riku.Riku Brown , you know.Don ' t forget to bring the letter .   Sorry . I didn't quite catch what you said.There ' s a lot of noise outside . \n",
      "0  Riku.Riku Brown , you know.Don ' t forget to bring the letter .   Sorry . I didn't quite catch what you said.There ' s a lot of noise outside . \n"
     ]
    },
    {
     "name": "stderr",
     "output_type": "stream",
     "text": []
    },
    {
     "name": "stdout",
     "output_type": "stream",
     "text": [
      "0  All right .   Riku ! Pack them . Don't read them . \n"
     ]
    },
    {
     "name": "stderr",
     "output_type": "stream",
     "text": []
    },
    {
     "name": "stdout",
     "output_type": "stream",
     "text": [
      "4  I think you can say your seventh great grandfather ! Cutie ! What's his name ?   Riku Madsen . A great A if I do say so myself . \n",
      "0  Riku Madsen . A great A if I do say so myself .   Nice pun . What is it you active about him most ? \n"
     ]
    },
    {
     "name": "stderr",
     "output_type": "stream",
     "text": [
      "Exception ignored in: <function tqdm.__del__ at 0x7facf8089a80>\n",
      "Traceback (most recent call last):\n",
      "  File \"/home/john/miniconda3/envs/ds/lib/python3.11/site-packages/tqdm/std.py\", line 1145, in __del__\n",
      "    self.close()\n",
      "  File \"/home/john/miniconda3/envs/ds/lib/python3.11/site-packages/tqdm/notebook.py\", line 283, in close\n",
      "    self.disp(bar_style='danger', check_delay=False)\n",
      "    ^^^^^^^^^\n",
      "AttributeError: 'tqdm_notebook' object has no attribute 'disp'\n"
     ]
    },
    {
     "name": "stdout",
     "output_type": "stream",
     "text": [
      " Thank you , Riku . Come into the dining room . We are going to cut the cake soon . \n",
      "4  Thank you , Riku . Come into the dining room . We are going to cut the cake soon .   Ok , who is that girl ? \n"
     ]
    },
    {
     "name": "stderr",
     "output_type": "stream",
     "text": []
    },
    {
     "name": "stdout",
     "output_type": "stream",
     "text": [
      "Hi , Riku . I ’ m afraid I can ’ t make it to dinner tomorrow night . \n"
     ]
    },
    {
     "name": "stderr",
     "output_type": "stream",
     "text": []
    },
    {
     "name": "stdout",
     "output_type": "stream",
     "text": [
      "Riku is a bag lady now . \n"
     ]
    },
    {
     "name": "stderr",
     "output_type": "stream",
     "text": []
    },
    {
     "name": "stdout",
     "output_type": "stream",
     "text": [
      "What is wrong with Riku ? He sure looks unhappy . \n"
     ]
    },
    {
     "name": "stderr",
     "output_type": "stream",
     "text": []
    },
    {
     "name": "stdout",
     "output_type": "stream",
     "text": [
      "Riku , which club do you want to join ? \n"
     ]
    },
    {
     "name": "stderr",
     "output_type": "stream",
     "text": []
    },
    {
     "name": "stdout",
     "output_type": "stream",
     "text": [
      "Hi ! Riku . How are you ? \n"
     ]
    },
    {
     "name": "stderr",
     "output_type": "stream",
     "text": []
    },
    {
     "name": "stdout",
     "output_type": "stream",
     "text": [
      " Hi , Riku . I didn't see you last night . Where did you go ? \n",
      "0  Hi , Riku . I didn't see you last night . Where did you go ?   I was almost on line the whole night . \n"
     ]
    },
    {
     "name": "stderr",
     "output_type": "stream",
     "text": []
    },
    {
     "name": "stdout",
     "output_type": "stream",
     "text": [
      " Thank you , Riku . \n",
      "4  Thank you , Riku .   Oh , let's come in and enjoy yourself . \n",
      "4  Oh , let's come in and enjoy yourself .   Happy birthday , Riku , and many happy returns of the day . Here's a present for you . \n",
      "4  Happy birthday , Riku , and many happy returns of the day . Here's a present for you .   Thank you , Li Mei . Come into the dining room . I'm going to cut the cake soon . \n"
     ]
    },
    {
     "name": "stderr",
     "output_type": "stream",
     "text": []
    },
    {
     "name": "stdout",
     "output_type": "stream",
     "text": [
      "Riku really is a remarkable expert ! There is very little he doesn ’ t know . \n"
     ]
    },
    {
     "name": "stderr",
     "output_type": "stream",
     "text": []
    },
    {
     "name": "stdout",
     "output_type": "stream",
     "text": [
      "Riku , have you finished your English composition ? \n"
     ]
    },
    {
     "name": "stderr",
     "output_type": "stream",
     "text": []
    },
    {
     "name": "stdout",
     "output_type": "stream",
     "text": [
      " Nice to see you again , too . Riku . How's your family ? \n",
      "0  Nice to see you again , too . Riku . How's your family ?   Very well . How's Mrs . Clinton ? \n"
     ]
    },
    {
     "name": "stderr",
     "output_type": "stream",
     "text": []
    },
    {
     "name": "stdout",
     "output_type": "stream",
     "text": [
      "0  Oh ! I forgot all about it . Of course you can have it back ,  . I'm sorry about the delay .   Well , it doesn't matter . I almost forgot it too if it is not for Riku who asked me about it this coming . \n"
     ]
    },
    {
     "name": "stderr",
     "output_type": "stream",
     "text": []
    },
    {
     "name": "stdout",
     "output_type": "stream",
     "text": [
      "So Riku , do you have a favorite comedy ? \n"
     ]
    },
    {
     "name": "stderr",
     "output_type": "stream",
     "text": []
    },
    {
     "name": "stdout",
     "output_type": "stream",
     "text": [
      "0  OK , I suppose , but she's had a rough time in the last few years , She got divorced .   What , from Riku ? \n",
      "0  What , from Riku ?   Oh , of course . \n"
     ]
    },
    {
     "name": "stderr",
     "output_type": "stream",
     "text": []
    },
    {
     "name": "stdout",
     "output_type": "stream",
     "text": [
      "Well , Riku , you have to do better than that next time , won ’ t you ? \n"
     ]
    },
    {
     "name": "stderr",
     "output_type": "stream",
     "text": []
    },
    {
     "name": "stdout",
     "output_type": "stream",
     "text": [
      "Well , Riku . I'm sorry you're ill . What's the matter with you ? \n"
     ]
    },
    {
     "name": "stderr",
     "output_type": "stream",
     "text": []
    },
    {
     "name": "stdout",
     "output_type": "stream",
     "text": [
      "Well , Riku , you have to do better than that next time , won't you ? \n"
     ]
    },
    {
     "name": "stderr",
     "output_type": "stream",
     "text": []
    },
    {
     "name": "stdout",
     "output_type": "stream",
     "text": [
      "0  Did someone get hurt ?   A driver died instantly . The other one was badly hurt . A poor boy called Riku was killed in the accident too . \n",
      "0  A driver died instantly . The other one was badly hurt . A poor boy called Riku was killed in the accident too .   What a terrible accident ! Who should be responsible for this traffic accident ? \n"
     ]
    },
    {
     "name": "stderr",
     "output_type": "stream",
     "text": []
    },
    {
     "name": "stdout",
     "output_type": "stream",
     "text": [
      "Hello , I'm sorry for calling this late . May I speak to Riku ? \n"
     ]
    },
    {
     "name": "stderr",
     "output_type": "stream",
     "text": []
    },
    {
     "name": "stdout",
     "output_type": "stream",
     "text": [
      "Take care , Riku . Don't run so fast.Are you tired ? \n"
     ]
    },
    {
     "name": "stderr",
     "output_type": "stream",
     "text": []
    },
    {
     "name": "stdout",
     "output_type": "stream",
     "text": [
      "Look , who's here , Riku ! \n"
     ]
    },
    {
     "name": "stderr",
     "output_type": "stream",
     "text": []
    },
    {
     "name": "stdout",
     "output_type": "stream",
     "text": [
      " It's Riku's turn . \n",
      "0  It's Riku's turn .   Give the mike to him . \n"
     ]
    },
    {
     "name": "stderr",
     "output_type": "stream",
     "text": []
    },
    {
     "name": "stdout",
     "output_type": "stream",
     "text": [
      "0  Good morning ! Welcome to our office !   Nice to meet you ! My name is Riku Smith . \n",
      "0  Nice to meet you ! My name is Riku Smith .   Nice to meet you too ! I am George Williams . \n"
     ]
    },
    {
     "name": "stderr",
     "output_type": "stream",
     "text": []
    },
    {
     "name": "stdout",
     "output_type": "stream",
     "text": [
      "Riku , I hope you will accept my quotation for the air freshener . \n"
     ]
    },
    {
     "name": "stderr",
     "output_type": "stream",
     "text": []
    },
    {
     "name": "stdout",
     "output_type": "stream",
     "text": [
      "0  Then , I am sorry to say I must regretfully decline your offer and seek quotations for the other suppliers .   I'm sorry , Riku . I hope you'll continue to approach us on other occasions if you cannot accept our offer now . \n",
      "0  I'm sorry , Riku . I hope you'll continue to approach us on other occasions if you cannot accept our offer now .   Yes . I'll welcome other opportunities to do business with you . \n"
     ]
    },
    {
     "name": "stderr",
     "output_type": "stream",
     "text": []
    },
    {
     "name": "stdout",
     "output_type": "stream",
     "text": [
      "Riku , listen to the lyrics of this song . \n"
     ]
    },
    {
     "name": "stderr",
     "output_type": "stream",
     "text": []
    },
    {
     "name": "stdout",
     "output_type": "stream",
     "text": [
      "Welcome home , Riku ! \n"
     ]
    },
    {
     "name": "stderr",
     "output_type": "stream",
     "text": []
    },
    {
     "name": "stdout",
     "output_type": "stream",
     "text": [
      "Riku ? This is Steven from China . I've got the document you want . \n"
     ]
    },
    {
     "name": "stderr",
     "output_type": "stream",
     "text": []
    },
    {
     "name": "stdout",
     "output_type": "stream",
     "text": [
      " What happened , Riku ? Did you have a fight ? \n",
      "0  What happened , Riku ? Did you have a fight ?   No , mom . I didn't . \n"
     ]
    },
    {
     "name": "stderr",
     "output_type": "stream",
     "text": []
    },
    {
     "name": "stdout",
     "output_type": "stream",
     "text": [
      "Hello , this is Riku Dixon from NEZ news radio . May I speak to Mr . Wilson please ? \n"
     ]
    },
    {
     "name": "stderr",
     "output_type": "stream",
     "text": []
    },
    {
     "name": "stdout",
     "output_type": "stream",
     "text": [
      "0  Put it in the waste-paper basket , please .   But Riku and Tony put all their paper in the basket a few moments ago.Now it's full . \n",
      "0  But Riku and Tony put all their paper in the basket a few moments ago.Now it's full .   In that case , take the basket outside and empty it . \n"
     ]
    },
    {
     "name": "stderr",
     "output_type": "stream",
     "text": []
    },
    {
     "name": "stdout",
     "output_type": "stream",
     "text": [
      "Riku , it's time to eat breakfast . \n"
     ]
    },
    {
     "name": "stderr",
     "output_type": "stream",
     "text": []
    },
    {
     "name": "stdout",
     "output_type": "stream",
     "text": [
      " Yes . This is Riku calling from New York , I have to change the date of reservation . \n",
      "0  Yes . This is Riku calling from New York , I have to change the date of reservation .   How and in whose name has the reservation been made ? \n"
     ]
    },
    {
     "name": "stderr",
     "output_type": "stream",
     "text": []
    },
    {
     "name": "stdout",
     "output_type": "stream",
     "text": [
      "0  I don't know yet . What's your idea , Dad ?   I'm thinking of taking you and Riku swimming . What do you think ? \n",
      "0  I'm thinking of taking you and Riku swimming . What do you think ?   Dad ! It's cold now ! \n"
     ]
    },
    {
     "name": "stderr",
     "output_type": "stream",
     "text": []
    },
    {
     "name": "stdout",
     "output_type": "stream",
     "text": [
      "0  It's dusty everywhere in the house . Can you help me do the housecleaning ?   OK . I will call Riku to clean it together . \n",
      "0  OK . I will call Riku to clean it together .   That's my good girl . The clothes need washing . I'll do the laundry . \n"
     ]
    },
    {
     "name": "stderr",
     "output_type": "stream",
     "text": []
    },
    {
     "name": "stdout",
     "output_type": "stream",
     "text": [
      "0  Who's coming ?   Riku . Riku Brown , you know . Don't forget to bring the letter . \n",
      "0  Who's coming ?   Riku . Riku Brown , you know . Don't forget to bring the letter . \n",
      "0  Riku . Riku Brown , you know . Don't forget to bring the letter .   Sorry . I didn't quite catch what you said . There's a lot of noise outside . \n",
      "0  Riku . Riku Brown , you know . Don't forget to bring the letter .   Sorry . I didn't quite catch what you said . There's a lot of noise outside . \n"
     ]
    },
    {
     "name": "stderr",
     "output_type": "stream",
     "text": []
    },
    {
     "name": "stdout",
     "output_type": "stream",
     "text": [
      " Yes , my name is Riku . I have made a reservation for a single room from June 18th to June 21st . I'd like to make some changes . The reservation should only be to June 20th . \n",
      "0  Yes , my name is Riku . I have made a reservation for a single room from June 18th to June 21st . I'd like to make some changes . The reservation should only be to June 20th .   A single room from June 18th to 20th . Is that correct ? \n"
     ]
    },
    {
     "name": "stderr",
     "output_type": "stream",
     "text": []
    },
    {
     "name": "stdout",
     "output_type": "stream",
     "text": [
      "4  Thank you . Also , how can I get my mailbox key ?   I ’ ll tell Riku to bring your key to your apartment right away . \n",
      "0  I ’ ll tell Riku to bring your key to your apartment right away .   Who ’ s Riku ? \n",
      "0  I ’ ll tell Riku to bring your key to your apartment right away .   Who ’ s Riku ? \n",
      "0  Who ’ s Riku ?   He ’ s the superintendent of this building . \n"
     ]
    },
    {
     "name": "stderr",
     "output_type": "stream",
     "text": []
    },
    {
     "name": "stdout",
     "output_type": "stream",
     "text": [
      "Riku , do you want to learn to play the piano ? \n"
     ]
    },
    {
     "name": "stderr",
     "output_type": "stream",
     "text": []
    },
    {
     "name": "stdout",
     "output_type": "stream",
     "text": [
      "Riku , wash your hands first , and then have some dessert . \n"
     ]
    },
    {
     "name": "stderr",
     "output_type": "stream",
     "text": []
    },
    {
     "name": "stdout",
     "output_type": "stream",
     "text": [
      " Yes , I'd like to check in , please . M y name is Riku Wang . I have a reservation for three nights . \n",
      "0  Yes , I'd like to check in , please . M y name is Riku Wang . I have a reservation for three nights .   Just a moment , please . Oh , yes . One twin and one single . Is that right ? \n"
     ]
    },
    {
     "name": "stderr",
     "output_type": "stream",
     "text": []
    },
    {
     "name": "stdout",
     "output_type": "stream",
     "text": [
      "0  Please allow me to introduce myself . My name is  a . Nice to meet you .   Nice to meet you , too . Miss  . please have a seat . I am Riku Smith , the General Manager . \n"
     ]
    },
    {
     "name": "stderr",
     "output_type": "stream",
     "text": []
    },
    {
     "name": "stdout",
     "output_type": "stream",
     "text": [
      " Hi , Riku ! How are you ? \n",
      "0  Hi , Riku ! How are you ?   Fine , thanks.And you ? \n"
     ]
    },
    {
     "name": "stderr",
     "output_type": "stream",
     "text": []
    },
    {
     "name": "stdout",
     "output_type": "stream",
     "text": [
      "0  That is your excuse .   All right , all right , I will go swimming with Riku this afternoon . \n",
      "0  All right , all right , I will go swimming with Riku this afternoon .   Not just today . Go exercise everyday ! \n"
     ]
    },
    {
     "name": "stderr",
     "output_type": "stream",
     "text": []
    },
    {
     "name": "stdout",
     "output_type": "stream",
     "text": [
      "Riku , where are you going ? \n"
     ]
    },
    {
     "name": "stderr",
     "output_type": "stream",
     "text": []
    },
    {
     "name": "stdout",
     "output_type": "stream",
     "text": [
      "Good evening . This is Riku in Room 310 . \n"
     ]
    },
    {
     "name": "stderr",
     "output_type": "stream",
     "text": []
    },
    {
     "name": "stdout",
     "output_type": "stream",
     "text": [
      "Riku , it's time to go home now ! Hurry up ! \n"
     ]
    },
    {
     "name": "stderr",
     "output_type": "stream",
     "text": []
    },
    {
     "name": "stdout",
     "output_type": "stream",
     "text": [
      "0  I bet she will hang around with her mates after school .   Riku , it's a quarter to twelve . Let's go home now ! \n"
     ]
    },
    {
     "name": "stderr",
     "output_type": "stream",
     "text": []
    },
    {
     "name": "stdout",
     "output_type": "stream",
     "text": [
      "Riku , why don't you go outside and play basketball with your friends ? \n",
      "0  Yes , but a football game is next .   Oh , Riku . You really should go and play ball yourself rather than watching games . \n",
      "0  Oh , Riku . You really should go and play ball yourself rather than watching games .   I just enjoy watching games . \n"
     ]
    },
    {
     "name": "stderr",
     "output_type": "stream",
     "text": []
    },
    {
     "name": "stdout",
     "output_type": "stream",
     "text": [
      "May I speak to Riku ? \n"
     ]
    },
    {
     "name": "stderr",
     "output_type": "stream",
     "text": []
    },
    {
     "name": "stdout",
     "output_type": "stream",
     "text": [
      "0  OK . What name , please ?   This is Riku Kaufman . \n",
      "0  This is Riku Kaufman .   Can you spell that , please ? \n",
      "0  Can you spell that , please ?   Riku Kaufman , P-E-T-E-R ( Riku ) , K-A-U-F-M-A-N ( Kaufman ) . \n",
      "0  Can you spell that , please ?   Riku  , P-E-T-E-R ( Riku ) , K-A-U-F-M-A-N (  ) . \n",
      "0  Riku Kaufman , P-E-T-E-R ( Riku ) , K-A-U-F-M-A-N ( Kaufman ) .   Oh , thanks , Mr . Kaufman . We look forward to your visit . \n",
      "0  Riku  , P-E-T-E-R ( Riku ) , K-A-U-F-M-A-N (  ) .   Oh , thanks , Mr .  . We look forward to your visit . \n"
     ]
    },
    {
     "name": "stderr",
     "output_type": "stream",
     "text": []
    },
    {
     "name": "stdout",
     "output_type": "stream",
     "text": [
      "0  May I have your name , sir , please ?   Please book it under the name of Mr . Riku . \n",
      "0  Please book it under the name of Mr . Riku .   So it's Mr . Riku , a table for six for the evening of the next Monday . It is Chinese food and you are coming at 6:30 . \n",
      "0  Please book it under the name of Mr . Riku .   So it's Mr . Riku , a table for six for the evening of the next Monday . It is Chinese food and you are coming at 6:30 . \n"
     ]
    },
    {
     "name": "stderr",
     "output_type": "stream",
     "text": []
    },
    {
     "name": "stdout",
     "output_type": "stream",
     "text": [
      "0  So it's Mr . Riku , a table for six for the evening of the next Monday . It is Chinese food and you are coming at 6:30 .   That's right . \n"
     ]
    },
    {
     "name": "stderr",
     "output_type": "stream",
     "text": []
    },
    {
     "name": "stdout",
     "output_type": "stream",
     "text": [
      "Riku , have you seen my purse ? \n"
     ]
    },
    {
     "name": "stderr",
     "output_type": "stream",
     "text": []
    },
    {
     "name": "stdout",
     "output_type": "stream",
     "text": [
      " Good morning . I'd like to speak to Riku . Chen Please . \n",
      "0  Good morning . I'd like to speak to Riku . Chen Please .   Certainly . Who should I say is calling ? \n"
     ]
    },
    {
     "name": "stderr",
     "output_type": "stream",
     "text": []
    },
    {
     "name": "stdout",
     "output_type": "stream",
     "text": [
      "Riku , take off your pajamas . \n"
     ]
    },
    {
     "name": "stderr",
     "output_type": "stream",
     "text": []
    },
    {
     "name": "stdout",
     "output_type": "stream",
     "text": [
      " Ah , good morning , Mr .  . Nice to meet you . I'm Riku Anderson from Personnel . Do sit down . \n",
      "0  Ah , good morning , Mr .  . Nice to meet you . I'm Riku Anderson from Personnel . Do sit down .   Thank you very much . \n"
     ]
    },
    {
     "name": "stderr",
     "output_type": "stream",
     "text": [
      "100%|██████████| 11118/11118 [3:19:40<00:00,  1.08s/it]\n"
     ]
    },
    {
     "name": "stdout",
     "output_type": "stream",
     "text": [
      "n train 87170\n"
     ]
    },
    {
     "name": "stderr",
     "output_type": "stream",
     "text": [
      "Found cached dataset daily_dialog (/home/john/.cache/huggingface/datasets/daily_dialog/default/1.0.0/1d0a58c7f2a4dab5ed9d01dbde8e55e0058e589ab81fce5c2df929ea810eabcd)\n",
      " 25%|██▌       | 252/1000 [05:05<18:27,  1.48s/it]"
     ]
    },
    {
     "name": "stdout",
     "output_type": "stream",
     "text": [
      " Good morning . I'd like to speak to Riku . Chen Please . \n",
      "0  Good morning . I'd like to speak to Riku . Chen Please .   Certainly . Who should I say is calling ? \n"
     ]
    },
    {
     "name": "stderr",
     "output_type": "stream",
     "text": [
      " 26%|██▌       | 256/1000 [05:10<17:04,  1.38s/it]"
     ]
    },
    {
     "name": "stdout",
     "output_type": "stream",
     "text": [
      "Can ’ t you come in and have tea now , Riku ? \n"
     ]
    },
    {
     "name": "stderr",
     "output_type": "stream",
     "text": [
      " 33%|███▎      | 334/1000 [06:56<13:59,  1.26s/it]"
     ]
    },
    {
     "name": "stdout",
     "output_type": "stream",
     "text": [
      "Riku , enough with your computer games . Go do your homework now . \n"
     ]
    },
    {
     "name": "stderr",
     "output_type": "stream",
     "text": [
      " 34%|███▎      | 335/1000 [06:57<13:01,  1.18s/it]"
     ]
    },
    {
     "name": "stdout",
     "output_type": "stream",
     "text": [
      "0  Mom , I'll be finished soon .   Riku , if you don't turn off your computer , then I won't allow you to play it again starting next week . \n"
     ]
    },
    {
     "name": "stderr",
     "output_type": "stream",
     "text": [
      " 36%|███▌      | 359/1000 [07:18<08:50,  1.21it/s]"
     ]
    },
    {
     "name": "stdout",
     "output_type": "stream",
     "text": [
      "Riku , how often do you exercise ? \n"
     ]
    },
    {
     "name": "stderr",
     "output_type": "stream",
     "text": [
      " 49%|████▉     | 488/1000 [09:43<06:22,  1.34it/s]"
     ]
    },
    {
     "name": "stdout",
     "output_type": "stream",
     "text": [
      "Riku , it's time to get up . \n"
     ]
    },
    {
     "name": "stderr",
     "output_type": "stream",
     "text": [
      " 67%|██████▋   | 667/1000 [13:03<07:15,  1.31s/it]"
     ]
    },
    {
     "name": "stdout",
     "output_type": "stream",
     "text": [
      "0  Oh , honey , I'm so sorry , we don't have enough space for you to have your own room .   Dad , but I don't want to share a room with Riku . He snores every night . \n",
      "5  Dad , but I don't want to share a room with Riku . He snores every night .   Honey , you can ask him to be quite . Otherwise you may punish him and tell him to stand out of the room , right ? \n"
     ]
    },
    {
     "name": "stderr",
     "output_type": "stream",
     "text": [
      " 82%|████████▏ | 820/1000 [15:47<03:41,  1.23s/it]"
     ]
    },
    {
     "name": "stdout",
     "output_type": "stream",
     "text": [
      "Well , Riku , you have to do better than that next time , won ’ t you ? \n"
     ]
    },
    {
     "name": "stderr",
     "output_type": "stream",
     "text": [
      " 84%|████████▍ | 839/1000 [16:08<02:33,  1.05it/s]"
     ]
    },
    {
     "name": "stdout",
     "output_type": "stream",
     "text": [
      "Medicine Industry , this is Riku Bush speaking , can I help you ? \n"
     ]
    },
    {
     "name": "stderr",
     "output_type": "stream",
     "text": [
      " 95%|█████████▍| 946/1000 [18:13<00:54,  1.00s/it]"
     ]
    },
    {
     "name": "stdout",
     "output_type": "stream",
     "text": [
      "Riku , go and tidy up your toys now . \n"
     ]
    },
    {
     "name": "stderr",
     "output_type": "stream",
     "text": [
      " 95%|█████████▍| 947/1000 [18:13<00:47,  1.12it/s]"
     ]
    },
    {
     "name": "stdout",
     "output_type": "stream",
     "text": [
      "0  Mom , just ten more minutes . The show is going to be over soon .   Riku , if you don't do it soon , I will throw your toys in the trash can . \n"
     ]
    },
    {
     "name": "stderr",
     "output_type": "stream",
     "text": [
      " 95%|█████████▌| 953/1000 [18:23<00:55,  1.19s/it]"
     ]
    },
    {
     "name": "stdout",
     "output_type": "stream",
     "text": [
      "Take care , Riku . Don't run so fast . Are you tired ? \n"
     ]
    },
    {
     "name": "stderr",
     "output_type": "stream",
     "text": [
      "100%|██████████| 1000/1000 [19:11<00:00,  1.15s/it]\n",
      "Found cached dataset daily_dialog (/home/john/.cache/huggingface/datasets/daily_dialog/default/1.0.0/1d0a58c7f2a4dab5ed9d01dbde8e55e0058e589ab81fce5c2df929ea810eabcd)\n",
      " 24%|██▎       | 236/1000 [04:34<11:40,  1.09it/s]"
     ]
    },
    {
     "name": "stdout",
     "output_type": "stream",
     "text": [
      " Yes , please . I ’ m Mr . Riku , the Director of Personnel . What can I do for you ? \n",
      "0  Yes , please . I ’ m Mr . Riku , the Director of Personnel . What can I do for you ?   Nice to meet you , Mr . Riku . I ’ m Wang Sian . I ’ Ve come for an interview as requested . \n",
      "0  Yes , please . I ’ m Mr . Riku , the Director of Personnel . What can I do for you ?   Nice to meet you , Mr . Riku . I ’ m Wang Sian . I ’ Ve come for an interview as requested . \n",
      "0  Nice to meet you , Mr . Riku . I ’ m Wang Sian . I ’ Ve come for an interview as requested .   Oh , yes . How do you do , Miss Wang ? Sit down , please . \n"
     ]
    },
    {
     "name": "stderr",
     "output_type": "stream",
     "text": [
      " 42%|████▏     | 418/1000 [08:15<20:10,  2.08s/it]"
     ]
    },
    {
     "name": "stdout",
     "output_type": "stream",
     "text": [
      " Four is an unlucky number here , Riku.Four sounds like death in Chinese.Hotels often have no fourth floor . \n",
      "0  Four is an unlucky number here , Riku.Four sounds like death in Chinese.Hotels often have no fourth floor .   I see.Oh , I know what I wanted to ask.How much should I tip this guy ? \n"
     ]
    },
    {
     "name": "stderr",
     "output_type": "stream",
     "text": [
      " 60%|█████▉    | 598/1000 [11:25<06:26,  1.04it/s]"
     ]
    },
    {
     "name": "stdout",
     "output_type": "stream",
     "text": [
      "4  Nice to meet you ! My name is   .   Nice to meet you too ! I am Riku Smith . \n",
      "4  Nice to meet you too ! I am Riku Smith .   Today is my first day at work ! \n"
     ]
    },
    {
     "name": "stderr",
     "output_type": "stream",
     "text": [
      " 71%|███████▏  | 713/1000 [13:26<02:56,  1.62it/s]"
     ]
    },
    {
     "name": "stdout",
     "output_type": "stream",
     "text": [
      "Morning , Riku . Nice suit ! A new one ? \n"
     ]
    },
    {
     "name": "stderr",
     "output_type": "stream",
     "text": [
      " 74%|███████▍  | 743/1000 [13:54<03:30,  1.22it/s]"
     ]
    },
    {
     "name": "stdout",
     "output_type": "stream",
     "text": [
      " Great idea ! Riku , I could use the drink . \n",
      "4  Great idea ! Riku , I could use the drink .   How about the new bar across the road ? \n"
     ]
    },
    {
     "name": "stderr",
     "output_type": "stream",
     "text": [
      " 75%|███████▍  | 746/1000 [14:00<07:33,  1.79s/it]"
     ]
    },
    {
     "name": "stdout",
     "output_type": "stream",
     "text": [
      "0  Well , I thought that maybe we could go there for lunch today . That is , if you haven't promised to go with someone else .   That'd be wonderful , Riku . But I hope you're in a better mood than you were this morning . \n",
      "4  That'd be wonderful , Riku . But I hope you're in a better mood than you were this morning .   I'm sorry I was such a grouch . It must've been the weather . When it rains I get depressed . \n"
     ]
    },
    {
     "name": "stderr",
     "output_type": "stream",
     "text": [
      " 79%|███████▊  | 787/1000 [14:38<03:13,  1.10it/s]"
     ]
    },
    {
     "name": "stdout",
     "output_type": "stream",
     "text": [
      "0  How do you know that ?   She told me that Riku and she has a quarrel last nigh , and she left this morning , bag and baggage . \n"
     ]
    },
    {
     "name": "stderr",
     "output_type": "stream",
     "text": [
      " 79%|███████▉  | 788/1000 [14:39<03:00,  1.17it/s]"
     ]
    },
    {
     "name": "stdout",
     "output_type": "stream",
     "text": [
      "0  She told me that Riku and she has a quarrel last nigh , and she left this morning , bag and baggage .   Oh , I see . But I think you are making a fuss . They will make it up . Bet it . \n"
     ]
    },
    {
     "name": "stderr",
     "output_type": "stream",
     "text": [
      " 87%|████████▋ | 868/1000 [16:00<02:46,  1.26s/it]"
     ]
    },
    {
     "name": "stdout",
     "output_type": "stream",
     "text": [
      "Hey , Riku , have you had lunch yet ? \n"
     ]
    },
    {
     "name": "stderr",
     "output_type": "stream",
     "text": [
      " 92%|█████████▏| 915/1000 [16:41<00:59,  1.43it/s]"
     ]
    },
    {
     "name": "stdout",
     "output_type": "stream",
     "text": [
      "Riku , how often do you exercise ? \n"
     ]
    },
    {
     "name": "stderr",
     "output_type": "stream",
     "text": [
      " 96%|█████████▌| 961/1000 [17:16<00:29,  1.30it/s]"
     ]
    },
    {
     "name": "stdout",
     "output_type": "stream",
     "text": [
      " Nice to see you again , too . Riku . How's your family ? \n",
      "0  Nice to see you again , too . Riku . How's your family ?   A :: Very well . How's Mrs Clinton ? \n"
     ]
    },
    {
     "name": "stderr",
     "output_type": "stream",
     "text": [
      " 97%|█████████▋| 971/1000 [17:25<00:33,  1.15s/it]"
     ]
    },
    {
     "name": "stdout",
     "output_type": "stream",
     "text": [
      "Riku , how often do you exercise ? \n"
     ]
    },
    {
     "name": "stderr",
     "output_type": "stream",
     "text": [
      "100%|██████████| 1000/1000 [17:50<00:00,  1.07s/it]\n"
     ]
    },
    {
     "name": "stdout",
     "output_type": "stream",
     "text": [
      "['##eta', '##ke', 'Jane', 'Hilda', '##yk', '##ley', 'Mussolini', 'Gran', 'Bull', 'Joan', 'Chu', 'L', 'Isa', 'Dong', 'Neil', '##ron', 'Del', 'Nigel', 'Robinson', 'Yuan', 'Dr', 'Marsh', '##v', '##rid', 'Rich', '##tin', 'Teddy', 'Gill', '##e', 'Hunter', 'Fu', 'Marilyn', 'Cry', 'Shield', 'God', 'Pierce', 'Susan', '##te', 'Mall', 'Barbara', 'Dan', 'Richardson', 'Mar', 'Calvin', 'Mom', 'Tony', '##rus', '##haw', 'Eliza', 'Mother', '##ely', 'Pen', '##don', 'No', 'Brent', 'Anna', '##rah', 'Jennings', 'Barker', '##ai', 'Me', 'Riley', '##lu', 'Mark', '##retta', 'Juan', 'Rose', '##ta', 'Carson', 'Megan', '##op', 'Am', 'Gerry', 'Kahn', 'Penny', 'Barack', 'Maggie', '##bin', 'Ban', 'Addison', '##rand', 'don', 'Matt', 'In', 'Lim', 'Fallen', 'Craig', '##ski', 'Gala', 'William', 'Drive', 'Kevin', 'Ford', 'Zhang', '##del', 'Chi', 'Archie', 'Division', 'Peck', 'Fernando', 'Lai', 'Lauren', 'Stevenson', 'Barbie', '##ugen', '##son', 'Stevens', 'Marshall', 'Cancer', 'Ka', 'Sun', 'Cynthia', 'Reynolds', 'Sa', '##zhen', 'C', 'Re', 'Fiona', 'Julia', 'Polly', '##fan', '##bie', 'Due', 'Montgomery', '##zy', 'Olga', 'V', 'Darling', 'Samuel', 'Sounds', 'Roy', 'Was', 'Dai', '##med', '##sso', 'Betty', 'Vivian', '##lea', 'Be', 'Bel', 'Henry', 'Arnold', '##h', 'Lewis', 'Co', '##cell', 'Colbert', 'Joy', '##z', '##mei', 'Herman', 'Lam', 'Douglas', 'Miriam', 'Phil', 'Phillip', 'Clare', '##ang', '##qua', 'Mason', 'Lil', 'Judy', 'Port', 'An', '##nis', 'Amelia', 'Parry', '##ie', 'Deborah', 'Forest', 'Shut', 'Abigail', 'car', '##via', '##rry', 'Rick', '##xton', 'Samantha', '##uk', 'Jessica', 'Kent', 'Hello', 'Carr', 'Tiffany', 'Pavel', 'Jing', 'Christine', 'Saunders', 'Hubert', 'Katie', 'Yes', '##less', 'Fe', 'Rudolph', 'Lindsay', '##ax', '##uil', '##ckett', 'Ko', '##im', '##bow', '##ford', 'Li', 'Watson', 'Mitchell', 'Sharon', 'Davies', 'Jul', 'Fred', '##vin', '##N', '##er', 'Ace', 'Roche', 'Jet', '##rik', 'Gray', 'Bach', 'Matthew', 'Lord', '##ham', 'Catherine', 'Owen', 'Tell', 'Myers', '##di', 'Gao', 'Mel', 'Chaplin', 'ma', '##zie', '##ll', 'Pa', '##i', 'Westwood', 'Shirley', 'Johns', 'Steven', 'Buy', 'Juliet', '##bu', 'Pet', 'Miles', 'Kitty', 'Over', '##u', 'Friedman', 'The', 'Daddy', 'Ernest', '##g', '##p', 'Hong', 'Stern', 'Ryan', '##val', 'Peters', 'Roll', 'Angie', 'Nancy', '##llon', 'Dorothy', '##ene', 'Margaret', 'Word', 'Linda', 'Holly', 'Mona', 'Charles', 'Maria', 'Laura', '##bo', 'Hamilton', 'Carter', '##ia', '##gen', 'Naomi', 'Tor', 'Shen', 'Tang', 'Moon', 'Gustav', 'David', 'Ross', '##vir', 'Fang', 'Todd', 'Willow', 'Soft', 'Jeff', '##uh', 'Chen', '##d', 'Doctor', '##id', 'Grandma', '##an', 'Miss', 'Jessie', 'Justin', 'Allison', '##ias', 'Elaine', 'Andrew', 'Weiss', 'Chuck', '##ies', 'Willis', 'Dale', 'Claus', '##r', 'Pit', '##rden', 'Heath', 'Brand', 'Yi', '##line', 'Erica', 'Hank', '##ulo', '##hit', 'Hang', 'Leonard', 'Obama', 'Zheng', 'Stone', 'Toni', 'Mile', 'Op', 'Ward', 'Mu', 'Ok', '##band', 'Mara', 'Laurence', 'Ana', 'Hughes', '##ns', 'Nathaniel', 'Jones', 'Ra', '##uku', '##hui', '##uta', 'Fairbanks', 'Armstrong', 'Rock', 'Al', 'Mai', '##ex', 'Vita', 'Rosemary', 'Jacobs', 'Ted', 'Vic', '##erry', 'Mozart', 'Lester', 'Sky', 'Aunt', 'Greenwood', 'Tyler', 'Cell', 'Edwards', 'Ch', 'Cohen', 'Francis', 'London', 'Irene', '##ess', '##aki', 'Patterson', 'Walker', 'Columbus', '##rt', 'Jackie', 'Sarah', 'Robert', 'Nick', 'Stacy', 'Sweeney', 'Vale', '##onda', 'Melinda', 'Na', 'Cole', 'Mei', 'Wright', 'W', 'Jimmy', '##ola', 'Stephan', 'Anthony', 'Arm', 'Baron', 'Sal', 'Lydia', 'Run', 'Lulu', 'Nathan', '##na', '##els', 'Dal', '##k', '##icus', 'Wharton', 'Berger', 'Natasha', 'Sea', 'Churchill', 'Sting', 'Mouse', 'Ari', 'Jesse', 'Mr', 'Parker', 'Grace', 'Mill', 'Zach', 'Jerry', 'At', 'Katherine', 'Carla', 'Carole', 'Den', '##sson', 'Dolly', '##mler', 'Nelson', 'Ye', 'Blue', 'Bible', 'Carmichael', 'Tad', '##feld', 'Gang', 'Jake', 'Geoff', 'Flora', '##ik', '##bble', 'Chandler', 'Pauline', '##hone', '##eal', 'Michelle', 'Leslie', 'Bernie', 'Andy', 'Alexander', '##bi', 'Levin', 'Want', 'Domingo', 'Zoe', 'Knight', 'Brittany', '##le', 'Mary', 'Eric', 'Po', '.', 'Had', 'Becker', 'Clark', '##nea', 'Child', 'Dancer', 'Webber', 'Silk', 'Myra', '##wood', 'Dead', 'Tara', 'Do', 'Donald', 'Sylvester', 'Bon', 'Drummond', 'Nina', 'Debbie', '##smo', 'Clive', 'Sydney', 'Flash', 'Nan', '##ub', '##vo', 'Phoebe', 'Mabel', 'Dominic', 'Randy', 'Mac', 'Nora', 'Kathy', 'Yahoo', 'Cathy', 'Fay', 'Rita', 'Hilary', '##ett', 'Darren', '##H', 'Sandy', 'Murphy', 'Ji', 'Ha', 'U', 'Gates', 'Lucas', 'Adams', '##en', 'Black', 'Anita', '##ube', 'Twin', 'Short', 'Men', '##pp', 'Dennis', 'Clarke', 'Michael', 'Abby', 'Ball', 'Lawson', 'Tiger', 'Hanson', '##ra', '##ggy', '##ike', 'Yo', 'P', 'McGrath', '##rman', 'Celia', '##ico', 'Sam', 'Ya', 'Kennedy', '##co', 'Parsons', 'Marty', 'Ce', 'Bar', '##hwa', 'Ella', 'Brooke', 'Edgar', 'Si', '##mi', 'Bobby', 'Cheng', 'Lao', '##iff', 'Big', 'Felix', 'Aaron', '##ge', 'Bros', '##ira', '##varo', 'Cook', 'Eye', 'Devi', 'Woody', 'Pan', 'Did', 'What', 'Franklin', 'Roman', 'Carolyn', 'Ben', 'Ethel', '##iber', '##ce', 'Shaw', 'Herr', 'Ling', 'Foster', 'Connie', 'Santa', 'Bai', 'Von', '##dez', 'Jean', 'Coke', '##orse', 'Janice', 'Rob', 'Derek', 'Mars', 'Rebecca', 'Shakespeare', 'Lu', 'Sven', 'Denise', 'Joseph', 'Janet', 'Allen', 'Mister', '##n', 'Kris', 'Tin', 'Zhou', 'Eastwood', 'Hell', 'Taylor', 'John', 'Potter', 'Lamb', 'Goldman', 'Johnny', 'Robbins', '##rrow', 'Willie', 'X', 'Jason', 'Ethan', 'Dana', 'Ming', 'Eve', 'Holmes', 'Sang', 'Kaufman', 'Gina', 'Robin', 'Carey', 'Ashley', 'Cruise', 'Candy', '##iv', 'Cap', 'Ju', 'Charlotte', '##lin', 'Hart', 'Andrea', 'KC', 'Will', 'Reeves', 'Stephen', 'Eileen', '##ric', '##ker', 'Shan', '##ba', 'Harold', '##ucci', '##rgen', 'Fitzgerald', 'Allan', 'Hawkins', 'Stewart', 'Stefan', '##sha', 'Alec', 'Lia', 'Sophie', 'My', 'Dave', 'Good', 'Stuart', 'Patricia', '##ston', 'de', 'Yan', 'Jordan', '##riel', 'Dev', 'Billy', 'Turn', 'Carl', 'Paul', 'Hal', 'Buddha', '##sman', '##se', 'Blanc', 'Melanie', 'Beast', '##run', 'Soo', \"'\", 'Reese', '##llers', 'N', 'McKenna', 'Fanny', 'Nicola', 'Suzuki', '##a', 'Thomson', 'Wallace', 'Wei', 'Lilly', 'Xi', 'Comet', 'Wang', 'Rice', 'Emma', '##ness', 'Boris', '##lberg', 'Sampson', 'Ed', '##sen', '##s', 'Rogers', 'Angelina', 'Bruno', '##ffy', '##lla', 'Larson', '##jun', 'Bo', 'Angela', 'Cain', 'Peterson', 'Annie', 'Meg', 'Christi', 'Superman', 'Edward', 'Jill', 'Shell', 'Clint', 'Simon', 'Casey', 'Carmen', 'Mali', 'Corey', '##les', 'Crane', 'Clinton', 'Philip', 'Sally', 'Yuri', 'Sue', '##ler', 'Gordon', 'Philips', 'Ellen', 'Julian', 'Gale', 'Winston', 'Amy', 'Colin', 'Bee', 'Cindy', 'Faye', 'Sidney', 'Ally', 'Jung', 'De', '##erly', 'Curtis', 'Huang', 'Gwen', 'Evans', 'OK', 'Lama', 'Liang', 'Adrian', 'Sammy', 'Meredith', 'Q', 'Trent', 'Teresa', 'Je', '##ton', '##bull', 'Pat', 'Wills', '##lis', '##tti', 'Ad', 'Hu', 'Randolph', 'Cal', 'Liv', 'Richards', '##gan', '##bana', '##on', '##lston', 'Bond', 'Fort', 'Parks', '##ian', 'Horton', 'Hepburn', 'Du', '##hes', 'Butcher', 'Kate', 'Galileo', 'Patty', '##yn', 'Quinn', 'Liz', '##ud', 'Sanders', '##el', '##o', 'Ping', 'Counter', 'Mon', 'You', '##vard', 'Kobe', 'Zhu', 'Mi', 'Hans', 'She', '##th', 'Young', '##iri', 'Cope', 'Tri', '##vi', 'Giovanni', 'Cody', 'Alice', '##ap', 'Spa', 'Gregory', '##fa', 'Ki', 'Jin', 'General', 'Hung', 'Bay', 'Amanda', 'Mum', 'Gretchen', 'Inc', 'Evan', 'Morgan', '##alis', 'Mo', 'Pam', '##rl', 'Can', 'Bart', 'Schneider', 'McDonald', 'Monroe', 'Maurice', 'Roberts', 'Dog', '##nen', 'Lesley', 'Patrick', 'Roger', 'Stephanie', 'Lance', '##als', '##ldred', '##rier', '##man', 'Bow', 'Erik', 'Jenny', 'Kathleen', 'Right', 'Charlie', 'Leo', 'Carol', 'Cat', 'Cy', 'Caroline', 'Wyatt', '##cliffe', 'Han', 'Claire', '##ini', 'Picasso', 'Check', 'White', 'Jack', 'Ellie', 'More', '##ming', 'Ivan', 'Conrad', 'Iris', 'ji', 'Kali', 'Hi', '##rte', '##kley', 'Yong', 'Solomon', 'Marco', '##gne', '##ienne', 'Washington', 'Petra', 'Ron', '##ally', 'Jen', 'Newman', 'Luke', 'He', 'Eva', 'Garry', 'Vincent', 'Presley', 'Howard', 'Patti', 'x', 'Marcia', 'Louise', '##dela', 'Ram', 'Tim', '##gles', 'Lori', 'Reeve', 'Kong', 'Sophia', '##ci', 'Jr', '##kim', 'Wendy', 'Song', 'Scott', '##ther', 'Ventura', 'Don', 'During', 'Helen', '##ino', 'Nicholas', 'Brown', 'Betsy', 'Maris', '##hl', 'Into', 'Gate', 'Ma', '##b', 'Harvard', 'Mendoza', '##way', '##W', 'Seymour', 'Simmons', 'Spears', '##all', 'Carlos', 'Green', 'Da', 'Hilton', '##Q', '##eel', '##ay', '##iggs', 'Barry', 'Tai', 'Rod', '##J', 'Carrie', '##rit', 'Richter', '##ney', 'Halle', 'Jackson', '##zon', 'Jacob', 'Xavier', 'Map', 'Vargas', 'Rama', '##hong', 'Sherman', 'Sullivan', '##c', '##kles', 'Alonso', '##he', 'Ava', '##rst', 'Isaiah', 'Carlton', 'May', 'Clyde', '##ats', 'E', 'Keith', 'Ernie', 'Lane', 'Got', '##rab', '##ryl', 'Jam', '##ers', 'Ruby', 'Daisy', '##yre', '##by', '##ries', 'Edwin', 'Dixon', 'Ralph', 'Ali', 'Phillips', '##ory', 'Benjamin', 'Dawson', '##f', 'Fen', '##am', '##do', 'Lisa', 'Martin', 'Ultra', 'Sterling', 'Hunt', '##ist', '##gado', 'Lillian', 'Elton', 'Pay', 'Mad', 'Stanley', 'Mao', '##ear', 'Madame', '##ji', 'Karl', '##aw', 'Monica', 'Grant', 'Veronica', '##dl', 'Neville', 'Graham', 'Gary', 'Kurt', 'Christina', 'Isabel', 'Isabelle', 'Harry', '##da', 'Din', '##y', 'Jon', '’', 'Lo', 'Lodge', 'Too', 'Suit', 'ch', 'Andrews', 'Blair', 'Card', 'Yu', 'Jay', 'Larry', '##ling', '##az', 'Chang', 'Chan', 'Fields', 'D', 'Schmidt', 'Call', '##harine', 'Locke', '##throp', 'Pierre', 'Johnson', 'Sound', 'So', '##gger', '##lor', 'Z', 'Uncle', '##nto', '##ui', 'Rodriguez', 'Must', 'R', 'Diego', 'Christy', '##rz', 'Harper', 'Terry', 'Tom', 'Nicole', 'Super', '##nap', '##lma', 'Rochester', '##era', 'Far', 'Rocky', '##laus', 'Sand', 'Leah', 'Owens', 'Mitch', 'Jeremy', 'Win', 'Serena', '##mit', 'Nova', 'Susie', 'Jim', 'Brenda', 'Adam', '##mington', 'Malik', 'Shelley', 'Eli', 'Thompson', 'Santos', 'Bean', '##hn', 'Edith', 'Milton', 'Lee', '##lins', 'S', 'Robson', 'Dean', 'Leon', 'Qi', 'Bali', '##chi', '##lie', 'Powell', '##frey', 'Joanna', 'Farm', '##read', 'Smith', 'Elvis', 'Richard', 'Melissa', 'Collins', '##ew', 'Jess', '##ery', '##nso', 'Ricky', 'Con', 'Gibson', 'Williams', 'Eddy', 'Kerry', 'Di', 'Min', '##ks', 'Hill', '##aen', 'Tan', 'Tu', '##ys', '##si', 'Bruce', '##lop', '##cha', 'Red', 'Monk', 'Jo', 'Finn', 'Kim', 'Cooper', '##qui', 'G', '##one', '##ty', '##lder', 'Master', 'Abraham', 'Mandy', 'Campbell', '##lle', 'Pope', '##rn', 'April', 'Car', 'George', '##lson', 'Wen', 'Tao', 'Evelyn', 'Holiday', 'Man', 'Ann', 'Tina', 'Say', 'La', 'Henderson', 'Compton', '##olo', 'Sheila', 'Stacey', 'Wood', 'Harrison', 'Reds', 'Doug', '##mu', 'Hammer', '##ina', 'Dick', 'Pond', 'Anne', 'Ferris', 'Bin', 'Deck', 'Diane', 'Kat', 'Em', 'Baker', '##aldo', 'Frank', 'Snow', '##iko', 'Pitt', '##ito', 'Jamie', 'Liu', '##roy', 'Jesus', 'Phyllis', 'Isaac', 'Luther', 'Burton', 'Le', '##lli', 'Josh', 'Vince', 'Keller', '##ng', 'El', 'Danny', 'Greg', 'Logan', 'Long', 'B', 'Wayne', 'Sandra', '##or', 'James', 'Falls', 'Mike', 'Cha', 'Fan', 'Saint', 'Franco', 'Grandpa', 'Chris', '##ri', 'Sean', 'Maddie', '##ro', '##gni', 'Madison', 'w', 'Kit', 'Hugh', 'Land', 'Yang', 'Fr', 'Thomas', 'Mia', '##adi', 'Tracy', 'Alison', 'Violet', '##ur', 'Wu', 'Stein', 'Forster', 'Lin', 'Darryl', 'Christopher', 'Jan', 'Hero', 'Millie', '##ure', 'Karen', '##my', '##wain', 'Wallis', 'Victoria', 'Edison', 'Vanessa', 'Ash', '##ha', 'Gail', 'Doris', 'Victor', 'Yvonne', 'Mickey', '##uc', 'Duncan', 'Bryan', 'Otis', 'Bates', 'Beth', 'Tomas', 'gun', 'Basil', 'Jun', '##ti', 'Troy', 'En', 'Mick', 'Jared', 'Jazz', 'Yao', 'Morris', '##wang', '##row', '##ip', 'Atlas', 'Morley', 'Ni', 'Ho', 'Steve', 'Dylan', 'King', 'F', 'Pratt', 'Rudy', 'Hancock', 'M', 'Eddie', '##rro', '##ssa', 'Joanne', 'Emerson', 'A', 'Bryant', 'ben', 'Brooks', 'Winner', 'Connor', '##roft', 'Xiao', 'Tarzan', 'Ba', 'Chloe', 'Nature', '##rre', 'Brian', '##lan', 'Bradley', 'Albert', 'Bing', 'Belinda', 'Jenkins', 'Walter', 'Rubin', '##lene', 'Bell', '##nco', 'J', '##han', 'Kramer', 'Joshua', 'Christian', 'Ty', 'Lea', 'you', 'Anderson', 'Brain', 'Than', 'Kara', 'Woods', '##uan', 'Beethoven', 'Josephine', 'Connell', 'Harris', 'Paula', 'Grey', '##wal', 'Whitney', 'Ruth', 'Dar', '##ack', '##ping', 'Mind', 'Ke', 'Brad', 'Xu', '##ans', 'Heather', 'that', 'Morrison', 'Gross', '##m', 'Day', 'Bird', 'Marie', '##cea', 'Lucy', 'Horn', 'Daniel', '##pal', '##fer', '##ril', 'Kai', 'Dickens', '##ar', 'Dion', 'Ku', 'McCain', '##itz', 'Edna', '##um', '##Dowell', 'Max', 'Vera', 'Achilles', 'St', 'Martha', 'Rachel', '##ain', 'Alex', 'Jameson', 'Simpson', 'Mario', 'Laurie', 'Joey', 'hi', '##ert', 'Higgins', 'Grange', 'Toby', 'Isabella', '##ne', '##wright', '##tz', 'Briggs', 'Willy', 'Church', '##mba', 'Su', 'Haven', 'Ray', 'Joe', 'Elizabeth', 'Monte', '##ow', '##tt', 'Gavin', 'Forrest', 'Paulo', 'Dad', '##ac', 'Arthur', 'Pacific', 'Julie', 'Fox', 'Diana', '##du', '##ye', 'Pete', 'Vicky', 'Austen', 'Waters', 'Hui', '##t', 'Drake', '##lbert', 'Trevor', 'Wall', '##sal', 'Devon', 'Wong', 'Prince', '##xia', 'Emily', 'Ren', 'Willard', 'Benson', '##lta', 'Per', 'Jude', '##ulin', '##chen', 'Pamela', 'Bat', '##rle', 'Dante', 'Bob', 'Blake', 'Valerie', 'Alan', '##dale', 'Hayes', 'Bill', 'Tommy', '##zu', 'Norton', 'Hat', 'Lau', 'McBride', 'Hopkins', 'Roth', '##mo', 'Hall', '##yd', 'Marian', 'Kenny', 'Neal', 'Dora', 'Lincoln', 'Pink', 'Dome', 'Tong', '##K', 'Kelly', 'Hudson', 'T', '##tly', 'Se', 'Pol', 'ka', 'Davis', 'Bush', 'K', 'Mat', 'Arts', '##witz', 'Winter', '##owski', 'Donna', 'Sara', 'Ken', 'Wilson', 'Lily', 'Hey', '##allo', 'Cho', 'Harvey', '##ry', 'Macmillan', 'Enrique', '##pie', 'Becky', '##san', '##pa', 'Newton', 'Rodgers', 'Fi', 'Tristan', 'Jennifer', 'Cameron', 'Miller', 'I', 'H', 'Anger', '##land', 'Christ', 'Ham', 'Sc', 'Nikki', '##in', 'Luc', 'O']\n",
      "train label dist. Counter({0: 72143, 4: 72143, 6: 72143, 3: 72143, 2: 72143, 5: 72143, 1: 72143})\n",
      "              precision    recall  f1-score   support\n",
      "\n",
      "           0       0.93      0.61      0.73      6321\n",
      "           1       0.14      0.52      0.22       118\n",
      "           2       0.12      0.38      0.18        47\n",
      "           3       0.11      0.53      0.18        17\n",
      "           4       0.40      0.67      0.50      1019\n",
      "           5       0.10      0.57      0.17       102\n",
      "           6       0.09      0.50      0.15       116\n",
      "\n",
      "    accuracy                           0.61      7740\n",
      "   macro avg       0.27      0.54      0.30      7740\n",
      "weighted avg       0.82      0.61      0.68      7740\n",
      "\n"
     ]
    },
    {
     "name": "stderr",
     "output_type": "stream",
     "text": [
      "Found cached dataset daily_dialog (/home/john/.cache/huggingface/datasets/daily_dialog/default/1.0.0/1d0a58c7f2a4dab5ed9d01dbde8e55e0058e589ab81fce5c2df929ea810eabcd)\n",
      "  0%|          | 39/11118 [00:31<2:29:39,  1.23it/s]"
     ]
    },
    {
     "name": "stdout",
     "output_type": "stream",
     "text": [
      " Great idea ! Riku , I could use the drink . \n"
     ]
    },
    {
     "name": "stderr",
     "output_type": "stream",
     "text": [
      "100%|██████████| 11118/11118 [2:55:04<00:00,  1.06it/s] \n"
     ]
    },
    {
     "name": "stdout",
     "output_type": "stream",
     "text": [
      "n train 87170\n"
     ]
    },
    {
     "name": "stderr",
     "output_type": "stream",
     "text": [
      "Found cached dataset daily_dialog (/home/john/.cache/huggingface/datasets/daily_dialog/default/1.0.0/1d0a58c7f2a4dab5ed9d01dbde8e55e0058e589ab81fce5c2df929ea810eabcd)\n",
      " 25%|██▌       | 252/1000 [04:24<15:57,  1.28s/it]"
     ]
    },
    {
     "name": "stdout",
     "output_type": "stream",
     "text": [
      " Good morning . I'd like to speak to Riku . Chen Please . \n"
     ]
    },
    {
     "name": "stderr",
     "output_type": "stream",
     "text": [
      "100%|██████████| 1000/1000 [17:02<00:00,  1.02s/it]\n",
      "Found cached dataset daily_dialog (/home/john/.cache/huggingface/datasets/daily_dialog/default/1.0.0/1d0a58c7f2a4dab5ed9d01dbde8e55e0058e589ab81fce5c2df929ea810eabcd)\n",
      " 24%|██▎       | 236/1000 [04:10<11:59,  1.06it/s]"
     ]
    },
    {
     "name": "stdout",
     "output_type": "stream",
     "text": [
      " Yes , please . I ’ m Mr . Riku , the Director of Personnel . What can I do for you ? \n"
     ]
    },
    {
     "name": "stderr",
     "output_type": "stream",
     "text": [
      "100%|██████████| 1000/1000 [26:34<00:00,  1.59s/it]\n"
     ]
    },
    {
     "name": "stdout",
     "output_type": "stream",
     "text": [
      "['##eta', '##ke', 'Jane', 'Hilda', '##yk', '##ley', 'Mussolini', 'Gran', 'Bull', 'Joan', 'Chu', 'L', 'Isa', 'Dong', 'Neil', '##ron', 'Del', 'Nigel', 'Robinson', 'Yuan', 'Dr', 'Marsh', '##v', '##rid', 'Rich', '##tin', 'Teddy', 'Gill', '##e', 'Hunter', 'Fu', 'Marilyn', 'Cry', 'Shield', 'God', 'Pierce', 'Susan', '##te', 'Mall', 'Barbara', 'Dan', 'Richardson', 'Mar', 'Calvin', 'Mom', 'Tony', '##rus', '##haw', 'Eliza', 'Mother', '##ely', 'Pen', '##don', 'No', 'Brent', 'Anna', '##rah', 'Jennings', 'Barker', '##ai', 'Me', 'Riley', '##lu', 'Mark', '##retta', 'Juan', 'Rose', '##ta', 'Carson', 'Megan', '##op', 'Am', 'Gerry', 'Kahn', 'Penny', 'Barack', 'Maggie', '##bin', 'Ban', 'Addison', '##rand', 'don', 'Matt', 'In', 'Lim', 'Fallen', 'Craig', '##ski', 'Gala', 'William', 'Drive', 'Kevin', 'Ford', 'Zhang', '##del', 'Chi', 'Archie', 'Division', 'Peck', 'Fernando', 'Lai', 'Lauren', 'Stevenson', 'Barbie', '##ugen', '##son', 'Stevens', 'Marshall', 'Cancer', 'Ka', 'Sun', 'Cynthia', 'Reynolds', 'Sa', '##zhen', 'C', 'Re', 'Fiona', 'Julia', 'Polly', '##fan', '##bie', 'Due', 'Montgomery', '##zy', 'Olga', 'V', 'Darling', 'Samuel', 'Sounds', 'Roy', 'Was', 'Dai', '##med', '##sso', 'Betty', 'Vivian', '##lea', 'Be', 'Bel', 'Henry', 'Arnold', '##h', 'Lewis', 'Co', '##cell', 'Colbert', 'Joy', '##z', '##mei', 'Herman', 'Lam', 'Douglas', 'Miriam', 'Phil', 'Phillip', 'Clare', '##ang', '##qua', 'Mason', 'Lil', 'Judy', 'Port', 'An', '##nis', 'Amelia', 'Parry', '##ie', 'Deborah', 'Forest', 'Shut', 'Abigail', 'car', '##via', '##rry', 'Rick', '##xton', 'Samantha', '##uk', 'Jessica', 'Kent', 'Hello', 'Carr', 'Tiffany', 'Pavel', 'Jing', 'Christine', 'Saunders', 'Hubert', 'Katie', 'Yes', '##less', 'Fe', 'Rudolph', 'Lindsay', '##ax', '##uil', '##ckett', 'Ko', '##im', '##bow', '##ford', 'Li', 'Watson', 'Mitchell', 'Sharon', 'Davies', 'Jul', 'Fred', '##vin', '##N', '##er', 'Ace', 'Roche', 'Jet', '##rik', 'Gray', 'Bach', 'Matthew', 'Lord', '##ham', 'Catherine', 'Owen', 'Tell', 'Myers', '##di', 'Gao', 'Mel', 'Chaplin', 'ma', '##zie', '##ll', 'Pa', '##i', 'Westwood', 'Shirley', 'Johns', 'Steven', 'Buy', 'Juliet', '##bu', 'Pet', 'Miles', 'Kitty', 'Over', '##u', 'Friedman', 'The', 'Daddy', 'Ernest', '##g', '##p', 'Hong', 'Stern', 'Ryan', '##val', 'Peters', 'Roll', 'Angie', 'Nancy', '##llon', 'Dorothy', '##ene', 'Margaret', 'Word', 'Linda', 'Holly', 'Mona', 'Charles', 'Maria', 'Laura', '##bo', 'Hamilton', 'Carter', '##ia', '##gen', 'Naomi', 'Tor', 'Shen', 'Tang', 'Moon', 'Gustav', 'David', 'Ross', '##vir', 'Fang', 'Todd', 'Willow', 'Soft', 'Jeff', '##uh', 'Chen', '##d', 'Doctor', '##id', 'Grandma', '##an', 'Miss', 'Jessie', 'Justin', 'Allison', '##ias', 'Elaine', 'Andrew', 'Weiss', 'Chuck', '##ies', 'Willis', 'Dale', 'Claus', '##r', 'Pit', '##rden', 'Heath', 'Brand', 'Yi', '##line', 'Erica', 'Hank', '##ulo', '##hit', 'Hang', 'Leonard', 'Obama', 'Zheng', 'Stone', 'Toni', 'Mile', 'Op', 'Ward', 'Mu', 'Ok', '##band', 'Mara', 'Laurence', 'Ana', 'Hughes', '##ns', 'Nathaniel', 'Jones', 'Ra', '##uku', '##hui', '##uta', 'Fairbanks', 'Armstrong', 'Rock', 'Al', 'Mai', '##ex', 'Vita', 'Rosemary', 'Jacobs', 'Ted', 'Vic', '##erry', 'Mozart', 'Lester', 'Sky', 'Aunt', 'Greenwood', 'Tyler', 'Cell', 'Edwards', 'Ch', 'Cohen', 'Francis', 'London', 'Irene', '##ess', '##aki', 'Patterson', 'Walker', 'Columbus', '##rt', 'Jackie', 'Sarah', 'Robert', 'Nick', 'Stacy', 'Sweeney', 'Vale', '##onda', 'Melinda', 'Na', 'Cole', 'Mei', 'Wright', 'W', 'Jimmy', '##ola', 'Stephan', 'Anthony', 'Arm', 'Baron', 'Sal', 'Lydia', 'Run', 'Lulu', 'Nathan', '##na', '##els', 'Dal', '##k', '##icus', 'Wharton', 'Berger', 'Natasha', 'Sea', 'Churchill', 'Sting', 'Mouse', 'Ari', 'Jesse', 'Mr', 'Parker', 'Grace', 'Mill', 'Zach', 'Jerry', 'At', 'Katherine', 'Carla', 'Carole', 'Den', '##sson', 'Dolly', '##mler', 'Nelson', 'Ye', 'Blue', 'Bible', 'Carmichael', 'Tad', '##feld', 'Gang', 'Jake', 'Geoff', 'Flora', '##ik', '##bble', 'Chandler', 'Pauline', '##hone', '##eal', 'Michelle', 'Leslie', 'Bernie', 'Andy', 'Alexander', '##bi', 'Levin', 'Want', 'Domingo', 'Zoe', 'Knight', 'Brittany', '##le', 'Mary', 'Eric', 'Po', '.', 'Had', 'Becker', 'Clark', '##nea', 'Child', 'Dancer', 'Webber', 'Silk', 'Myra', '##wood', 'Dead', 'Tara', 'Do', 'Donald', 'Sylvester', 'Bon', 'Drummond', 'Nina', 'Debbie', '##smo', 'Clive', 'Sydney', 'Flash', 'Nan', '##ub', '##vo', 'Phoebe', 'Mabel', 'Dominic', 'Randy', 'Mac', 'Nora', 'Kathy', 'Yahoo', 'Cathy', 'Fay', 'Rita', 'Hilary', '##ett', 'Darren', '##H', 'Sandy', 'Murphy', 'Ji', 'Ha', 'U', 'Gates', 'Lucas', 'Adams', '##en', 'Black', 'Anita', '##ube', 'Twin', 'Short', 'Men', '##pp', 'Dennis', 'Clarke', 'Michael', 'Abby', 'Ball', 'Lawson', 'Tiger', 'Hanson', '##ra', '##ggy', '##ike', 'Yo', 'P', 'McGrath', '##rman', 'Celia', '##ico', 'Sam', 'Ya', 'Kennedy', '##co', 'Parsons', 'Marty', 'Ce', 'Bar', '##hwa', 'Ella', 'Brooke', 'Edgar', 'Si', '##mi', 'Bobby', 'Cheng', 'Lao', '##iff', 'Big', 'Felix', 'Aaron', '##ge', 'Bros', '##ira', '##varo', 'Cook', 'Eye', 'Devi', 'Woody', 'Pan', 'Did', 'What', 'Franklin', 'Roman', 'Carolyn', 'Ben', 'Ethel', '##iber', '##ce', 'Shaw', 'Herr', 'Ling', 'Foster', 'Connie', 'Santa', 'Bai', 'Von', '##dez', 'Jean', 'Coke', '##orse', 'Janice', 'Rob', 'Derek', 'Mars', 'Rebecca', 'Shakespeare', 'Lu', 'Sven', 'Denise', 'Joseph', 'Janet', 'Allen', 'Mister', '##n', 'Kris', 'Tin', 'Zhou', 'Eastwood', 'Hell', 'Taylor', 'John', 'Potter', 'Lamb', 'Goldman', 'Johnny', 'Robbins', '##rrow', 'Willie', 'X', 'Jason', 'Ethan', 'Dana', 'Ming', 'Eve', 'Holmes', 'Sang', 'Kaufman', 'Gina', 'Robin', 'Carey', 'Ashley', 'Cruise', 'Candy', '##iv', 'Cap', 'Ju', 'Charlotte', '##lin', 'Hart', 'Andrea', 'KC', 'Will', 'Reeves', 'Stephen', 'Eileen', '##ric', '##ker', 'Shan', '##ba', 'Harold', '##ucci', '##rgen', 'Fitzgerald', 'Allan', 'Hawkins', 'Stewart', 'Stefan', '##sha', 'Alec', 'Lia', 'Sophie', 'My', 'Dave', 'Good', 'Stuart', 'Patricia', '##ston', 'de', 'Yan', 'Jordan', '##riel', 'Dev', 'Billy', 'Turn', 'Carl', 'Paul', 'Hal', 'Buddha', '##sman', '##se', 'Blanc', 'Melanie', 'Beast', '##run', 'Soo', \"'\", 'Reese', '##llers', 'N', 'McKenna', 'Fanny', 'Nicola', 'Suzuki', '##a', 'Thomson', 'Wallace', 'Wei', 'Lilly', 'Xi', 'Comet', 'Wang', 'Rice', 'Emma', '##ness', 'Boris', '##lberg', 'Sampson', 'Ed', '##sen', '##s', 'Rogers', 'Angelina', 'Bruno', '##ffy', '##lla', 'Larson', '##jun', 'Bo', 'Angela', 'Cain', 'Peterson', 'Annie', 'Meg', 'Christi', 'Superman', 'Edward', 'Jill', 'Shell', 'Clint', 'Simon', 'Casey', 'Carmen', 'Mali', 'Corey', '##les', 'Crane', 'Clinton', 'Philip', 'Sally', 'Yuri', 'Sue', '##ler', 'Gordon', 'Philips', 'Ellen', 'Julian', 'Gale', 'Winston', 'Amy', 'Colin', 'Bee', 'Cindy', 'Faye', 'Sidney', 'Ally', 'Jung', 'De', '##erly', 'Curtis', 'Huang', 'Gwen', 'Evans', 'OK', 'Lama', 'Liang', 'Adrian', 'Sammy', 'Meredith', 'Q', 'Trent', 'Teresa', 'Je', '##ton', '##bull', 'Pat', 'Wills', '##lis', '##tti', 'Ad', 'Hu', 'Randolph', 'Cal', 'Liv', 'Richards', '##gan', '##bana', '##on', '##lston', 'Bond', 'Fort', 'Parks', '##ian', 'Horton', 'Hepburn', 'Du', '##hes', 'Butcher', 'Kate', 'Galileo', 'Patty', '##yn', 'Quinn', 'Liz', '##ud', 'Sanders', '##el', '##o', 'Ping', 'Counter', 'Mon', 'You', '##vard', 'Kobe', 'Zhu', 'Mi', 'Hans', 'She', '##th', 'Young', '##iri', 'Cope', 'Tri', '##vi', 'Giovanni', 'Cody', 'Alice', '##ap', 'Spa', 'Gregory', '##fa', 'Ki', 'Jin', 'General', 'Hung', 'Bay', 'Amanda', 'Mum', 'Gretchen', 'Inc', 'Evan', 'Morgan', '##alis', 'Mo', 'Pam', '##rl', 'Can', 'Bart', 'Schneider', 'McDonald', 'Monroe', 'Maurice', 'Roberts', 'Dog', '##nen', 'Lesley', 'Patrick', 'Roger', 'Stephanie', 'Lance', '##als', '##ldred', '##rier', '##man', 'Bow', 'Erik', 'Jenny', 'Kathleen', 'Right', 'Charlie', 'Leo', 'Carol', 'Cat', 'Cy', 'Caroline', 'Wyatt', '##cliffe', 'Han', 'Claire', '##ini', 'Picasso', 'Check', 'White', 'Jack', 'Ellie', 'More', '##ming', 'Ivan', 'Conrad', 'Iris', 'ji', 'Kali', 'Hi', '##rte', '##kley', 'Yong', 'Solomon', 'Marco', '##gne', '##ienne', 'Washington', 'Petra', 'Ron', '##ally', 'Jen', 'Newman', 'Luke', 'He', 'Eva', 'Garry', 'Vincent', 'Presley', 'Howard', 'Patti', 'x', 'Marcia', 'Louise', '##dela', 'Ram', 'Tim', '##gles', 'Lori', 'Reeve', 'Kong', 'Sophia', '##ci', 'Jr', '##kim', 'Wendy', 'Song', 'Scott', '##ther', 'Ventura', 'Don', 'During', 'Helen', '##ino', 'Nicholas', 'Brown', 'Betsy', 'Maris', '##hl', 'Into', 'Gate', 'Ma', '##b', 'Harvard', 'Mendoza', '##way', '##W', 'Seymour', 'Simmons', 'Spears', '##all', 'Carlos', 'Green', 'Da', 'Hilton', '##Q', '##eel', '##ay', '##iggs', 'Barry', 'Tai', 'Rod', '##J', 'Carrie', '##rit', 'Richter', '##ney', 'Halle', 'Jackson', '##zon', 'Jacob', 'Xavier', 'Map', 'Vargas', 'Rama', '##hong', 'Sherman', 'Sullivan', '##c', '##kles', 'Alonso', '##he', 'Ava', '##rst', 'Isaiah', 'Carlton', 'May', 'Clyde', '##ats', 'E', 'Keith', 'Ernie', 'Lane', 'Got', '##rab', '##ryl', 'Jam', '##ers', 'Ruby', 'Daisy', '##yre', '##by', '##ries', 'Edwin', 'Dixon', 'Ralph', 'Ali', 'Phillips', '##ory', 'Benjamin', 'Dawson', '##f', 'Fen', '##am', '##do', 'Lisa', 'Martin', 'Ultra', 'Sterling', 'Hunt', '##ist', '##gado', 'Lillian', 'Elton', 'Pay', 'Mad', 'Stanley', 'Mao', '##ear', 'Madame', '##ji', 'Karl', '##aw', 'Monica', 'Grant', 'Veronica', '##dl', 'Neville', 'Graham', 'Gary', 'Kurt', 'Christina', 'Isabel', 'Isabelle', 'Harry', '##da', 'Din', '##y', 'Jon', '’', 'Lo', 'Lodge', 'Too', 'Suit', 'ch', 'Andrews', 'Blair', 'Card', 'Yu', 'Jay', 'Larry', '##ling', '##az', 'Chang', 'Chan', 'Fields', 'D', 'Schmidt', 'Call', '##harine', 'Locke', '##throp', 'Pierre', 'Johnson', 'Sound', 'So', '##gger', '##lor', 'Z', 'Uncle', '##nto', '##ui', 'Rodriguez', 'Must', 'R', 'Diego', 'Christy', '##rz', 'Harper', 'Terry', 'Tom', 'Nicole', 'Super', '##nap', '##lma', 'Rochester', '##era', 'Far', 'Rocky', '##laus', 'Sand', 'Leah', 'Owens', 'Mitch', 'Jeremy', 'Win', 'Serena', '##mit', 'Nova', 'Susie', 'Jim', 'Brenda', 'Adam', '##mington', 'Malik', 'Shelley', 'Eli', 'Thompson', 'Santos', 'Bean', '##hn', 'Edith', 'Milton', 'Lee', '##lins', 'S', 'Robson', 'Dean', 'Leon', 'Qi', 'Bali', '##chi', '##lie', 'Powell', '##frey', 'Joanna', 'Farm', '##read', 'Smith', 'Elvis', 'Richard', 'Melissa', 'Collins', '##ew', 'Jess', '##ery', '##nso', 'Ricky', 'Con', 'Gibson', 'Williams', 'Eddy', 'Kerry', 'Di', 'Min', '##ks', 'Hill', '##aen', 'Tan', 'Tu', '##ys', '##si', 'Bruce', '##lop', '##cha', 'Red', 'Monk', 'Jo', 'Finn', 'Kim', 'Cooper', '##qui', 'G', '##one', '##ty', '##lder', 'Master', 'Abraham', 'Mandy', 'Campbell', '##lle', 'Pope', '##rn', 'April', 'Car', 'George', '##lson', 'Wen', 'Tao', 'Evelyn', 'Holiday', 'Man', 'Ann', 'Tina', 'Say', 'La', 'Henderson', 'Compton', '##olo', 'Sheila', 'Stacey', 'Wood', 'Harrison', 'Reds', 'Doug', '##mu', 'Hammer', '##ina', 'Dick', 'Pond', 'Anne', 'Ferris', 'Bin', 'Deck', 'Diane', 'Kat', 'Em', 'Baker', '##aldo', 'Frank', 'Snow', '##iko', 'Pitt', '##ito', 'Jamie', 'Liu', '##roy', 'Jesus', 'Phyllis', 'Isaac', 'Luther', 'Burton', 'Le', '##lli', 'Josh', 'Vince', 'Keller', '##ng', 'El', 'Danny', 'Greg', 'Logan', 'Long', 'B', 'Wayne', 'Sandra', '##or', 'James', 'Falls', 'Mike', 'Cha', 'Fan', 'Saint', 'Franco', 'Grandpa', 'Chris', '##ri', 'Sean', 'Maddie', '##ro', '##gni', 'Madison', 'w', 'Kit', 'Hugh', 'Land', 'Yang', 'Fr', 'Thomas', 'Mia', '##adi', 'Tracy', 'Alison', 'Violet', '##ur', 'Wu', 'Stein', 'Forster', 'Lin', 'Darryl', 'Christopher', 'Jan', 'Hero', 'Millie', '##ure', 'Karen', '##my', '##wain', 'Wallis', 'Victoria', 'Edison', 'Vanessa', 'Ash', '##ha', 'Gail', 'Doris', 'Victor', 'Yvonne', 'Mickey', '##uc', 'Duncan', 'Bryan', 'Otis', 'Bates', 'Beth', 'Tomas', 'gun', 'Basil', 'Jun', '##ti', 'Troy', 'En', 'Mick', 'Jared', 'Jazz', 'Yao', 'Morris', '##wang', '##row', '##ip', 'Atlas', 'Morley', 'Ni', 'Ho', 'Steve', 'Dylan', 'King', 'F', 'Pratt', 'Rudy', 'Hancock', 'M', 'Eddie', '##rro', '##ssa', 'Joanne', 'Emerson', 'A', 'Bryant', 'ben', 'Brooks', 'Winner', 'Connor', '##roft', 'Xiao', 'Tarzan', 'Ba', 'Chloe', 'Nature', '##rre', 'Brian', '##lan', 'Bradley', 'Albert', 'Bing', 'Belinda', 'Jenkins', 'Walter', 'Rubin', '##lene', 'Bell', '##nco', 'J', '##han', 'Kramer', 'Joshua', 'Christian', 'Ty', 'Lea', 'you', 'Anderson', 'Brain', 'Than', 'Kara', 'Woods', '##uan', 'Beethoven', 'Josephine', 'Connell', 'Harris', 'Paula', 'Grey', '##wal', 'Whitney', 'Ruth', 'Dar', '##ack', '##ping', 'Mind', 'Ke', 'Peter', 'Brad', 'Xu', '##ans', 'Heather', 'that', 'Morrison', 'Gross', '##m', 'Day', 'Bird', 'Marie', '##cea', 'Lucy', 'Horn', 'Daniel', '##pal', '##fer', '##ril', 'Kai', 'Dickens', '##ar', 'Dion', 'Ku', 'McCain', '##itz', 'Edna', '##um', '##Dowell', 'Max', 'Vera', 'Achilles', 'St', 'Martha', 'Rachel', '##ain', 'Alex', 'Jameson', 'Simpson', 'Mario', 'Laurie', 'Joey', 'hi', '##ert', 'Higgins', 'Grange', 'Toby', 'Isabella', '##ne', '##wright', '##tz', 'Briggs', 'Willy', 'Church', '##mba', 'Su', 'Haven', 'Ray', 'Joe', 'Elizabeth', 'Monte', '##ow', '##tt', 'Gavin', 'Forrest', 'Paulo', 'Dad', '##ac', 'Arthur', 'Pacific', 'Julie', 'Fox', 'Diana', '##du', '##ye', 'Pete', 'Vicky', 'Austen', 'Waters', 'Hui', '##t', 'Drake', '##lbert', 'Trevor', 'Wall', '##sal', 'Devon', 'Wong', 'Prince', '##xia', 'Emily', 'Ren', 'Willard', 'Benson', '##lta', 'Per', 'Jude', '##ulin', '##chen', 'Pamela', 'Bat', '##rle', 'Dante', 'Bob', 'Blake', 'Valerie', 'Alan', '##dale', 'Hayes', 'Bill', 'Tommy', '##zu', 'Norton', 'Hat', 'Lau', 'McBride', 'Hopkins', 'Roth', '##mo', 'Hall', '##yd', 'Marian', 'Kenny', 'Neal', 'Dora', 'Lincoln', 'Pink', 'Dome', 'Tong', '##K', 'Kelly', 'Hudson', 'T', '##tly', 'Se', 'Pol', 'ka', 'Davis', 'Bush', 'K', 'Mat', 'Arts', '##witz', 'Winter', '##owski', 'Donna', 'Sara', 'Ken', 'Wilson', 'Lily', 'Hey', '##allo', 'Cho', 'Harvey', '##ry', 'Macmillan', 'Enrique', '##pie', 'Becky', '##san', '##pa', 'Newton', 'Rodgers', 'Fi', 'Tristan', 'Jennifer', 'Cameron', 'Miller', 'I', 'H', 'Anger', '##land', 'Christ', 'Ham', 'Sc', 'Nikki', '##in', 'Luc', 'O']\n",
      "train label dist. Counter({0: 72143, 4: 72143, 6: 72143, 3: 72143, 2: 72143, 5: 72143, 1: 72143})\n",
      "              precision    recall  f1-score   support\n",
      "\n",
      "           0       0.93      0.60      0.73      6321\n",
      "           1       0.14      0.51      0.22       118\n",
      "           2       0.12      0.38      0.18        47\n",
      "           3       0.11      0.53      0.18        17\n",
      "           4       0.40      0.67      0.50      1019\n",
      "           5       0.10      0.57      0.17       102\n",
      "           6       0.09      0.51      0.15       116\n",
      "\n",
      "    accuracy                           0.61      7740\n",
      "   macro avg       0.27      0.54      0.30      7740\n",
      "weighted avg       0.82      0.61      0.67      7740\n",
      "\n"
     ]
    },
    {
     "name": "stderr",
     "output_type": "stream",
     "text": [
      "Found cached dataset daily_dialog (/home/john/.cache/huggingface/datasets/daily_dialog/default/1.0.0/1d0a58c7f2a4dab5ed9d01dbde8e55e0058e589ab81fce5c2df929ea810eabcd)\n",
      "  0%|          | 39/11118 [01:00<4:35:54,  1.49s/it]"
     ]
    },
    {
     "name": "stdout",
     "output_type": "stream",
     "text": [
      " Great idea ! Riku , I could use the drink . \n",
      "4  Great idea ! Riku , I could use the drink .   How about the new bar across road ? \n"
     ]
    },
    {
     "name": "stderr",
     "output_type": "stream",
     "text": [
      "  3%|▎         | 318/11118 [08:05<4:52:24,  1.62s/it] "
     ]
    },
    {
     "name": "stdout",
     "output_type": "stream",
     "text": [
      "Did you hear Riku just retired ? \n"
     ]
    },
    {
     "name": "stderr",
     "output_type": "stream",
     "text": [
      "  4%|▍         | 441/11118 [09:52<3:10:22,  1.07s/it]"
     ]
    },
    {
     "name": "stdout",
     "output_type": "stream",
     "text": [
      "Who broke the glass , Riku ? \n"
     ]
    },
    {
     "name": "stderr",
     "output_type": "stream",
     "text": [
      "  4%|▍         | 468/11118 [10:29<4:18:14,  1.45s/it]"
     ]
    },
    {
     "name": "stdout",
     "output_type": "stream",
     "text": [
      "0  Well , so long , Mary . Have fun .   You too , Riku . Give my regards to John . I'll see you in September . \n"
     ]
    },
    {
     "name": "stderr",
     "output_type": "stream",
     "text": [
      "  5%|▍         | 520/11118 [11:20<1:42:21,  1.73it/s]"
     ]
    },
    {
     "name": "stdout",
     "output_type": "stream",
     "text": [
      "Riku and Mary broke up . \n"
     ]
    },
    {
     "name": "stderr",
     "output_type": "stream",
     "text": [
      "  6%|▌         | 653/11118 [13:20<2:04:57,  1.40it/s]"
     ]
    },
    {
     "name": "stdout",
     "output_type": "stream",
     "text": [
      " Great idea ! Riku , I could use the drink . \n",
      "4  Great idea ! Riku , I could use the drink .   How about the new bar across road ? \n"
     ]
    },
    {
     "name": "stderr",
     "output_type": "stream",
     "text": [
      " 10%|▉         | 1076/11118 [19:57<4:47:10,  1.72s/it]"
     ]
    },
    {
     "name": "stdout",
     "output_type": "stream",
     "text": [
      "0  Who's coming ?   Riku.Riku Brown , you know.Don ' t forget to bring the letter . \n",
      "0  Who's coming ?   Riku.Riku Brown , you know.Don ' t forget to bring the letter . \n",
      "0  Riku.Riku Brown , you know.Don ' t forget to bring the letter .   Sorry . I didn't quite catch what you said.There ' s a lot of noise outside . \n",
      "0  Riku.Riku Brown , you know.Don ' t forget to bring the letter .   Sorry . I didn't quite catch what you said.There ' s a lot of noise outside . \n"
     ]
    },
    {
     "name": "stderr",
     "output_type": "stream",
     "text": [
      " 18%|█▊        | 1966/11118 [34:40<2:45:30,  1.09s/it]"
     ]
    },
    {
     "name": "stdout",
     "output_type": "stream",
     "text": [
      "0  All right .   Riku ! Pack them . Don't read them . \n"
     ]
    },
    {
     "name": "stderr",
     "output_type": "stream",
     "text": [
      " 19%|█▉        | 2109/11118 [36:55<2:45:24,  1.10s/it]"
     ]
    },
    {
     "name": "stdout",
     "output_type": "stream",
     "text": [
      "4  I think you can say your seventh great grandfather ! Cutie ! What's his name ?   Riku Madsen . A great A if I do say so myself . \n",
      "0  Riku Madsen . A great A if I do say so myself .   Nice pun . What is it you active about him most ? \n"
     ]
    },
    {
     "name": "stderr",
     "output_type": "stream",
     "text": [
      " 19%|█▉        | 2131/11118 [37:12<2:04:01,  1.21it/s]"
     ]
    },
    {
     "name": "stdout",
     "output_type": "stream",
     "text": [
      " Thank you , Riku . Come into the dining room . We are going to cut the cake soon . \n",
      "4  Thank you , Riku . Come into the dining room . We are going to cut the cake soon .   Ok , who is that girl ? \n"
     ]
    },
    {
     "name": "stderr",
     "output_type": "stream",
     "text": [
      " 20%|█▉        | 2202/11118 [38:17<2:19:54,  1.06it/s]"
     ]
    },
    {
     "name": "stdout",
     "output_type": "stream",
     "text": [
      "Hi , Riku . I ’ m afraid I can ’ t make it to dinner tomorrow night . \n"
     ]
    },
    {
     "name": "stderr",
     "output_type": "stream",
     "text": [
      " 21%|██        | 2358/11118 [40:54<2:07:39,  1.14it/s]"
     ]
    },
    {
     "name": "stdout",
     "output_type": "stream",
     "text": [
      "Riku is a bag lady now . \n"
     ]
    },
    {
     "name": "stderr",
     "output_type": "stream",
     "text": [
      " 24%|██▍       | 2675/11118 [45:59<1:55:35,  1.22it/s]"
     ]
    },
    {
     "name": "stdout",
     "output_type": "stream",
     "text": [
      "What is wrong with Riku ? He sure looks unhappy . \n"
     ]
    },
    {
     "name": "stderr",
     "output_type": "stream",
     "text": [
      " 24%|██▍       | 2677/11118 [46:00<1:17:52,  1.81it/s]"
     ]
    },
    {
     "name": "stdout",
     "output_type": "stream",
     "text": [
      "Riku , which club do you want to join ? \n"
     ]
    },
    {
     "name": "stderr",
     "output_type": "stream",
     "text": [
      " 27%|██▋       | 2989/11118 [50:44<2:12:51,  1.02it/s]"
     ]
    },
    {
     "name": "stdout",
     "output_type": "stream",
     "text": [
      "Hi ! Riku . How are you ? \n"
     ]
    },
    {
     "name": "stderr",
     "output_type": "stream",
     "text": [
      " 27%|██▋       | 2994/11118 [50:52<3:59:06,  1.77s/it]"
     ]
    },
    {
     "name": "stdout",
     "output_type": "stream",
     "text": [
      " Hi , Riku . I didn't see you last night . Where did you go ? \n",
      "0  Hi , Riku . I didn't see you last night . Where did you go ?   I was almost on line the whole night . \n"
     ]
    },
    {
     "name": "stderr",
     "output_type": "stream",
     "text": [
      " 29%|██▉       | 3266/11118 [55:31<2:51:28,  1.31s/it]"
     ]
    },
    {
     "name": "stdout",
     "output_type": "stream",
     "text": [
      " Thank you , Riku . \n",
      "4  Thank you , Riku .   Oh , let's come in and enjoy yourself . \n",
      "4  Oh , let's come in and enjoy yourself .   Happy birthday , Riku , and many happy returns of the day . Here's a present for you . \n",
      "4  Happy birthday , Riku , and many happy returns of the day . Here's a present for you .   Thank you , Li Mei . Come into the dining room . I'm going to cut the cake soon . \n"
     ]
    },
    {
     "name": "stderr",
     "output_type": "stream",
     "text": [
      " 30%|██▉       | 3293/11118 [56:04<2:39:13,  1.22s/it]"
     ]
    },
    {
     "name": "stdout",
     "output_type": "stream",
     "text": [
      "Riku really is a remarkable expert ! There is very little he doesn ’ t know . \n"
     ]
    },
    {
     "name": "stderr",
     "output_type": "stream",
     "text": [
      " 31%|███       | 3459/11118 [1:00:06<4:13:56,  1.99s/it]"
     ]
    },
    {
     "name": "stdout",
     "output_type": "stream",
     "text": [
      "Riku , have you finished your English composition ? \n"
     ]
    },
    {
     "name": "stderr",
     "output_type": "stream",
     "text": [
      " 31%|███▏      | 3495/11118 [1:00:53<2:33:01,  1.20s/it]"
     ]
    },
    {
     "name": "stdout",
     "output_type": "stream",
     "text": [
      " Nice to see you again , too . Riku . How's your family ? \n"
     ]
    },
    {
     "name": "stderr",
     "output_type": "stream",
     "text": [
      " 31%|███▏      | 3496/11118 [1:00:55<2:35:06,  1.22s/it]"
     ]
    },
    {
     "name": "stdout",
     "output_type": "stream",
     "text": [
      "0  Nice to see you again , too . Riku . How's your family ?   Very well . How's Mrs . Clinton ? \n"
     ]
    },
    {
     "name": "stderr",
     "output_type": "stream",
     "text": [
      " 36%|███▋      | 4037/11118 [1:15:50<3:56:25,  2.00s/it] "
     ]
    },
    {
     "name": "stdout",
     "output_type": "stream",
     "text": [
      "0  Oh ! I forgot all about it . Of course you can have it back , John . I'm sorry about the delay .   Well , it doesn't matter . I almost forgot it too if it is not for Riku who asked me about it this coming . \n"
     ]
    },
    {
     "name": "stderr",
     "output_type": "stream",
     "text": [
      " 37%|███▋      | 4075/11118 [1:17:08<5:45:01,  2.94s/it]"
     ]
    },
    {
     "name": "stdout",
     "output_type": "stream",
     "text": [
      "So Riku , do you have a favorite comedy ? \n"
     ]
    },
    {
     "name": "stderr",
     "output_type": "stream",
     "text": [
      " 41%|████      | 4572/11118 [1:33:20<3:58:52,  2.19s/it] "
     ]
    },
    {
     "name": "stdout",
     "output_type": "stream",
     "text": [
      "0  OK , I suppose , but she's had a rough time in the last few years , She got divorced .   What , from Riku ? \n",
      "0  What , from Riku ?   Oh , of course . \n"
     ]
    },
    {
     "name": "stderr",
     "output_type": "stream",
     "text": [
      " 43%|████▎     | 4807/11118 [1:40:37<10:57:45,  6.25s/it]"
     ]
    },
    {
     "name": "stdout",
     "output_type": "stream",
     "text": [
      "Well , Riku , you have to do better than that next time , won ’ t you ? \n"
     ]
    },
    {
     "name": "stderr",
     "output_type": "stream",
     "text": [
      " 43%|████▎     | 4828/11118 [1:42:49<12:28:41,  7.14s/it]"
     ]
    },
    {
     "name": "stdout",
     "output_type": "stream",
     "text": [
      "Well , Riku . I'm sorry you're ill . What's the matter with you ? \n"
     ]
    },
    {
     "name": "stderr",
     "output_type": "stream",
     "text": [
      " 44%|████▍     | 4903/11118 [1:45:46<2:44:49,  1.59s/it] "
     ]
    },
    {
     "name": "stdout",
     "output_type": "stream",
     "text": [
      "Well , Riku , you have to do better than that next time , won't you ? \n"
     ]
    },
    {
     "name": "stderr",
     "output_type": "stream",
     "text": [
      " 44%|████▍     | 4916/11118 [1:46:07<2:22:11,  1.38s/it]"
     ]
    },
    {
     "name": "stdout",
     "output_type": "stream",
     "text": [
      "0  Did someone get hurt ?   A driver died instantly . The other one was badly hurt . A poor boy called Riku was killed in the accident too . \n",
      "0  A driver died instantly . The other one was badly hurt . A poor boy called Riku was killed in the accident too .   What a terrible accident ! Who should be responsible for this traffic accident ? \n"
     ]
    },
    {
     "name": "stderr",
     "output_type": "stream",
     "text": [
      " 45%|████▍     | 4977/11118 [1:47:46<3:24:03,  1.99s/it]"
     ]
    },
    {
     "name": "stdout",
     "output_type": "stream",
     "text": [
      "Hello , I'm sorry for calling this late . May I speak to Riku ? \n"
     ]
    },
    {
     "name": "stderr",
     "output_type": "stream",
     "text": [
      " 45%|████▌     | 5050/11118 [1:49:27<1:30:45,  1.11it/s]"
     ]
    },
    {
     "name": "stdout",
     "output_type": "stream",
     "text": [
      "Take care , Riku . Don't run so fast.Are you tired ? \n"
     ]
    },
    {
     "name": "stderr",
     "output_type": "stream",
     "text": [
      " 46%|████▌     | 5113/11118 [1:51:48<3:04:51,  1.85s/it]"
     ]
    },
    {
     "name": "stdout",
     "output_type": "stream",
     "text": [
      "Look , who's here , Riku ! \n"
     ]
    },
    {
     "name": "stderr",
     "output_type": "stream",
     "text": [
      " 48%|████▊     | 5317/11118 [1:58:21<2:44:27,  1.70s/it]"
     ]
    },
    {
     "name": "stdout",
     "output_type": "stream",
     "text": [
      " It's Riku's turn . \n",
      "0  It's Riku's turn .   Give the mike to him . \n"
     ]
    },
    {
     "name": "stderr",
     "output_type": "stream",
     "text": [
      " 52%|█████▏    | 5757/11118 [2:12:54<3:39:21,  2.46s/it] "
     ]
    },
    {
     "name": "stdout",
     "output_type": "stream",
     "text": [
      "0  Good morning ! Welcome to our office !   Nice to meet you ! My name is Riku Smith . \n",
      "0  Nice to meet you ! My name is Riku Smith .   Nice to meet you too ! I am George Williams . \n"
     ]
    },
    {
     "name": "stderr",
     "output_type": "stream",
     "text": [
      " 55%|█████▌    | 6123/11118 [2:24:40<2:17:32,  1.65s/it] "
     ]
    },
    {
     "name": "stdout",
     "output_type": "stream",
     "text": [
      "Riku , I hope you will accept my quotation for the air freshener . \n",
      "0  Then , I am sorry to say I must regretfully decline your offer and seek quotations for the other suppliers .   I'm sorry , Riku . I hope you'll continue to approach us on other occasions if you cannot accept our offer now . \n",
      "0  I'm sorry , Riku . I hope you'll continue to approach us on other occasions if you cannot accept our offer now .   Yes . I'll welcome other opportunities to do business with you . \n"
     ]
    },
    {
     "name": "stderr",
     "output_type": "stream",
     "text": [
      " 55%|█████▌    | 6147/11118 [2:25:18<1:53:26,  1.37s/it]"
     ]
    },
    {
     "name": "stdout",
     "output_type": "stream",
     "text": [
      "Riku , listen to the lyrics of this song . \n"
     ]
    },
    {
     "name": "stderr",
     "output_type": "stream",
     "text": [
      " 56%|█████▌    | 6216/11118 [2:27:44<2:49:04,  2.07s/it]"
     ]
    }
   ],
   "source": [
    "r_all = train(who='all', n_samples=None, fp='data/all.pkl') # anonymise everyone\n",
    "r_rare = train(who='rare_once', n_samples=None, fp='data/rare_once.pkl') # anoymise everyone only inser the rare name once\n"
   ]
  },
  {
   "cell_type": "code",
   "execution_count": null,
   "metadata": {},
   "outputs": [],
   "source": [
    "r_noone = train(who='noone', n_samples=None, fp='data/noone.pkl') # anonymise nobody"
   ]
  },
  {
   "cell_type": "markdown",
   "metadata": {},
   "source": [
    "# Evaluate label flipping"
   ]
  },
  {
   "cell_type": "code",
   "execution_count": 13,
   "metadata": {},
   "outputs": [],
   "source": [
    "from scipy.stats import entropy\n",
    "from sklearn.metrics import accuracy_score\n",
    "\n",
    "def evaluate(fp):\n",
    "\n",
    "    f = open(fp, 'rb')\n",
    "    clf, vec, removed_names, X_train_tfidf, df_train, X_test_tfidf, df_test = pickle.load(f)\n",
    "    f.close()\n",
    "\n",
    "    explainer = shap.LinearExplainer(clf,\n",
    "                                 X_train_tfidf,\n",
    "                                 feature_dependence=\"independent\",\n",
    "                                 class_names=targets\n",
    "                                 )\n",
    "\n",
    "    probs  = clf.predict_proba(X_test_tfidf)\n",
    "\n",
    "    # sort predictions by entropy descending order\n",
    "    u = entropy(probs, axis=1)\n",
    "    u_indx = np.argsort(u)[::-1]\n",
    "    u_text = df_test.text.to_numpy()[u_indx]\n",
    "\n",
    "    # print top 5 most informative predictions\n",
    "    print(u_text[:5])\n",
    "\n",
    "    # Names which NER removed but are not names\n",
    "    blacklist = ['Mr', 'Call', 'Long', 'My', 'Car', 'He', 'Mum', 'Black', 'Drive', 'White', 'Ma', 'Z', 'B', 'Sun', '.'\n",
    "        'Mad',\n",
    "        'Mon',\n",
    "        'Cat',\n",
    "        'Ball',\n",
    "        'Hell',\n",
    "        'Sounds',\n",
    "        'Shut',\n",
    "        'Aunt',\n",
    "        'Rich',\n",
    "        'Map',\n",
    "        'Kitty',\n",
    "        'Dead',\n",
    "        'God',\n",
    "        'Uncle',\n",
    "        'Don',\n",
    "        'Pink',\n",
    "        'Elvis',\n",
    "        'Na',\n",
    "        'Ad',\n",
    "        'Smith',\n",
    "        'Ward',\n",
    "        'Lord',\n",
    "        'Jin',\n",
    "        'gun',\n",
    "                 ]\n",
    "\n",
    "    # Create a white list\n",
    "    whitelist = []\n",
    "\n",
    "    for name in removed_names:\n",
    "        if '#' not in name:\n",
    "            whitelist.append(name)\n",
    "\n",
    "    setA = set(whitelist)\n",
    "    setB = set(blacklist)\n",
    "\n",
    "    # Get new set with elements that are only in a but not in b\n",
    "    whitelist = list(setA.difference(setB))\n",
    "\n",
    "    # Number of best predictions to check for label flipping\n",
    "    top_pred = 3\n",
    "    summary_plot = False\n",
    "\n",
    "    names = ['', 'NAME', hard_name] + whitelist\n",
    "\n",
    "    # top k highest entropy sentences\n",
    "    entropy_k = 10\n",
    "    sentences = u_text[:entropy_k]\n",
    "    # predictions for all names, test sets\n",
    "    preds = []\n",
    "\n",
    "    for name in names:\n",
    "\n",
    "        # add the name to start of every sentence\n",
    "        test_sentences = [f'{name} {sentence}' for sentence in sentences]\n",
    "\n",
    "        # get features\n",
    "        test_sentences = vec.transform(test_sentences)\n",
    "\n",
    "        # explain features\n",
    "        shap_values = explainer.shap_values(test_sentences)\n",
    "\n",
    "        X_test_array = test_sentences.toarray()\n",
    "\n",
    "        if summary_plot:\n",
    "            [print(test_sentence) for test_sentence in test_sentences[:5]]\n",
    "            shap.summary_plot(shap_values,\n",
    "                            X_test_array,\n",
    "                            feature_names=vec.get_feature_names_out(),\n",
    "                            class_names=targets)\n",
    "        \n",
    "        out = clf.predict(test_sentences)\n",
    "        probs = clf.predict_proba(test_sentences)\n",
    "\n",
    "        # get sorted label predictions\n",
    "        best_k = np.argsort(probs, axis=1)[:, ::-1]\n",
    "\n",
    "        preds.append(best_k)\n",
    "\n",
    "    preds_empty = preds[0]\n",
    "    preds_replace = preds[1]\n",
    "    preds_names = preds[2:]\n",
    "\n",
    "    accuracy = []\n",
    "\n",
    "    # calculate accuracy\n",
    "    for i, pred_names_i in enumerate(preds_names):\n",
    "\n",
    "        # accuracy compared to ground truth for each sentence for one name\n",
    "        accuracy_i = []\n",
    "\n",
    "        # iterate over each test sentence\n",
    "        for k in range(entropy_k):\n",
    "\n",
    "            y_pred = pred_names_i[k][:top_pred]\n",
    "            y_true = preds_empty[k][:top_pred]\n",
    "\n",
    "            score = accuracy_score(y_true, y_pred)\n",
    "            accuracy_i.append(score)\n",
    "        \n",
    "        accuracy.append(accuracy_i)\n",
    "\n",
    "    mean_score = np.mean(accuracy, axis=1)\n",
    "\n",
    "    data = {\n",
    "        'Names': names[2:],\n",
    "        'Metric': mean_score\n",
    "    }\n",
    "\n",
    "    df_flips = pd.DataFrame(data)\n",
    "    df_flips = df_flips.sort_values('Metric').reset_index(drop=True)\n",
    "    with pd.option_context('display.max_rows', None,\n",
    "                        'display.max_columns', None,\n",
    "                        'display.precision', 3,\n",
    "                        ):\n",
    "        print(df_flips)\n"
   ]
  },
  {
   "cell_type": "code",
   "execution_count": 14,
   "metadata": {},
   "outputs": [
    {
     "name": "stderr",
     "output_type": "stream",
     "text": [
      "The option feature_dependence has been renamed to feature_perturbation!\n",
      "The option feature_perturbation=\"independent\" is has been renamed to feature_perturbation=\"interventional\"!\n",
      "The feature_perturbation option is now deprecated in favor of using the appropriate masker (maskers.Independent, or maskers.Impute)\n"
     ]
    },
    {
     "name": "stdout",
     "output_type": "stream",
     "text": [
      "['6  I didn ’ t know it would be so big !   It is ! Look there , those are the tracks . And the jumping pit is over there . '\n",
      " '5  He ’ s the love of my life ! I ’ e really messed this up .   Come on , hon . Pull yourself together . It ’ s going to be alright . '\n",
      " '0  Did it scare you ?   Of course not . I just thought the movie was ... boring . '\n",
      " '2  That bad egg , who took the low road since he was a boy .   I think I must report to the cops . '\n",
      " \"0  Oh , yes . I remember it clearly . Is there anything wrong with it ?   I'm afraid so . We found this crack on the bottom when I went back to my hotel . \"]\n",
      "            Names  Metric\n",
      "0             Mad   0.067\n",
      "1           Huang   0.167\n",
      "2            Riku   0.200\n",
      "3              OK   0.200\n",
      "4             Min   0.200\n",
      "5              Ok   0.200\n",
      "6            Shan   0.200\n",
      "7             Wei   0.200\n",
      "8             Win   0.200\n",
      "9          Mister   0.200\n",
      "10            don   0.200\n",
      "11          Gross   0.200\n",
      "12           Coke   0.200\n",
      "13            Due   0.200\n",
      "14           Bill   0.233\n",
      "15           Song   0.233\n",
      "16         Church   0.233\n",
      "17            car   0.233\n",
      "18          Mouse   0.233\n",
      "19            Men   0.233\n",
      "20          Green   0.233\n",
      "21           Rice   0.233\n",
      "22            Sea   0.233\n",
      "23          Chang   0.233\n",
      "24           Mark   0.233\n",
      "25           Wood   0.233\n",
      "26           Bush   0.233\n",
      "27          Child   0.233\n",
      "28           Twin   0.233\n",
      "29           What   0.233\n",
      "30           Good   0.233\n",
      "31           Over   0.233\n",
      "32         Doctor   0.233\n",
      "33           Wang   0.233\n",
      "34            Eye   0.267\n",
      "35        Darling   0.267\n",
      "36        Grandpa   0.267\n",
      "37         Master   0.267\n",
      "38        General   0.267\n",
      "39            Lin   0.267\n",
      "40           Bull   0.267\n",
      "41            Man   0.267\n",
      "42         Cruise   0.267\n",
      "43            Tai   0.267\n",
      "44            Run   0.300\n",
      "45            Per   0.300\n",
      "46            Dad   0.300\n",
      "47           Jing   0.300\n",
      "48         Dancer   0.300\n",
      "49            Bat   0.300\n",
      "50          Sound   0.300\n",
      "51          Young   0.300\n",
      "52            Nan   0.300\n",
      "53           King   0.300\n",
      "54            Far   0.300\n",
      "55            Arm   0.300\n",
      "56           Must   0.300\n",
      "57             Li   0.300\n",
      "58           Blue   0.300\n",
      "59          Candy   0.300\n",
      "60            Day   0.333\n",
      "61            Rob   0.333\n",
      "62         Isabel   0.333\n",
      "63      Christian   0.333\n",
      "64           that   0.333\n",
      "65            Pan   0.333\n",
      "66            Sam   0.333\n",
      "67             Yo   0.333\n",
      "68            Jam   0.333\n",
      "69            Kit   0.333\n",
      "70            Mom   0.333\n",
      "71            Dog   0.333\n",
      "72        McGrath   0.333\n",
      "73          Billy   0.333\n",
      "74            Tom   0.333\n",
      "75             Ha   0.333\n",
      "76          Haven   0.333\n",
      "77        Grandma   0.333\n",
      "78            Hey   0.333\n",
      "79         Sydney   0.367\n",
      "80          Brown   0.367\n",
      "81           Hang   0.367\n",
      "82        Holiday   0.367\n",
      "83         Fields   0.367\n",
      "84            Pit   0.367\n",
      "85          Miles   0.367\n",
      "86          Parks   0.367\n",
      "87          Stone   0.367\n",
      "88          Anger   0.367\n",
      "89          Jenny   0.400\n",
      "90           Snow   0.400\n",
      "91         Winner   0.400\n",
      "92          Penny   0.400\n",
      "93           Gate   0.400\n",
      "94         Barbie   0.400\n",
      "95          Check   0.400\n",
      "96           Wall   0.400\n",
      "97           Cell   0.400\n",
      "98           Gray   0.400\n",
      "99            Chi   0.400\n",
      "100        Nature   0.400\n",
      "101          Cook   0.400\n",
      "102           Had   0.433\n",
      "103        Violet   0.433\n",
      "104         Daisy   0.433\n",
      "105           Sky   0.433\n",
      "106         Brain   0.433\n",
      "107           Inc   0.433\n",
      "108          Lamb   0.433\n",
      "109         April   0.433\n",
      "110          Turn   0.433\n",
      "111          Hero   0.433\n",
      "112        London   0.433\n",
      "113           Too   0.433\n",
      "114           you   0.433\n",
      "115           Red   0.433\n",
      "116          Suit   0.433\n",
      "117        Cancer   0.433\n",
      "118         Daddy   0.433\n",
      "119          Rose   0.433\n",
      "120           You   0.433\n",
      "121           Fan   0.433\n",
      "122       Harvard   0.433\n",
      "123           Bon   0.467\n",
      "124          Tell   0.467\n",
      "125           Mar   0.467\n",
      "126            Lu   0.467\n",
      "127           Joy   0.467\n",
      "128           Cap   0.467\n",
      "129          Land   0.467\n",
      "130         Woods   0.467\n",
      "131            Am   0.467\n",
      "132       Barbara   0.467\n",
      "133          Deck   0.467\n",
      "134          Than   0.467\n",
      "135         Nancy   0.467\n",
      "136         Tiger   0.467\n",
      "137          Bird   0.467\n",
      "138           Did   0.467\n",
      "139          Hong   0.467\n",
      "140            So   0.467\n",
      "141         Short   0.467\n",
      "142          Cole   0.467\n",
      "143          Kong   0.467\n",
      "144          Roll   0.467\n",
      "145           Cry   0.467\n",
      "146           Got   0.467\n",
      "147          Farm   0.467\n",
      "148       Lincoln   0.500\n",
      "149          Word   0.500\n",
      "150        Fallen   0.500\n",
      "151         Falls   0.500\n",
      "152           Bar   0.500\n",
      "153          Mike   0.500\n",
      "154           Say   0.500\n",
      "155          Moon   0.500\n",
      "156          Port   0.500\n",
      "157         Teddy   0.500\n",
      "158            Be   0.500\n",
      "159          Mill   0.500\n",
      "160           Tan   0.500\n",
      "161         Hello   0.500\n",
      "162          Hall   0.500\n",
      "163           Fox   0.500\n",
      "164          Hank   0.500\n",
      "165          Dong   0.500\n",
      "166        Winter   0.500\n",
      "167            Me   0.500\n",
      "168         Brand   0.500\n",
      "169          Hill   0.500\n",
      "170          Pond   0.500\n",
      "171          Bali   0.500\n",
      "172           Ham   0.533\n",
      "173           Ban   0.533\n",
      "174          More   0.533\n",
      "175          Anne   0.533\n",
      "176        Mother   0.533\n",
      "177           Rod   0.533\n",
      "178            Hi   0.533\n",
      "179            Ya   0.533\n",
      "180          Mile   0.533\n",
      "181        Hunter   0.533\n",
      "182          Sand   0.533\n",
      "183          Bean   0.533\n",
      "184            hi   0.533\n",
      "185         Frank   0.533\n",
      "186          Mind   0.533\n",
      "187           She   0.567\n",
      "188            No   0.567\n",
      "189           Hat   0.567\n",
      "190            Mi   0.567\n",
      "191            Dr   0.567\n",
      "192          Soft   0.567\n",
      "193            Re   0.567\n",
      "194           Jet   0.567\n",
      "195        Pierre   0.567\n",
      "196          Silk   0.567\n",
      "197            ma   0.567\n",
      "198           May   0.567\n",
      "199         Super   0.567\n",
      "200          Mary   0.600\n",
      "201          Lily   0.600\n",
      "202          Into   0.600\n",
      "203          Yuan   0.600\n",
      "204          Mall   0.600\n",
      "205           Pay   0.600\n",
      "206            Co   0.600\n",
      "207            En   0.600\n",
      "208            Do   0.600\n",
      "209        Monica   0.600\n",
      "210            An   0.600\n",
      "211           Spa   0.633\n",
      "212           Pen   0.633\n",
      "213        During   0.633\n",
      "214           Can   0.633\n",
      "215          Kate   0.667\n",
      "216      Robinson   0.667\n",
      "217         Janet   0.667\n",
      "218           Ren   0.667\n",
      "219          Dean   0.667\n",
      "220          Bell   0.667\n",
      "221        Juliet   0.667\n",
      "222         Chuck   0.667\n",
      "223     Charlotte   0.667\n",
      "224        Watson   0.667\n",
      "225         Brian   0.667\n",
      "226        Joanne   0.667\n",
      "227       Charles   0.667\n",
      "228            Ki   0.667\n",
      "229         Tyler   0.667\n",
      "230           Kat   0.667\n",
      "231        Gibson   0.667\n",
      "232        Jordan   0.667\n",
      "233          Cope   0.667\n",
      "234           Ann   0.667\n",
      "235            Fi   0.667\n",
      "236         Alice   0.667\n",
      "237        Robson   0.667\n",
      "238          Fang   0.667\n",
      "239          John   0.667\n",
      "240      Hamilton   0.667\n",
      "241          Chen   0.667\n",
      "242         Shell   0.667\n",
      "243        Mozart   0.667\n",
      "244           Ava   0.667\n",
      "245            Di   0.667\n",
      "246           Cal   0.667\n",
      "247            Ji   0.667\n",
      "248        Brooks   0.667\n",
      "249            ji   0.667\n",
      "250         Blake   0.667\n",
      "251           Hui   0.667\n",
      "252       Stephen   0.667\n",
      "253           Meg   0.667\n",
      "254            Du   0.667\n",
      "255     Macmillan   0.667\n",
      "256         Carol   0.667\n",
      "257            Pa   0.667\n",
      "258           Ben   0.667\n",
      "259            Qi   0.667\n",
      "260       William   0.667\n",
      "261           Dai   0.667\n",
      "262      Victoria   0.667\n",
      "263        Julian   0.667\n",
      "264        Sidney   0.667\n",
      "265         Baron   0.667\n",
      "266           Eva   0.667\n",
      "267       Madison   0.667\n",
      "268       Jackson   0.667\n",
      "269        Hanson   0.667\n",
      "270           Kai   0.667\n",
      "271        Willow   0.667\n",
      "272           Sue   0.667\n",
      "273          Rock   0.667\n",
      "274         Sandy   0.667\n",
      "275          Pete   0.667\n",
      "276           Tor   0.667\n",
      "277            Mo   0.667\n",
      "278           Pat   0.667\n",
      "279           Lao   0.667\n",
      "280           Eve   0.667\n",
      "281            Le   0.667\n",
      "282         Laura   0.667\n",
      "283         Myers   0.667\n",
      "284          Miss   0.667\n",
      "285            Hu   0.667\n",
      "286            Yi   0.667\n",
      "287            La   0.667\n",
      "288           Mei   0.667\n",
      "289         Jesus   0.667\n",
      "290         Chloe   0.667\n",
      "291        Potter   0.667\n",
      "292       Johnson   0.667\n",
      "293           Jim   0.667\n",
      "294          Hans   0.667\n",
      "295          Bond   0.667\n",
      "296         Karen   0.667\n",
      "297      Westwood   0.667\n",
      "298          Anna   0.667\n",
      "299      Anderson   0.667\n",
      "300          Lane   0.667\n",
      "301      Campbell   0.667\n",
      "302       Kennedy   0.667\n",
      "303           Max   0.667\n",
      "304       Pauline   0.667\n",
      "305           Dan   0.667\n",
      "306            Ye   0.667\n",
      "307         Sally   0.667\n",
      "308         Colin   0.667\n",
      "309       Stanley   0.667\n",
      "310         Johns   0.667\n",
      "311         Diego   0.667\n",
      "312         Roger   0.667\n",
      "313           Ted   0.667\n",
      "314        Shield   0.667\n",
      "315         Emily   0.667\n",
      "316         Betty   0.667\n",
      "317       Thomson   0.667\n",
      "318          Abby   0.667\n",
      "319          Adam   0.667\n",
      "320          Ling   0.667\n",
      "321     Beethoven   0.667\n",
      "322           Jan   0.667\n",
      "323            Ho   0.667\n",
      "324        Tarzan   0.667\n",
      "325         Liang   0.667\n",
      "326           ben   0.667\n",
      "327           Jen   0.667\n",
      "328           Leo   0.667\n",
      "329          Matt   0.667\n",
      "330          Ally   0.667\n",
      "331           Liu   0.667\n",
      "332        Taylor   0.667\n",
      "333          Xiao   0.667\n",
      "334          Kobe   0.667\n",
      "335         Marco   0.667\n",
      "336        Calvin   0.667\n",
      "337           Mel   0.667\n",
      "338         Felix   0.667\n",
      "339            Su   0.667\n",
      "340       Counter   0.667\n",
      "341        Prince   0.667\n",
      "342         David   0.667\n",
      "343    Montgomery   0.667\n",
      "344         Terry   0.667\n",
      "345        Madame   0.667\n",
      "346           Jun   0.667\n",
      "347           Big   0.667\n",
      "348           Yes   0.667\n",
      "349        Forest   0.667\n",
      "350          Hung   0.667\n",
      "351        Hilton   0.700\n",
      "352            Ty   0.700\n",
      "353           Bin   0.700\n",
      "354           Bee   0.700\n",
      "355          Bach   0.700\n",
      "356          Will   0.700\n",
      "357         Rocky   0.700\n",
      "358           Mat   0.700\n",
      "359         Saint   0.700\n",
      "360         Sting   0.700\n",
      "361           Bow   0.700\n",
      "362           Ray   0.700\n",
      "363        Waters   0.700\n",
      "364         Anita   0.700\n",
      "365         Grace   0.700\n",
      "366          Ruby   0.700\n",
      "367          Emma   0.700\n",
      "368        Donald   0.700\n",
      "369            De   0.700\n",
      "370           Tri   0.700\n",
      "371          Horn   0.700\n",
      "372        Wilson   0.700\n",
      "373           Del   0.700\n",
      "374         Right   0.700\n",
      "375            Ra   0.700\n",
      "376            de   0.700\n",
      "377            Ke   0.700\n",
      "378           Bob   0.700\n",
      "379          Gala   0.700\n",
      "380       Patrick   0.700\n",
      "381           Buy   0.700\n",
      "382          Grey   0.700\n",
      "383            Da   0.700\n",
      "384        Buddha   0.700\n",
      "385          Ming   0.700\n",
      "386          Jill   0.700\n",
      "387       Forrest   0.700\n",
      "388         Steve   0.700\n",
      "389        Murphy   0.700\n",
      "390            Si   0.700\n",
      "391   Shakespeare   0.700\n",
      "392         Flash   0.733\n",
      "393         Grant   0.733\n",
      "394           Ron   0.733\n",
      "395            Al   0.733\n",
      "396          Ping   0.733\n",
      "397      Division   0.733\n",
      "398           Mao   0.733\n",
      "399         Bible   0.733\n",
      "400           Ace   0.733\n",
      "401       Pacific   0.733\n",
      "402           Mac   0.733\n",
      "403          Nick   0.733\n",
      "404        Christ   0.733\n",
      "405            Xi   0.733\n",
      "406         Claus   0.733\n",
      "407         Roman   0.733\n",
      "408         Yahoo   0.733\n",
      "409          Jack   0.733\n",
      "410          Mars   0.733\n",
      "411           Pet   0.733\n",
      "412        Hammer   0.733\n",
      "413          Fort   0.733\n",
      "414       Carlton   0.733\n",
      "415         Helen   0.733\n",
      "416         Paulo   0.733\n",
      "417            Fu   0.733\n",
      "418        Steven   0.733\n",
      "419        Franco   0.733\n",
      "420          Nova   0.733\n",
      "421         Lodge   0.733\n",
      "422           Bay   0.733\n",
      "423         Ultra   0.733\n",
      "424         Heath   0.733\n",
      "425         Allen   0.733\n",
      "426           Joe   0.733\n",
      "427           Den   0.733\n",
      "428    Washington   0.733\n",
      "429         Lucas   0.733\n",
      "430        Janice   0.733\n",
      "431         Santa   0.733\n",
      "432           Han   0.733\n",
      "433          Tong   0.733\n",
      "434        Parker   0.733\n",
      "435          Arts   0.733\n",
      "436      Sterling   0.733\n",
      "437           Ash   0.733\n",
      "438            Sa   0.733\n",
      "439        Monroe   0.733\n",
      "440        Milton   0.733\n",
      "441            Mu   0.733\n",
      "442        Walker   0.733\n",
      "443       Richter   0.733\n",
      "444          Card   0.733\n",
      "445         Blanc   0.733\n",
      "446      Franklin   0.733\n",
      "447            At   0.733\n",
      "448        Edison   0.733\n",
      "449           Was   0.733\n",
      "450            Em   0.767\n",
      "451           Tao   0.767\n",
      "452       Butcher   0.767\n",
      "453           Lee   0.767\n",
      "454         Jones   0.767\n",
      "455          Gang   0.767\n",
      "456          Tang   0.767\n",
      "457         James   0.767\n",
      "458      Superman   0.767\n",
      "459         Atlas   0.767\n",
      "460            Bo   0.767\n",
      "461           Tin   0.767\n",
      "462           Wen   0.767\n",
      "463        Nelson   0.767\n",
      "464        Ferris   0.767\n",
      "465            St   0.767\n",
      "466          Lisa   0.767\n",
      "467          Hunt   0.767\n",
      "468         Baker   0.767\n",
      "469            Lo   0.767\n",
      "470        Knight   0.767\n",
      "471          Sang   0.767\n",
      "472           Cha   0.767\n",
      "473          Mona   0.767\n",
      "474        Thomas   0.767\n",
      "475           Con   0.800\n",
      "476           Amy   0.800\n",
      "477           Ram   0.800\n",
      "478            In   0.800\n",
      "479            Ba   0.800\n",
      "480          Ford   0.800\n",
      "481          Jane   0.800\n",
      "482          Jazz   0.800\n",
      "483      McDonald   0.800\n",
      "484         Julie   0.800\n",
      "485          Want   0.833\n",
      "486           The   0.933\n",
      "487      Giovanni   1.000\n",
      "488        Carlos   1.000\n",
      "489     Sylvester   1.000\n",
      "490      Thompson   1.000\n",
      "491         Roche   1.000\n",
      "492        Sandra   1.000\n",
      "493         Owens   1.000\n",
      "494         Danny   1.000\n",
      "495          Neil   1.000\n",
      "496           Dev   1.000\n",
      "497        Stuart   1.000\n",
      "498          Ivan   1.000\n",
      "499         Zhang   1.000\n",
      "500          Zhou   1.000\n",
      "501          Cody   1.000\n",
      "502         Keith   1.000\n",
      "503         Pavel   1.000\n",
      "504        Walter   1.000\n",
      "505       Addison   1.000\n",
      "506       Mendoza   1.000\n",
      "507            Ch   1.000\n",
      "508           Roy   1.000\n",
      "509         Vince   1.000\n",
      "510          Gale   1.000\n",
      "511       Hepburn   1.000\n",
      "512          Toni   1.000\n",
      "513         Larry   1.000\n",
      "514        Marian   1.000\n",
      "515         Reeve   1.000\n",
      "516        Lawson   1.000\n",
      "517        Teresa   1.000\n",
      "518           Bel   1.000\n",
      "519        Marcia   1.000\n",
      "520           Hal   1.000\n",
      "521       Stephan   1.000\n",
      "522         Betsy   1.000\n",
      "523             D   1.000\n",
      "524     Rochester   1.000\n",
      "525          Rick   1.000\n",
      "526          Kara   1.000\n",
      "527       Belinda   1.000\n",
      "528          Ella   1.000\n",
      "529         Annie   1.000\n",
      "530           Chu   1.000\n",
      "531         Drake   1.000\n",
      "532        Willie   1.000\n",
      "533           Fen   1.000\n",
      "534      Jennifer   1.000\n",
      "535       Solomon   1.000\n",
      "536         Parry   1.000\n",
      "537        Duncan   1.000\n",
      "538      Brittany   1.000\n",
      "539         Kathy   1.000\n",
      "540     Greenwood   1.000\n",
      "541          Pope   1.000\n",
      "542          Josh   1.000\n",
      "543        Claire   1.000\n",
      "544          Jeff   1.000\n",
      "545           Lia   1.000\n",
      "546      Harrison   1.000\n",
      "547          Joan   1.000\n",
      "548            Se   1.000\n",
      "549         Naomi   1.000\n",
      "550       Francis   1.000\n",
      "551         Megan   1.000\n",
      "552         Kelly   1.000\n",
      "553        Holmes   1.000\n",
      "554        Sharon   1.000\n",
      "555       Goldman   1.000\n",
      "556          Brad   1.000\n",
      "557         Marty   1.000\n",
      "558        Phoebe   1.000\n",
      "559         Comet   1.000\n",
      "560         Tomas   1.000\n",
      "561        Lauren   1.000\n",
      "562          Sean   1.000\n",
      "563             .   1.000\n",
      "564        Barack   1.000\n",
      "565           Lim   1.000\n",
      "566     Rodriguez   1.000\n",
      "567           Pam   1.000\n",
      "568           Fay   1.000\n",
      "569           Vic   1.000\n",
      "570      Williams   1.000\n",
      "571         Edgar   1.000\n",
      "572        Larson   1.000\n",
      "573          Gwen   1.000\n",
      "574    Carmichael   1.000\n",
      "575        Xavier   1.000\n",
      "576         Barry   1.000\n",
      "577         Mabel   1.000\n",
      "578        Suzuki   1.000\n",
      "579            Jr   1.000\n",
      "580      Veronica   1.000\n",
      "581       Phillip   1.000\n",
      "582       Neville   1.000\n",
      "583           Jay   1.000\n",
      "584        Briggs   1.000\n",
      "585         Simon   1.000\n",
      "586        Darren   1.000\n",
      "587         Robin   1.000\n",
      "588        Herman   1.000\n",
      "589          Edna   1.000\n",
      "590          Devi   1.000\n",
      "591         Boris   1.000\n",
      "592        Jacobs   1.000\n",
      "593         Bruce   1.000\n",
      "594          Gina   1.000\n",
      "595          Greg   1.000\n",
      "596          Dome   1.000\n",
      "597           Isa   1.000\n",
      "598          Ross   1.000\n",
      "599        Brenda   1.000\n",
      "600       Wharton   1.000\n",
      "601         Jacob   1.000\n",
      "602        Leslie   1.000\n",
      "603        Laurie   1.000\n",
      "604          Alan   1.000\n",
      "605         Susan   1.000\n",
      "606         Geoff   1.000\n",
      "607         Kerry   1.000\n",
      "608       Whitney   1.000\n",
      "609       Stevens   1.000\n",
      "610          Judy   1.000\n",
      "611         Bates   1.000\n",
      "612      Isabelle   1.000\n",
      "613           Dal   1.000\n",
      "614           Jul   1.000\n",
      "615         Jimmy   1.000\n",
      "616          Paul   1.000\n",
      "617     Christina   1.000\n",
      "618       Cynthia   1.000\n",
      "619         Tracy   1.000\n",
      "620         Evans   1.000\n",
      "621        Santos   1.000\n",
      "622         Gates   1.000\n",
      "623       Forster   1.000\n",
      "624          Rudy   1.000\n",
      "625        Sophia   1.000\n",
      "626        Spears   1.000\n",
      "627          Sven   1.000\n",
      "628          Chan   1.000\n",
      "629        Arnold   1.000\n",
      "630         Susie   1.000\n",
      "631          Jude   1.000\n",
      "632          Troy   1.000\n",
      "633        Millie   1.000\n",
      "634       Jenkins   1.000\n",
      "635          Alec   1.000\n",
      "636          Shen   1.000\n",
      "637      Morrison   1.000\n",
      "638        Kramer   1.000\n",
      "639       Hancock   1.000\n",
      "640          Ryan   1.000\n",
      "641       McKenna   1.000\n",
      "642       Jameson   1.000\n",
      "643        Keller   1.000\n",
      "644            Ed   1.000\n",
      "645          Jess   1.000\n",
      "646     Elizabeth   1.000\n",
      "647          Gill   1.000\n",
      "648          Hart   1.000\n",
      "649         Levin   1.000\n",
      "650         Petra   1.000\n",
      "651          Tara   1.000\n",
      "652      Mitchell   1.000\n",
      "653          Reds   1.000\n",
      "654        Powell   1.000\n",
      "655        Johnny   1.000\n",
      "656          Dora   1.000\n",
      "657       Hawkins   1.000\n",
      "658      Columbus   1.000\n",
      "659            ka   1.000\n",
      "660        Burton   1.000\n",
      "661         Crane   1.000\n",
      "662             F   1.000\n",
      "663         Jason   1.000\n",
      "664         Maris   1.000\n",
      "665             ’   1.000\n",
      "666           Mai   1.000\n",
      "667            Ka   1.000\n",
      "668        Harold   1.000\n",
      "669       Christy   1.000\n",
      "670       Colbert   1.000\n",
      "671          Finn   1.000\n",
      "672       Carolyn   1.000\n",
      "673        Sheila   1.000\n",
      "674         Celia   1.000\n",
      "675          Hugh   1.000\n",
      "676         Pratt   1.000\n",
      "677         Carey   1.000\n",
      "678             X   1.000\n",
      "679         Quinn   1.000\n",
      "680        Justin   1.000\n",
      "681        Brooke   1.000\n",
      "682            Ju   1.000\n",
      "683     Schneider   1.000\n",
      "684         Cohen   1.000\n",
      "685         Scott   1.000\n",
      "686        Howard   1.000\n",
      "687           Kim   1.000\n",
      "688          Mara   1.000\n",
      "689        Amelia   1.000\n",
      "690         Wyatt   1.000\n",
      "691       Robbins   1.000\n",
      "692        Sophie   1.000\n",
      "693       Higgins   1.000\n",
      "694         Stacy   1.000\n",
      "695        Clarke   1.000\n",
      "696          Yuri   1.000\n",
      "697         Mandy   1.000\n",
      "698        Martha   1.000\n",
      "699        Harris   1.000\n",
      "700         Angie   1.000\n",
      "701          Rita   1.000\n",
      "702        Morgan   1.000\n",
      "703       Matthew   1.000\n",
      "704       Compton   1.000\n",
      "705      Achilles   1.000\n",
      "706        Archie   1.000\n",
      "707      Rosemary   1.000\n",
      "708      Eastwood   1.000\n",
      "709          Gran   1.000\n",
      "710       Picasso   1.000\n",
      "711         Lilly   1.000\n",
      "712       Domingo   1.000\n",
      "713           Liz   1.000\n",
      "714         Zheng   1.000\n",
      "715             U   1.000\n",
      "716       Sampson   1.000\n",
      "717        Martin   1.000\n",
      "718         Blair   1.000\n",
      "719         Flora   1.000\n",
      "720         Patty   1.000\n",
      "721             E   1.000\n",
      "722          Kurt   1.000\n",
      "723        Austen   1.000\n",
      "724          Dion   1.000\n",
      "725       Tiffany   1.000\n",
      "726       Wallace   1.000\n",
      "727        Daniel   1.000\n",
      "728         Elton   1.000\n",
      "729          Wong   1.000\n",
      "730          Sara   1.000\n",
      "731           Bai   1.000\n",
      "732       McBride   1.000\n",
      "733          Eric   1.000\n",
      "734         Trent   1.000\n",
      "735          Carr   1.000\n",
      "736            Sc   1.000\n",
      "737        Hughes   1.000\n",
      "738        Yvonne   1.000\n",
      "739          Zach   1.000\n",
      "740             S   1.000\n",
      "741         Obama   1.000\n",
      "742        Lester   1.000\n",
      "743       Allison   1.000\n",
      "744       Abigail   1.000\n",
      "745      Nicholas   1.000\n",
      "746        Conrad   1.000\n",
      "747         Randy   1.000\n",
      "748       Connell   1.000\n",
      "749     Patterson   1.000\n",
      "750        Arthur   1.000\n",
      "751          Owen   1.000\n",
      "752        Hubert   1.000\n",
      "753        Gordon   1.000\n",
      "754     Nathaniel   1.000\n",
      "755        Nicole   1.000\n",
      "756        Denise   1.000\n",
      "757        Carrie   1.000\n",
      "758         Beast   1.000\n",
      "759        George   1.000\n",
      "760         Vicky   1.000\n",
      "761        Barker   1.000\n",
      "762        Darryl   1.000\n",
      "763        Joshua   1.000\n",
      "764        Nathan   1.000\n",
      "765          Phil   1.000\n",
      "766         Corey   1.000\n",
      "767         Jamie   1.000\n",
      "768      Samantha   1.000\n",
      "769             P   1.000\n",
      "770          Kris   1.000\n",
      "771        Maggie   1.000\n",
      "772      Drummond   1.000\n",
      "773        Webber   1.000\n",
      "774        Alonso   1.000\n",
      "775           Gao   1.000\n",
      "776       Collins   1.000\n",
      "777        Morley   1.000\n",
      "778           Lai   1.000\n",
      "779          Leon   1.000\n",
      "780            Je   1.000\n",
      "781          Pitt   1.000\n",
      "782        Andrew   1.000\n",
      "783            Ce   1.000\n",
      "784         Gerry   1.000\n",
      "785     Henderson   1.000\n",
      "786       Sherman   1.000\n",
      "787           Dar   1.000\n",
      "788         Nikki   1.000\n",
      "789        Dawson   1.000\n",
      "790         Garry   1.000\n",
      "791          Carl   1.000\n",
      "792          Beth   1.000\n",
      "793          Jung   1.000\n",
      "794         Gavin   1.000\n",
      "795         Dylan   1.000\n",
      "796       Hopkins   1.000\n",
      "797         Clare   1.000\n",
      "798       Christi   1.000\n",
      "799        Carson   1.000\n",
      "800         Ellie   1.000\n",
      "801        Eileen   1.000\n",
      "802         Kevin   1.000\n",
      "803           Ali   1.000\n",
      "804          Alex   1.000\n",
      "805          Toby   1.000\n",
      "806      Isabella   1.000\n",
      "807           Ana   1.000\n",
      "808            Jo   1.000\n",
      "809         Malik   1.000\n",
      "810             R   1.000\n",
      "811      Angelina   1.000\n",
      "812         Carla   1.000\n",
      "813      Reynolds   1.000\n",
      "814     Christine   1.000\n",
      "815       Charlie   1.000\n",
      "816             C   1.000\n",
      "817       Douglas   1.000\n",
      "818         Hayes   1.000\n",
      "819         Halle   1.000\n",
      "820           Zoe   1.000\n",
      "821       Ventura   1.000\n",
      "822          Mick   1.000\n",
      "823         Brent   1.000\n",
      "824        Stacey   1.000\n",
      "825       Edwards   1.000\n",
      "826        Joanna   1.000\n",
      "827        Foster   1.000\n",
      "828        Evelyn   1.000\n",
      "829           Yan   1.000\n",
      "830     Josephine   1.000\n",
      "831          Evan   1.000\n",
      "832     Armstrong   1.000\n",
      "833          Cain   1.000\n",
      "834         Edith   1.000\n",
      "835        Rogers   1.000\n",
      "836        Philip   1.000\n",
      "837        Victor   1.000\n",
      "838        Rachel   1.000\n",
      "839          Tony   1.000\n",
      "840       Phyllis   1.000\n",
      "841         Fiona   1.000\n",
      "842          Kali   1.000\n",
      "843        Ashley   1.000\n",
      "844         Linda   1.000\n",
      "845         Harry   1.000\n",
      "846             J   1.000\n",
      "847         Basil   1.000\n",
      "848     Fairbanks   1.000\n",
      "849        Stefan   1.000\n",
      "850         Clyde   1.000\n",
      "851       Vincent   1.000\n",
      "852            Po   1.000\n",
      "853        Horton   1.000\n",
      "854        Benson   1.000\n",
      "855      Sullivan   1.000\n",
      "856             H   1.000\n",
      "857         Weiss   1.000\n",
      "858          Bart   1.000\n",
      "859             w   1.000\n",
      "860            ch   1.000\n",
      "861         Ellen   1.000\n",
      "862            KC   1.000\n",
      "863           Yao   1.000\n",
      "864         Willy   1.000\n",
      "865         Sarah   1.000\n",
      "866        Harper   1.000\n",
      "867          Mali   1.000\n",
      "868      Margaret   1.000\n",
      "869        Angela   1.000\n",
      "870          Vale   1.000\n",
      "871        Lesley   1.000\n",
      "872          Leah   1.000\n",
      "873         Patti   1.000\n",
      "874         Tommy   1.000\n",
      "875          Vera   1.000\n",
      "876         Woody   1.000\n",
      "877        Reeves   1.000\n",
      "878         Ernie   1.000\n",
      "879       Roberts   1.000\n",
      "880        Willis   1.000\n",
      "881        Albert   1.000\n",
      "882          Dave   1.000\n",
      "883           Sal   1.000\n",
      "884       Cameron   1.000\n",
      "885      Laurence   1.000\n",
      "886          Herr   1.000\n",
      "887        Alison   1.000\n",
      "888          Gail   1.000\n",
      "889           Lam   1.000\n",
      "890          Lama   1.000\n",
      "891             L   1.000\n",
      "892       Shirley   1.000\n",
      "893        Jeremy   1.000\n",
      "894          Vita   1.000\n",
      "895       Andrews   1.000\n",
      "896       Valerie   1.000\n",
      "897     Mussolini   1.000\n",
      "898           Ken   1.000\n",
      "899        Andrea   1.000\n",
      "900       Galileo   1.000\n",
      "901       Emerson   1.000\n",
      "902         Clark   1.000\n",
      "903         Casey   1.000\n",
      "904          Juan   1.000\n",
      "905         Riley   1.000\n",
      "906             T   1.000\n",
      "907        Amanda   1.000\n",
      "908        Debbie   1.000\n",
      "909            Op   1.000\n",
      "910         Jared   1.000\n",
      "911        Newton   1.000\n",
      "912         Dolly   1.000\n",
      "913         Bryan   1.000\n",
      "914         Becky   1.000\n",
      "915        Wright   1.000\n",
      "916       Kaufman   1.000\n",
      "917          Todd   1.000\n",
      "918         Hilda   1.000\n",
      "919         Henry   1.000\n",
      "920      Friedman   1.000\n",
      "921        Peters   1.000\n",
      "922       Lillian   1.000\n",
      "923      Kathleen   1.000\n",
      "924         Wendy   1.000\n",
      "925       Leonard   1.000\n",
      "926       Seymour   1.000\n",
      "927       Presley   1.000\n",
      "928       Richard   1.000\n",
      "929             x   1.000\n",
      "930             A   1.000\n",
      "931           Ari   1.000\n",
      "932        Joseph   1.000\n",
      "933       Rudolph   1.000\n",
      "934         Reese   1.000\n",
      "935        Nicola   1.000\n",
      "936        Newman   1.000\n",
      "937        Ernest   1.000\n",
      "938      Saunders   1.000\n",
      "939           Din   1.000\n",
      "940          Bing   1.000\n",
      "941        Samuel   1.000\n",
      "942    Richardson   1.000\n",
      "943       Simmons   1.000\n",
      "944          Yong   1.000\n",
      "945         Nigel   1.000\n",
      "946       Parsons   1.000\n",
      "947        Wallis   1.000\n",
      "948             Q   1.000\n",
      "949       Dickens   1.000\n",
      "950        Edward   1.000\n",
      "951            Tu   1.000\n",
      "952           Eli   1.000\n",
      "953          Gary   1.000\n",
      "954          Erik   1.000\n",
      "955            Ni   1.000\n",
      "956         Cheng   1.000\n",
      "957      Peterson   1.000\n",
      "958            Ko   1.000\n",
      "959         Ralph   1.000\n",
      "960       Melinda   1.000\n",
      "961          Olga   1.000\n",
      "962       Natasha   1.000\n",
      "963        Harvey   1.000\n",
      "964       Rodgers   1.000\n",
      "965      Meredith   1.000\n",
      "966          Lori   1.000\n",
      "967          Joey   1.000\n",
      "968        Grange   1.000\n",
      "969          Kent   1.000\n",
      "970         Isaac   1.000\n",
      "971         Bruno   1.000\n",
      "972     Churchill   1.000\n",
      "973           Lil   1.000\n",
      "974        Trevor   1.000\n",
      "975     Katherine   1.000\n",
      "976         Lewis   1.000\n",
      "977       Melissa   1.000\n",
      "978          Shaw   1.000\n",
      "979         Katie   1.000\n",
      "980      Benjamin   1.000\n",
      "981        Carmen   1.000\n",
      "982             N   1.000\n",
      "983         Jesse   1.000\n",
      "984        Luther   1.000\n",
      "985       Marilyn   1.000\n",
      "986         Paula   1.000\n",
      "987         Stern   1.000\n",
      "988        Bernie   1.000\n",
      "989          Jake   1.000\n",
      "990        Adrian   1.000\n",
      "991           Luc   1.000\n",
      "992        Vargas   1.000\n",
      "993       Abraham   1.000\n",
      "994       Simpson   1.000\n",
      "995        Gustav   1.000\n",
      "996            Yu   1.000\n",
      "997        Connie   1.000\n",
      "998         Mitch   1.000\n",
      "999        McCain   1.000\n",
      "1000       Dennis   1.000\n",
      "1001     Michelle   1.000\n",
      "1002        Wayne   1.000\n",
      "1003        Marsh   1.000\n",
      "1004     Randolph   1.000\n",
      "1005        Monte   1.000\n",
      "1006       Curtis   1.000\n",
      "1007     Jennings   1.000\n",
      "1008       Jackie   1.000\n",
      "1009          Tim   1.000\n",
      "1010        Doris   1.000\n",
      "1011        Adams   1.000\n",
      "1012       Carter   1.000\n",
      "1013          Von   1.000\n",
      "1014           Fr   1.000\n",
      "1015         Dana   1.000\n",
      "1016          Tad   1.000\n",
      "1017       Davies   1.000\n",
      "1018       Pierce   1.000\n",
      "1019        Craig   1.000\n",
      "1020       Norton   1.000\n",
      "1021          Lau   1.000\n",
      "1022       Mickey   1.000\n",
      "1023         Yang   1.000\n",
      "1024    Catherine   1.000\n",
      "1025      Sanders   1.000\n",
      "1026      Jessica   1.000\n",
      "1027      Enrique   1.000\n",
      "1028        Wills   1.000\n",
      "1029            G   1.000\n",
      "1030         Ruth   1.000\n",
      "1031        Marie   1.000\n",
      "1032        Fanny   1.000\n",
      "1033        Edwin   1.000\n",
      "1034      Bradley   1.000\n",
      "1035      Stewart   1.000\n",
      "1036      Tristan   1.000\n",
      "1037      Willard   1.000\n",
      "1038       Connor   1.000\n",
      "1039            W   1.000\n",
      "1040         Tina   1.000\n",
      "1041         Roth   1.000\n",
      "1042      Gregory   1.000\n",
      "1043      Chaplin   1.000\n",
      "1044        Donna   1.000\n",
      "1045        Aaron   1.000\n",
      "1046          Lea   1.000\n",
      "1047       Hilary   1.000\n",
      "1048      Lindsay   1.000\n",
      "1049      Michael   1.000\n",
      "1050        Julia   1.000\n",
      "1051      Philips   1.000\n",
      "1052        Diana   1.000\n",
      "1053           Cy   1.000\n",
      "1054     Caroline   1.000\n",
      "1055        Ethel   1.000\n",
      "1056        Sammy   1.000\n",
      "1057   Fitzgerald   1.000\n",
      "1058         Fred   1.000\n",
      "1059         Andy   1.000\n",
      "1060        Dante   1.000\n",
      "1061      Anthony   1.000\n",
      "1062         Kahn   1.000\n",
      "1063       Jessie   1.000\n",
      "1064       Berger   1.000\n",
      "1065         Karl   1.000\n",
      "1066      Schmidt   1.000\n",
      "1067      Rebecca   1.000\n",
      "1068      Melanie   1.000\n",
      "1069     Chandler   1.000\n",
      "1070         Peck   1.000\n",
      "1071    Stevenson   1.000\n",
      "1072        Eddie   1.000\n",
      "1073       Louise   1.000\n",
      "1074       Miller   1.000\n",
      "1075          Zhu   1.000\n",
      "1076        Holly   1.000\n",
      "1077        Lydia   1.000\n",
      "1078         Nora   1.000\n",
      "1079       Vivian   1.000\n",
      "1080       Serena   1.000\n",
      "1081           Ku   1.000\n",
      "1082        Irene   1.000\n",
      "1083        Rubin   1.000\n",
      "1084         Neal   1.000\n",
      "1085        Cindy   1.000\n",
      "1086          Mia   1.000\n",
      "1087       Miriam   1.000\n",
      "1088        Clive   1.000\n",
      "1089         Luke   1.000\n",
      "1090     Gretchen   1.000\n",
      "1091      Vanessa   1.000\n",
      "1092        Devon   1.000\n",
      "1093     Patricia   1.000\n",
      "1094     Richards   1.000\n",
      "1095        Ethan   1.000\n",
      "1096          Cho   1.000\n",
      "1097        Diane   1.000\n",
      "1098     Fernando   1.000\n",
      "1099        Logan   1.000\n",
      "1100         Dick   1.000\n",
      "1101        Lance   1.000\n",
      "1102         Faye   1.000\n",
      "1103       Morris   1.000\n",
      "1104    Stephanie   1.000\n",
      "1105        Stein   1.000\n",
      "1106        Erica   1.000\n",
      "1107        Locke   1.000\n",
      "1108    Alexander   1.000\n",
      "1109      Clinton   1.000\n",
      "1110         Myra   1.000\n",
      "1111          Liv   1.000\n",
      "1112      Shelley   1.000\n",
      "1113         Bros   1.000\n",
      "1114            V   1.000\n",
      "1115         Lulu   1.000\n",
      "1116        Ricky   1.000\n",
      "1117  Christopher   1.000\n",
      "1118         Rama   1.000\n",
      "1119        Clint   1.000\n",
      "1120        Derek   1.000\n",
      "1121      Dorothy   1.000\n",
      "1122     Marshall   1.000\n",
      "1123          Jon   1.000\n",
      "1124           Fe   1.000\n",
      "1125            '   1.000\n",
      "1126        Jerry   1.000\n",
      "1127            I   1.000\n",
      "1128       Hudson   1.000\n",
      "1129        Mario   1.000\n",
      "1130        Bobby   1.000\n",
      "1131            M   1.000\n",
      "1132         Dale   1.000\n",
      "1133       Graham   1.000\n",
      "1134       Bryant   1.000\n",
      "1135        Dixon   1.000\n",
      "1136        Mason   1.000\n",
      "1137        Polly   1.000\n",
      "1138       Isaiah   1.000\n",
      "1139       Pamela   1.000\n",
      "1140            O   1.000\n",
      "1141          Soo   1.000\n",
      "1142        Cathy   1.000\n",
      "1143        Eliza   1.000\n",
      "1144        Kenny   1.000\n",
      "1145           Xu   1.000\n",
      "1146     Phillips   1.000\n",
      "1147      Deborah   1.000\n",
      "1148          Pol   1.000\n",
      "1149       Becker   1.000\n",
      "1150      Sweeney   1.000\n",
      "1151        Allan   1.000\n",
      "1152            K   1.000\n",
      "1153      Winston   1.000\n",
      "1154         Iris   1.000\n",
      "1155         Otis   1.000\n",
      "1156       Cooper   1.000\n",
      "1157        Davis   1.000\n",
      "1158      Heather   1.000\n",
      "1159         Monk   1.000\n",
      "1160        Maria   1.000\n",
      "1161       Maddie   1.000\n",
      "1162         Doug   1.000\n",
      "1163      Maurice   1.000\n",
      "1164         Eddy   1.000\n",
      "1165         Lucy   1.000\n",
      "1166        Chris   1.000\n",
      "1167       Carole   1.000\n",
      "1168         Nina   1.000\n",
      "1169           El   1.000\n",
      "1170      Dominic   1.000\n",
      "1171         Jean   1.000\n",
      "1172       Elaine   1.000\n",
      "1173           Wu   1.000\n",
      "1174       Robert   1.000\n",
      "['6  I didn ’ t know it would be so big !   It is ! Look there , those are the tracks . And the jumping pit is over there . '\n",
      " '5  He ’ s the love of my life ! I ’ e really messed this up .   Come on , hon . Pull yourself together . It ’ s going to be alright . '\n",
      " '0  Did it scare you ?   Of course not . I just thought the movie was ... boring . '\n",
      " '2  That bad egg , who took the low road since he was a boy .   I think I must report to the cops . '\n",
      " \"4  Oh , look ! That was the one there . That is the sort of thing I was looking for . But it's not quite the color .   That might be the artificial lighting , madam . Of course , if you could come back in daylight , you might find it ’ s exactly what you are looking for . \"]\n"
     ]
    },
    {
     "name": "stderr",
     "output_type": "stream",
     "text": [
      "The option feature_dependence has been renamed to feature_perturbation!\n",
      "The option feature_perturbation=\"independent\" is has been renamed to feature_perturbation=\"interventional\"!\n",
      "The feature_perturbation option is now deprecated in favor of using the appropriate masker (maskers.Independent, or maskers.Impute)\n"
     ]
    },
    {
     "name": "stdout",
     "output_type": "stream",
     "text": [
      "            Names  Metric\n",
      "0             Mad   0.100\n",
      "1           Mouse   0.100\n",
      "2             Sea   0.133\n",
      "3          Mister   0.133\n",
      "4             Win   0.133\n",
      "5             Wei   0.133\n",
      "6           Gross   0.133\n",
      "7            Bull   0.167\n",
      "8            What   0.167\n",
      "9             Run   0.167\n",
      "10           Bush   0.200\n",
      "11           Bill   0.200\n",
      "12           Shan   0.200\n",
      "13             Li   0.200\n",
      "14            Hey   0.200\n",
      "15            Tai   0.200\n",
      "16            Due   0.200\n",
      "17        General   0.200\n",
      "18        Darling   0.200\n",
      "19           Wood   0.233\n",
      "20          Huang   0.233\n",
      "21         Dancer   0.233\n",
      "22            Dog   0.233\n",
      "23         Cruise   0.233\n",
      "24             Ya   0.233\n",
      "25           Twin   0.233\n",
      "26           Wang   0.233\n",
      "27            Kit   0.233\n",
      "28           Over   0.233\n",
      "29           Mark   0.267\n",
      "30            Lin   0.267\n",
      "31         Church   0.267\n",
      "32          Brown   0.267\n",
      "33          Miles   0.267\n",
      "34      Christian   0.267\n",
      "35          Child   0.267\n",
      "36           Wall   0.267\n",
      "37            don   0.267\n",
      "38            Dad   0.267\n",
      "39        Grandpa   0.267\n",
      "40            Per   0.267\n",
      "41         Cancer   0.300\n",
      "42            Chi   0.300\n",
      "43         Doctor   0.300\n",
      "44             Ok   0.300\n",
      "45            Men   0.300\n",
      "46             OK   0.300\n",
      "47           Blue   0.300\n",
      "48           Good   0.300\n",
      "49          Young   0.300\n",
      "50            Far   0.300\n",
      "51           Song   0.300\n",
      "52          Stone   0.300\n",
      "53           Coke   0.300\n",
      "54            Bat   0.333\n",
      "55            Nan   0.333\n",
      "56          Candy   0.333\n",
      "57         Isabel   0.333\n",
      "58         Sydney   0.333\n",
      "59           Gate   0.333\n",
      "60           Cell   0.333\n",
      "61           Jing   0.333\n",
      "62             Yo   0.333\n",
      "63           Turn   0.333\n",
      "64            Man   0.333\n",
      "65          Billy   0.333\n",
      "66            car   0.333\n",
      "67            Had   0.333\n",
      "68          Brain   0.333\n",
      "69            Tom   0.333\n",
      "70           Gray   0.333\n",
      "71          Parks   0.367\n",
      "72         Fields   0.367\n",
      "73            Jam   0.367\n",
      "74          Frank   0.367\n",
      "75           Hong   0.367\n",
      "76         Winner   0.367\n",
      "77           Snow   0.367\n",
      "78           Rice   0.367\n",
      "79             Am   0.367\n",
      "80         Master   0.367\n",
      "81          Penny   0.367\n",
      "82          Green   0.367\n",
      "83             So   0.367\n",
      "84             Me   0.400\n",
      "85            Bar   0.400\n",
      "86          Haven   0.400\n",
      "87           King   0.400\n",
      "88           Lamb   0.400\n",
      "89          Chang   0.400\n",
      "90            Pan   0.400\n",
      "91            Fan   0.400\n",
      "92           Dong   0.400\n",
      "93             Ha   0.400\n",
      "94           Must   0.400\n",
      "95             Be   0.400\n",
      "96          Tiger   0.400\n",
      "97        McGrath   0.400\n",
      "98            Arm   0.400\n",
      "99           Kong   0.400\n",
      "100        Nature   0.400\n",
      "101           Did   0.433\n",
      "102          Pond   0.433\n",
      "103       Grandma   0.433\n",
      "104          Sand   0.433\n",
      "105           Min   0.433\n",
      "106        Winter   0.433\n",
      "107           Sam   0.433\n",
      "108         April   0.433\n",
      "109        Mother   0.433\n",
      "110          Hang   0.433\n",
      "111         Check   0.433\n",
      "112        London   0.433\n",
      "113          Deck   0.433\n",
      "114           Eye   0.433\n",
      "115          Land   0.433\n",
      "116           Mom   0.433\n",
      "117          that   0.433\n",
      "118          Tell   0.433\n",
      "119          Farm   0.433\n",
      "120           Inc   0.433\n",
      "121          Than   0.433\n",
      "122           Rob   0.433\n",
      "123       Lincoln   0.433\n",
      "124        Hunter   0.433\n",
      "125           Rod   0.433\n",
      "126         Sound   0.467\n",
      "127          Roll   0.467\n",
      "128       Harvard   0.467\n",
      "129           Spa   0.467\n",
      "130         Daddy   0.467\n",
      "131         Super   0.467\n",
      "132           May   0.467\n",
      "133        Violet   0.467\n",
      "134          Bird   0.467\n",
      "135           She   0.467\n",
      "136           Ren   0.467\n",
      "137            Ye   0.467\n",
      "138        Monica   0.467\n",
      "139           Say   0.467\n",
      "140            Ke   0.467\n",
      "141         Short   0.467\n",
      "142          Mile   0.467\n",
      "143          More   0.500\n",
      "144           Tan   0.500\n",
      "145        Barbie   0.500\n",
      "146       Holiday   0.500\n",
      "147            Hi   0.500\n",
      "148           Sky   0.500\n",
      "149         Brand   0.500\n",
      "150            Co   0.500\n",
      "151            hi   0.500\n",
      "152           you   0.500\n",
      "153          Anne   0.500\n",
      "154          Mall   0.500\n",
      "155          Hill   0.500\n",
      "156           You   0.500\n",
      "157          Mind   0.500\n",
      "158           Pay   0.500\n",
      "159       Counter   0.500\n",
      "160        During   0.500\n",
      "161            Re   0.500\n",
      "162          Bell   0.500\n",
      "163          Port   0.533\n",
      "164         Nancy   0.533\n",
      "165           Jet   0.533\n",
      "166          Cole   0.533\n",
      "167        Pierre   0.533\n",
      "168            An   0.533\n",
      "169         Jenny   0.533\n",
      "170            Dr   0.533\n",
      "171            No   0.533\n",
      "172           Ham   0.533\n",
      "173           Eve   0.533\n",
      "174           Hat   0.533\n",
      "175           Too   0.533\n",
      "176           Day   0.533\n",
      "177          Suit   0.533\n",
      "178          Word   0.533\n",
      "179           Cry   0.533\n",
      "180          Lily   0.533\n",
      "181          Rose   0.533\n",
      "182            Do   0.533\n",
      "183          Cook   0.533\n",
      "184           Dai   0.533\n",
      "185         Saint   0.533\n",
      "186         Anita   0.533\n",
      "187           Ann   0.533\n",
      "188          Cope   0.533\n",
      "189        Tarzan   0.533\n",
      "190         Rocky   0.533\n",
      "191           Ron   0.533\n",
      "192           Kat   0.533\n",
      "193         Colin   0.533\n",
      "194          Kobe   0.533\n",
      "195          Adam   0.533\n",
      "196         Karen   0.533\n",
      "197           Mel   0.533\n",
      "198         Blake   0.533\n",
      "199           ben   0.533\n",
      "200        Taylor   0.533\n",
      "201         Emily   0.533\n",
      "202          Bach   0.533\n",
      "203         Betty   0.533\n",
      "204           Ted   0.533\n",
      "205           Bee   0.533\n",
      "206          Ruby   0.533\n",
      "207        Shield   0.533\n",
      "208         Alice   0.533\n",
      "209            De   0.533\n",
      "210            ji   0.533\n",
      "211         Sandy   0.533\n",
      "212        Julian   0.533\n",
      "213          Anna   0.533\n",
      "214        Madame   0.533\n",
      "215      Hamilton   0.533\n",
      "216        Gibson   0.533\n",
      "217        Buddha   0.533\n",
      "218           Leo   0.533\n",
      "219           Eva   0.533\n",
      "220          Ally   0.533\n",
      "221       Kennedy   0.533\n",
      "222            Ji   0.533\n",
      "223            Ho   0.533\n",
      "224           Mat   0.533\n",
      "225            Ki   0.533\n",
      "226           Bin   0.533\n",
      "227         Chuck   0.533\n",
      "228           Jen   0.533\n",
      "229          Kate   0.533\n",
      "230        Wilson   0.533\n",
      "231         Marco   0.533\n",
      "232            Qi   0.533\n",
      "233           Ava   0.533\n",
      "234         Shell   0.533\n",
      "235           Meg   0.533\n",
      "236   Shakespeare   0.533\n",
      "237       Charles   0.533\n",
      "238      Robinson   0.533\n",
      "239         David   0.533\n",
      "240          Jack   0.533\n",
      "241          Abby   0.533\n",
      "242          Bond   0.533\n",
      "243        Willow   0.533\n",
      "244           Jim   0.533\n",
      "245       Jackson   0.533\n",
      "246        Waters   0.533\n",
      "247         Peter   0.533\n",
      "248       Stephen   0.533\n",
      "249           Mei   0.533\n",
      "250            Si   0.533\n",
      "251          Dean   0.533\n",
      "252       Forrest   0.533\n",
      "253     Charlotte   0.533\n",
      "254            Di   0.533\n",
      "255        Juliet   0.533\n",
      "256         Sally   0.533\n",
      "257          John   0.533\n",
      "258        Prince   0.533\n",
      "259        Christ   0.533\n",
      "260       Johnson   0.533\n",
      "261          Ming   0.533\n",
      "262         Laura   0.533\n",
      "263      Campbell   0.533\n",
      "264     Beethoven   0.533\n",
      "265           Dan   0.533\n",
      "266        Potter   0.533\n",
      "267         Myers   0.533\n",
      "268         Jesus   0.533\n",
      "269         Janet   0.533\n",
      "270         Carol   0.533\n",
      "271         Sting   0.533\n",
      "272            Du   0.533\n",
      "273           Ben   0.533\n",
      "274            de   0.533\n",
      "275         Tyler   0.533\n",
      "276         Bible   0.533\n",
      "277         Hello   0.567\n",
      "278           Red   0.567\n",
      "279          Ping   0.567\n",
      "280       William   0.567\n",
      "281            Le   0.567\n",
      "282           Hui   0.567\n",
      "283       Stanley   0.567\n",
      "284       Madison   0.567\n",
      "285           Sue   0.567\n",
      "286       Barbara   0.567\n",
      "287         Johns   0.567\n",
      "288      Victoria   0.567\n",
      "289         Roger   0.567\n",
      "290           Pit   0.567\n",
      "291        Brooks   0.567\n",
      "292            Ty   0.567\n",
      "293         Baron   0.567\n",
      "294         Yahoo   0.567\n",
      "295          Bali   0.567\n",
      "296           Pat   0.567\n",
      "297        Janice   0.567\n",
      "298           Yes   0.567\n",
      "299      Anderson   0.567\n",
      "300           Bow   0.567\n",
      "301         Heath   0.567\n",
      "302            Pa   0.567\n",
      "303          Pete   0.567\n",
      "304          Silk   0.567\n",
      "305          Fang   0.567\n",
      "306         Flash   0.567\n",
      "307          Hank   0.567\n",
      "308         Felix   0.567\n",
      "309           Cap   0.567\n",
      "310          Matt   0.567\n",
      "311      Westwood   0.567\n",
      "312           Mac   0.567\n",
      "313           Cal   0.567\n",
      "314        Watson   0.567\n",
      "315            Mo   0.567\n",
      "316         Brian   0.567\n",
      "317           Joy   0.567\n",
      "318        Parker   0.567\n",
      "319        Hanson   0.567\n",
      "320         Allen   0.567\n",
      "321        Joanne   0.567\n",
      "322           Kai   0.567\n",
      "323           Ash   0.567\n",
      "324          Hunt   0.567\n",
      "325           Mar   0.567\n",
      "326          Mars   0.567\n",
      "327           Bob   0.567\n",
      "328         Ultra   0.567\n",
      "329           Jan   0.567\n",
      "330           Lao   0.567\n",
      "331           Tor   0.567\n",
      "332        Sidney   0.567\n",
      "333        Monroe   0.567\n",
      "334        Robson   0.567\n",
      "335           Bon   0.567\n",
      "336            Lu   0.567\n",
      "337         Grace   0.567\n",
      "338           Liu   0.567\n",
      "339       Thomson   0.567\n",
      "340           Mao   0.567\n",
      "341       Pauline   0.567\n",
      "342        Mozart   0.567\n",
      "343        Calvin   0.567\n",
      "344            Xi   0.567\n",
      "345          Chen   0.567\n",
      "346         Chloe   0.567\n",
      "347         Claus   0.567\n",
      "348         Terry   0.567\n",
      "349           Ray   0.567\n",
      "350        Hilton   0.567\n",
      "351     Macmillan   0.567\n",
      "352            Hu   0.567\n",
      "353          Hans   0.567\n",
      "354           Tri   0.567\n",
      "355      Franklin   0.567\n",
      "356        Edison   0.567\n",
      "357        Fallen   0.567\n",
      "358        Jordan   0.567\n",
      "359          Lane   0.567\n",
      "360          Xiao   0.567\n",
      "361            ma   0.567\n",
      "362          Nova   0.567\n",
      "363            Yi   0.567\n",
      "364           Max   0.567\n",
      "365       Richter   0.567\n",
      "366        Murphy   0.567\n",
      "367         Roman   0.567\n",
      "368         Grant   0.567\n",
      "369    Montgomery   0.567\n",
      "370          Mary   0.567\n",
      "371          Ling   0.567\n",
      "372           Han   0.567\n",
      "373            Al   0.567\n",
      "374            Su   0.567\n",
      "375          Tong   0.567\n",
      "376         Daisy   0.567\n",
      "377         Jones   0.567\n",
      "378           Got   0.600\n",
      "379          Mike   0.600\n",
      "380          Into   0.600\n",
      "381            Ra   0.600\n",
      "382            En   0.600\n",
      "383         Teddy   0.600\n",
      "384          Mill   0.600\n",
      "385           Del   0.600\n",
      "386           Fox   0.600\n",
      "387          Horn   0.600\n",
      "388         Liang   0.600\n",
      "389          Moon   0.600\n",
      "390      Division   0.600\n",
      "391        Forest   0.600\n",
      "392           Ban   0.600\n",
      "393          Nick   0.600\n",
      "394          Hall   0.600\n",
      "395          Bean   0.600\n",
      "396         Anger   0.633\n",
      "397         Woods   0.633\n",
      "398            Fu   0.633\n",
      "399          Hero   0.633\n",
      "400           Den   0.633\n",
      "401      Sterling   0.633\n",
      "402         Lodge   0.633\n",
      "403           Pen   0.633\n",
      "404            Fi   0.633\n",
      "405        Milton   0.633\n",
      "406        Franco   0.633\n",
      "407            Mi   0.633\n",
      "408           Pet   0.633\n",
      "409           Jun   0.633\n",
      "410          Arts   0.633\n",
      "411         Lucas   0.633\n",
      "412            La   0.633\n",
      "413          Hung   0.633\n",
      "414          Soft   0.633\n",
      "415          Yuan   0.633\n",
      "416         Diego   0.633\n",
      "417      McDonald   0.633\n",
      "418            At   0.633\n",
      "419         Santa   0.667\n",
      "420         James   0.667\n",
      "421           Lee   0.667\n",
      "422         Helen   0.667\n",
      "423           Big   0.667\n",
      "424        Ferris   0.667\n",
      "425           Was   0.667\n",
      "426        Steven   0.667\n",
      "427         Blanc   0.667\n",
      "428          Jill   0.667\n",
      "429         Julie   0.667\n",
      "430           Wen   0.667\n",
      "431          Tang   0.667\n",
      "432         Falls   0.667\n",
      "433          Card   0.667\n",
      "434        Walker   0.667\n",
      "435           Ram   0.667\n",
      "436        Knight   0.667\n",
      "437            Da   0.667\n",
      "438           Can   0.667\n",
      "439          Rock   0.667\n",
      "440          Miss   0.700\n",
      "441          Jane   0.700\n",
      "442            Lo   0.700\n",
      "443          Sang   0.700\n",
      "444         Paulo   0.700\n",
      "445          Ford   0.700\n",
      "446           Ace   0.700\n",
      "447         Steve   0.700\n",
      "448          Jazz   0.700\n",
      "449          Emma   0.700\n",
      "450          Grey   0.700\n",
      "451           Amy   0.700\n",
      "452           Buy   0.700\n",
      "453       Patrick   0.700\n",
      "454           Tin   0.700\n",
      "455           Con   0.700\n",
      "456            St   0.700\n",
      "457            Ba   0.700\n",
      "458            Mu   0.733\n",
      "459       Carlton   0.733\n",
      "460        Donald   0.733\n",
      "461            Sa   0.733\n",
      "462           The   0.733\n",
      "463         Right   0.733\n",
      "464          Riku   0.733\n",
      "465        Nelson   0.733\n",
      "466          Gala   0.733\n",
      "467      Superman   0.733\n",
      "468       Pacific   0.733\n",
      "469         Baker   0.767\n",
      "470           Joe   0.767\n",
      "471            Bo   0.767\n",
      "472          Fort   0.767\n",
      "473    Washington   0.767\n",
      "474           Cha   0.767\n",
      "475       Butcher   0.767\n",
      "476          Lisa   0.767\n",
      "477            Em   0.767\n",
      "478           Bay   0.767\n",
      "479          Will   0.767\n",
      "480         Atlas   0.767\n",
      "481          Gang   0.767\n",
      "482          Mona   0.767\n",
      "483        Hammer   0.767\n",
      "484          Want   0.767\n",
      "485           Tao   0.767\n",
      "486            In   0.800\n",
      "487        Thomas   0.833\n",
      "488         Carey   1.000\n",
      "489       Carolyn   1.000\n",
      "490        Sheila   1.000\n",
      "491         Cheng   1.000\n",
      "492        Edward   1.000\n",
      "493       Simmons   1.000\n",
      "494         Pratt   1.000\n",
      "495          Finn   1.000\n",
      "496          Erik   1.000\n",
      "497         Celia   1.000\n",
      "498           Sal   1.000\n",
      "499           Kim   1.000\n",
      "500       Christy   1.000\n",
      "501       Valerie   1.000\n",
      "502      Eastwood   1.000\n",
      "503       Andrews   1.000\n",
      "504          Gran   1.000\n",
      "505       Picasso   1.000\n",
      "506          Vita   1.000\n",
      "507        Jeremy   1.000\n",
      "508       Shirley   1.000\n",
      "509        Willis   1.000\n",
      "510        Amanda   1.000\n",
      "511      Margaret   1.000\n",
      "512        Amelia   1.000\n",
      "513          Mara   1.000\n",
      "514       Lillian   1.000\n",
      "515         Patti   1.000\n",
      "516          Vera   1.000\n",
      "517          Gail   1.000\n",
      "518        Harold   1.000\n",
      "519        Harper   1.000\n",
      "520             X   1.000\n",
      "521         Cohen   1.000\n",
      "522        Justin   1.000\n",
      "523        Lester   1.000\n",
      "524       Allison   1.000\n",
      "525       Abigail   1.000\n",
      "526      Nicholas   1.000\n",
      "527       Collins   1.000\n",
      "528         Randy   1.000\n",
      "529     Patterson   1.000\n",
      "530         Obama   1.000\n",
      "531        George   1.000\n",
      "532          Owen   1.000\n",
      "533        Hubert   1.000\n",
      "534        Gordon   1.000\n",
      "535     Nathaniel   1.000\n",
      "536        Nicole   1.000\n",
      "537        Denise   1.000\n",
      "538       Christi   1.000\n",
      "539        Arthur   1.000\n",
      "540        Nathan   1.000\n",
      "541       Sherman   1.000\n",
      "542             R   1.000\n",
      "543        Brooke   1.000\n",
      "544            Ju   1.000\n",
      "545     Schneider   1.000\n",
      "546      Rosemary   1.000\n",
      "547         Wendy   1.000\n",
      "548         Scott   1.000\n",
      "549           Ari   1.000\n",
      "550        Howard   1.000\n",
      "551         Willy   1.000\n",
      "552         Angie   1.000\n",
      "553       Domingo   1.000\n",
      "554         Edgar   1.000\n",
      "555        Victor   1.000\n",
      "556         Zheng   1.000\n",
      "557         Nikki   1.000\n",
      "558          Zach   1.000\n",
      "559             S   1.000\n",
      "560         Quinn   1.000\n",
      "561        Archie   1.000\n",
      "562           Ken   1.000\n",
      "563     Mussolini   1.000\n",
      "564     Greenwood   1.000\n",
      "565          Dave   1.000\n",
      "566      Jennifer   1.000\n",
      "567           Fen   1.000\n",
      "568        Albert   1.000\n",
      "569           Chu   1.000\n",
      "570         Annie   1.000\n",
      "571       Roberts   1.000\n",
      "572          Josh   1.000\n",
      "573             D   1.000\n",
      "574           Lia   1.000\n",
      "575        Reeves   1.000\n",
      "576         Tommy   1.000\n",
      "577           Fay   1.000\n",
      "578           Pam   1.000\n",
      "579     Rodriguez   1.000\n",
      "580           Lim   1.000\n",
      "581        Barack   1.000\n",
      "582         Ernie   1.000\n",
      "583        Sharon   1.000\n",
      "584        Marcia   1.000\n",
      "585          Pope   1.000\n",
      "586        Samuel   1.000\n",
      "587         Drake   1.000\n",
      "588         Betsy   1.000\n",
      "589       Kaufman   1.000\n",
      "590     Rochester   1.000\n",
      "591          Rick   1.000\n",
      "592           Lam   1.000\n",
      "593          Kara   1.000\n",
      "594       Belinda   1.000\n",
      "595        Alison   1.000\n",
      "596        Willie   1.000\n",
      "597        Claire   1.000\n",
      "598          Herr   1.000\n",
      "599      Laurence   1.000\n",
      "600       Solomon   1.000\n",
      "601         Parry   1.000\n",
      "602      Brittany   1.000\n",
      "603         Kathy   1.000\n",
      "604       Cameron   1.000\n",
      "605         Tomas   1.000\n",
      "606      Achilles   1.000\n",
      "607        Phoebe   1.000\n",
      "608         Naomi   1.000\n",
      "609        Debbie   1.000\n",
      "610             T   1.000\n",
      "611         Riley   1.000\n",
      "612          Juan   1.000\n",
      "613        Clarke   1.000\n",
      "614          Yuri   1.000\n",
      "615         Becky   1.000\n",
      "616        Martha   1.000\n",
      "617            Op   1.000\n",
      "618        Harris   1.000\n",
      "619         Lilly   1.000\n",
      "620        Morgan   1.000\n",
      "621       Emerson   1.000\n",
      "622       Galileo   1.000\n",
      "623        Andrea   1.000\n",
      "624             J   1.000\n",
      "625       Matthew   1.000\n",
      "626       Compton   1.000\n",
      "627         Casey   1.000\n",
      "628         Jared   1.000\n",
      "629         Stacy   1.000\n",
      "630       Higgins   1.000\n",
      "631        Carlos   1.000\n",
      "632           Dev   1.000\n",
      "633        Lesley   1.000\n",
      "634         Reeve   1.000\n",
      "635          Vale   1.000\n",
      "636        Angela   1.000\n",
      "637          Mali   1.000\n",
      "638           Roy   1.000\n",
      "639         Woody   1.000\n",
      "640          Lama   1.000\n",
      "641         Clark   1.000\n",
      "642          Ivan   1.000\n",
      "643             L   1.000\n",
      "644         Bryan   1.000\n",
      "645             ’   1.000\n",
      "646        Larson   1.000\n",
      "647       Robbins   1.000\n",
      "648         Dolly   1.000\n",
      "649        Newton   1.000\n",
      "650          Leah   1.000\n",
      "651            KC   1.000\n",
      "652         Logan   1.000\n",
      "653        Horton   1.000\n",
      "654          Gill   1.000\n",
      "655       Stephan   1.000\n",
      "656       Mendoza   1.000\n",
      "657        Sophie   1.000\n",
      "658         Mandy   1.000\n",
      "659          Hart   1.000\n",
      "660          Rita   1.000\n",
      "661         Petra   1.000\n",
      "662          Tara   1.000\n",
      "663      Mitchell   1.000\n",
      "664        Powell   1.000\n",
      "665         Wyatt   1.000\n",
      "666       Colbert   1.000\n",
      "667          Hugh   1.000\n",
      "668       Hawkins   1.000\n",
      "669      Columbus   1.000\n",
      "670           Liz   1.000\n",
      "671     Elizabeth   1.000\n",
      "672          Jess   1.000\n",
      "673        Duncan   1.000\n",
      "674            Ed   1.000\n",
      "675       Phillip   1.000\n",
      "676       Neville   1.000\n",
      "677           Jay   1.000\n",
      "678        Briggs   1.000\n",
      "679      Giovanni   1.000\n",
      "680          Zhou   1.000\n",
      "681          Neil   1.000\n",
      "682        Darren   1.000\n",
      "683        Burton   1.000\n",
      "684           Hal   1.000\n",
      "685          Edna   1.000\n",
      "686          Devi   1.000\n",
      "687         Boris   1.000\n",
      "688         Susan   1.000\n",
      "689     Christina   1.000\n",
      "690       Cynthia   1.000\n",
      "691          Ella   1.000\n",
      "692         Tracy   1.000\n",
      "693        Herman   1.000\n",
      "694         Crane   1.000\n",
      "695             F   1.000\n",
      "696         Jason   1.000\n",
      "697          Greg   1.000\n",
      "698         Simon   1.000\n",
      "699        Millie   1.000\n",
      "700         Robin   1.000\n",
      "701         Levin   1.000\n",
      "702         Maris   1.000\n",
      "703       Jenkins   1.000\n",
      "704        Johnny   1.000\n",
      "705          Paul   1.000\n",
      "706          Shen   1.000\n",
      "707            ka   1.000\n",
      "708        Kramer   1.000\n",
      "709         Evans   1.000\n",
      "710         Susie   1.000\n",
      "711          Troy   1.000\n",
      "712          Alec   1.000\n",
      "713       Hancock   1.000\n",
      "714      Morrison   1.000\n",
      "715          Dora   1.000\n",
      "716      Veronica   1.000\n",
      "717          Jude   1.000\n",
      "718          Ryan   1.000\n",
      "719        Conrad   1.000\n",
      "720        Keller   1.000\n",
      "721          Reds   1.000\n",
      "722       Jameson   1.000\n",
      "723        Arnold   1.000\n",
      "724       Connell   1.000\n",
      "725        Santos   1.000\n",
      "726         Gates   1.000\n",
      "727        Laurie   1.000\n",
      "728          Eric   1.000\n",
      "729          Rudy   1.000\n",
      "730       McKenna   1.000\n",
      "731        Sophia   1.000\n",
      "732        Spears   1.000\n",
      "733          Sven   1.000\n",
      "734          Chan   1.000\n",
      "735          Dome   1.000\n",
      "736         Jacob   1.000\n",
      "737       Forster   1.000\n",
      "738        Carrie   1.000\n",
      "739        Connor   1.000\n",
      "740        Suzuki   1.000\n",
      "741       Tiffany   1.000\n",
      "742          Carr   1.000\n",
      "743       Wallace   1.000\n",
      "744     Stephanie   1.000\n",
      "745         Derek   1.000\n",
      "746        Daniel   1.000\n",
      "747         Elton   1.000\n",
      "748          Wong   1.000\n",
      "749      Fernando   1.000\n",
      "750          Sara   1.000\n",
      "751           Bai   1.000\n",
      "752       McBride   1.000\n",
      "753        Miller   1.000\n",
      "754         Trent   1.000\n",
      "755            Ka   1.000\n",
      "756          Luke   1.000\n",
      "757            Sc   1.000\n",
      "758          Faye   1.000\n",
      "759        Austen   1.000\n",
      "760         Lance   1.000\n",
      "761          Kurt   1.000\n",
      "762         Beast   1.000\n",
      "763           Zoe   1.000\n",
      "764        Yvonne   1.000\n",
      "765       Ventura   1.000\n",
      "766         Marty   1.000\n",
      "767        Hughes   1.000\n",
      "768          Dion   1.000\n",
      "769        Evelyn   1.000\n",
      "770           Mai   1.000\n",
      "771             U   1.000\n",
      "772        Martin   1.000\n",
      "773         Blair   1.000\n",
      "774          Evan   1.000\n",
      "775         Flora   1.000\n",
      "776         Patty   1.000\n",
      "777        Rogers   1.000\n",
      "778             E   1.000\n",
      "779        Grange   1.000\n",
      "780       Sampson   1.000\n",
      "781       Winston   1.000\n",
      "782          Iris   1.000\n",
      "783           Isa   1.000\n",
      "784        Davies   1.000\n",
      "785           Jul   1.000\n",
      "786        Jackie   1.000\n",
      "787         Jimmy   1.000\n",
      "788          Dana   1.000\n",
      "789         Katie   1.000\n",
      "790          Gina   1.000\n",
      "791      Benjamin   1.000\n",
      "792           Dal   1.000\n",
      "793         Bruce   1.000\n",
      "794        Adrian   1.000\n",
      "795          Gwen   1.000\n",
      "796    Carmichael   1.000\n",
      "797       Anthony   1.000\n",
      "798        Xavier   1.000\n",
      "799         Barry   1.000\n",
      "800         Mabel   1.000\n",
      "801          Ruth   1.000\n",
      "802        Jacobs   1.000\n",
      "803            Jr   1.000\n",
      "804      Isabelle   1.000\n",
      "805        Dennis   1.000\n",
      "806            Wu   1.000\n",
      "807          Ross   1.000\n",
      "808        Brenda   1.000\n",
      "809       Wharton   1.000\n",
      "810       Maurice   1.000\n",
      "811        Carole   1.000\n",
      "812        Leslie   1.000\n",
      "813          Jean   1.000\n",
      "814         Bates   1.000\n",
      "815        Elaine   1.000\n",
      "816         Geoff   1.000\n",
      "817         Cathy   1.000\n",
      "818         Eddie   1.000\n",
      "819     Stevenson   1.000\n",
      "820         Kerry   1.000\n",
      "821       Whitney   1.000\n",
      "822       Stevens   1.000\n",
      "823          Judy   1.000\n",
      "824          Alan   1.000\n",
      "825          Mick   1.000\n",
      "826          Sean   1.000\n",
      "827          Todd   1.000\n",
      "828            Ce   1.000\n",
      "829        Hudson   1.000\n",
      "830         Mario   1.000\n",
      "831         Bobby   1.000\n",
      "832        Andrew   1.000\n",
      "833             M   1.000\n",
      "834          Dale   1.000\n",
      "835          Pitt   1.000\n",
      "836        Graham   1.000\n",
      "837        Bryant   1.000\n",
      "838         Mason   1.000\n",
      "839       Deborah   1.000\n",
      "840            Je   1.000\n",
      "841         Polly   1.000\n",
      "842          Leon   1.000\n",
      "843        Isaiah   1.000\n",
      "844        Pamela   1.000\n",
      "845      Angelina   1.000\n",
      "846             I   1.000\n",
      "847         Carla   1.000\n",
      "848         Jerry   1.000\n",
      "849          Eddy   1.000\n",
      "850          Lucy   1.000\n",
      "851         Chris   1.000\n",
      "852         Harry   1.000\n",
      "853         Linda   1.000\n",
      "854          Nina   1.000\n",
      "855            El   1.000\n",
      "856       Dominic   1.000\n",
      "857             O   1.000\n",
      "858        Ashley   1.000\n",
      "859         Fiona   1.000\n",
      "860       Phyllis   1.000\n",
      "861       Sweeney   1.000\n",
      "862        Maddie   1.000\n",
      "863        Becker   1.000\n",
      "864         Dixon   1.000\n",
      "865             '   1.000\n",
      "866      Reynolds   1.000\n",
      "867          Kali   1.000\n",
      "868           Lai   1.000\n",
      "869           Soo   1.000\n",
      "870        Morley   1.000\n",
      "871        Curtis   1.000\n",
      "872      Samantha   1.000\n",
      "873         Jamie   1.000\n",
      "874      Jennings   1.000\n",
      "875         Corey   1.000\n",
      "876          Phil   1.000\n",
      "877           Tim   1.000\n",
      "878         Doris   1.000\n",
      "879      Randolph   1.000\n",
      "880         Adams   1.000\n",
      "881        Joshua   1.000\n",
      "882           Von   1.000\n",
      "883         Gerry   1.000\n",
      "884            Fr   1.000\n",
      "885     Henderson   1.000\n",
      "886           Tad   1.000\n",
      "887       Simpson   1.000\n",
      "888       Abraham   1.000\n",
      "889        Carter   1.000\n",
      "890         Basil   1.000\n",
      "891             P   1.000\n",
      "892         Wayne   1.000\n",
      "893         Eliza   1.000\n",
      "894           Gao   1.000\n",
      "895        Alonso   1.000\n",
      "896        Webber   1.000\n",
      "897         Kenny   1.000\n",
      "898            Xu   1.000\n",
      "899      Phillips   1.000\n",
      "900      Drummond   1.000\n",
      "901         Marsh   1.000\n",
      "902          Peck   1.000\n",
      "903         Donna   1.000\n",
      "904        Gustav   1.000\n",
      "905            Yu   1.000\n",
      "906        Connie   1.000\n",
      "907         Mitch   1.000\n",
      "908        McCain   1.000\n",
      "909          Kris   1.000\n",
      "910      Michelle   1.000\n",
      "911        Maggie   1.000\n",
      "912     Fairbanks   1.000\n",
      "913        Stefan   1.000\n",
      "914          Doug   1.000\n",
      "915   Christopher   1.000\n",
      "916          Rama   1.000\n",
      "917         Clint   1.000\n",
      "918        Joanna   1.000\n",
      "919        Philip   1.000\n",
      "920       Edwards   1.000\n",
      "921         Brent   1.000\n",
      "922       Clinton   1.000\n",
      "923         Ricky   1.000\n",
      "924         Diane   1.000\n",
      "925        Louise   1.000\n",
      "926         Halle   1.000\n",
      "927         Hayes   1.000\n",
      "928       Douglas   1.000\n",
      "929           Zhu   1.000\n",
      "930         Holly   1.000\n",
      "931         Lydia   1.000\n",
      "932             C   1.000\n",
      "933         Rubin   1.000\n",
      "934          Nora   1.000\n",
      "935          Lulu   1.000\n",
      "936             V   1.000\n",
      "937        Morris   1.000\n",
      "938          Kent   1.000\n",
      "939      Marshall   1.000\n",
      "940        Wright   1.000\n",
      "941         Stein   1.000\n",
      "942         Edith   1.000\n",
      "943         Erica   1.000\n",
      "944         Locke   1.000\n",
      "945        Foster   1.000\n",
      "946          Cain   1.000\n",
      "947     Alexander   1.000\n",
      "948          Myra   1.000\n",
      "949     Josephine   1.000\n",
      "950       Dorothy   1.000\n",
      "951           Liv   1.000\n",
      "952       Shelley   1.000\n",
      "953          Bros   1.000\n",
      "954           Yan   1.000\n",
      "955     Armstrong   1.000\n",
      "956           Dar   1.000\n",
      "957        Vivian   1.000\n",
      "958       Charlie   1.000\n",
      "959            ch   1.000\n",
      "960             w   1.000\n",
      "961          Bart   1.000\n",
      "962            Fe   1.000\n",
      "963         Allan   1.000\n",
      "964             K   1.000\n",
      "965         Weiss   1.000\n",
      "966             H   1.000\n",
      "967           Pol   1.000\n",
      "968      Sullivan   1.000\n",
      "969          Otis   1.000\n",
      "970        Cooper   1.000\n",
      "971         Davis   1.000\n",
      "972       Heather   1.000\n",
      "973            Po   1.000\n",
      "974       Vincent   1.000\n",
      "975          Monk   1.000\n",
      "976         Maria   1.000\n",
      "977        Benson   1.000\n",
      "978        Serena   1.000\n",
      "979         Ellen   1.000\n",
      "980           Cho   1.000\n",
      "981     Christine   1.000\n",
      "982        Stacey   1.000\n",
      "983        Rachel   1.000\n",
      "984            Ku   1.000\n",
      "985         Irene   1.000\n",
      "986          Neal   1.000\n",
      "987         Ethan   1.000\n",
      "988         Cindy   1.000\n",
      "989           Jon   1.000\n",
      "990           Mia   1.000\n",
      "991         Clive   1.000\n",
      "992         Clyde   1.000\n",
      "993          Tony   1.000\n",
      "994      Gretchen   1.000\n",
      "995       Vanessa   1.000\n",
      "996         Devon   1.000\n",
      "997      Patricia   1.000\n",
      "998      Richards   1.000\n",
      "999        Miriam   1.000\n",
      "1000     Harrison   1.000\n",
      "1001        Malik   1.000\n",
      "1002          Luc   1.000\n",
      "1003        Hilda   1.000\n",
      "1004        Roche   1.000\n",
      "1005    Sylvester   1.000\n",
      "1006      Richard   1.000\n",
      "1007   Richardson   1.000\n",
      "1008     Meredith   1.000\n",
      "1009       Sandra   1.000\n",
      "1010      Rodgers   1.000\n",
      "1011       Harvey   1.000\n",
      "1012      Natasha   1.000\n",
      "1013       Stuart   1.000\n",
      "1014         Olga   1.000\n",
      "1015       Marian   1.000\n",
      "1016        Larry   1.000\n",
      "1017      Melinda   1.000\n",
      "1018      Hepburn   1.000\n",
      "1019         Gale   1.000\n",
      "1020        Vicky   1.000\n",
      "1021         Joey   1.000\n",
      "1022       Darryl   1.000\n",
      "1023      Gregory   1.000\n",
      "1024        Fanny   1.000\n",
      "1025      Chaplin   1.000\n",
      "1026            x   1.000\n",
      "1027      Presley   1.000\n",
      "1028      Seymour   1.000\n",
      "1029        Edwin   1.000\n",
      "1030      Bradley   1.000\n",
      "1031      Leonard   1.000\n",
      "1032        Vince   1.000\n",
      "1033      Stewart   1.000\n",
      "1034     Kathleen   1.000\n",
      "1035       Peters   1.000\n",
      "1036      Willard   1.000\n",
      "1037     Friedman   1.000\n",
      "1038        Henry   1.000\n",
      "1039            W   1.000\n",
      "1040         Tina   1.000\n",
      "1041         Roth   1.000\n",
      "1042      Tristan   1.000\n",
      "1043           Ch   1.000\n",
      "1044       Walter   1.000\n",
      "1045          Bel   1.000\n",
      "1046      Dickens   1.000\n",
      "1047            Q   1.000\n",
      "1048      Francis   1.000\n",
      "1049        Megan   1.000\n",
      "1050        Kelly   1.000\n",
      "1051       Holmes   1.000\n",
      "1052     Williams   1.000\n",
      "1053      Goldman   1.000\n",
      "1054           Se   1.000\n",
      "1055         Brad   1.000\n",
      "1056        Comet   1.000\n",
      "1057       Wallis   1.000\n",
      "1058      Parsons   1.000\n",
      "1059       Lauren   1.000\n",
      "1060         Dick   1.000\n",
      "1061        Nigel   1.000\n",
      "1062            .   1.000\n",
      "1063         Yong   1.000\n",
      "1064          Vic   1.000\n",
      "1065         Bing   1.000\n",
      "1066           Tu   1.000\n",
      "1067          Eli   1.000\n",
      "1068        Zhang   1.000\n",
      "1069         Cody   1.000\n",
      "1070        Keith   1.000\n",
      "1071        Ralph   1.000\n",
      "1072        Pavel   1.000\n",
      "1073      Addison   1.000\n",
      "1074           Ko   1.000\n",
      "1075     Peterson   1.000\n",
      "1076         Joan   1.000\n",
      "1077         Toni   1.000\n",
      "1078       Teresa   1.000\n",
      "1079        Danny   1.000\n",
      "1080        Owens   1.000\n",
      "1081     Thompson   1.000\n",
      "1082         Lori   1.000\n",
      "1083           Ni   1.000\n",
      "1084         Jeff   1.000\n",
      "1085         Gary   1.000\n",
      "1086       Lawson   1.000\n",
      "1087            A   1.000\n",
      "1088            G   1.000\n",
      "1089       Joseph   1.000\n",
      "1090       Carson   1.000\n",
      "1091        Clare   1.000\n",
      "1092       Luther   1.000\n",
      "1093      Marilyn   1.000\n",
      "1094        Paula   1.000\n",
      "1095        Stern   1.000\n",
      "1096      Hopkins   1.000\n",
      "1097       Bernie   1.000\n",
      "1098        Jesse   1.000\n",
      "1099         Jake   1.000\n",
      "1100        Gavin   1.000\n",
      "1101        Monte   1.000\n",
      "1102       Pierce   1.000\n",
      "1103        Craig   1.000\n",
      "1104       Norton   1.000\n",
      "1105       Hilary   1.000\n",
      "1106      Lindsay   1.000\n",
      "1107      Michael   1.000\n",
      "1108        Dylan   1.000\n",
      "1109         Jung   1.000\n",
      "1110            N   1.000\n",
      "1111        Ellie   1.000\n",
      "1112        Isaac   1.000\n",
      "1113        Bruno   1.000\n",
      "1114           Jo   1.000\n",
      "1115    Churchill   1.000\n",
      "1116          Lil   1.000\n",
      "1117       Trevor   1.000\n",
      "1118    Katherine   1.000\n",
      "1119        Lewis   1.000\n",
      "1120       Carmen   1.000\n",
      "1121          Ana   1.000\n",
      "1122         Shaw   1.000\n",
      "1123     Isabella   1.000\n",
      "1124         Toby   1.000\n",
      "1125         Alex   1.000\n",
      "1126       Barker   1.000\n",
      "1127          Ali   1.000\n",
      "1128        Kevin   1.000\n",
      "1129       Eileen   1.000\n",
      "1130      Melissa   1.000\n",
      "1131       Vargas   1.000\n",
      "1132        Julia   1.000\n",
      "1133      Philips   1.000\n",
      "1134     Saunders   1.000\n",
      "1135       Ernest   1.000\n",
      "1136       Newman   1.000\n",
      "1137          Lea   1.000\n",
      "1138   Fitzgerald   1.000\n",
      "1139        Aaron   1.000\n",
      "1140        Marie   1.000\n",
      "1141       Nicola   1.000\n",
      "1142      Melanie   1.000\n",
      "1143        Reese   1.000\n",
      "1144       Mickey   1.000\n",
      "1145         Yang   1.000\n",
      "1146    Catherine   1.000\n",
      "1147      Rudolph   1.000\n",
      "1148      Sanders   1.000\n",
      "1149      Jessica   1.000\n",
      "1150      Enrique   1.000\n",
      "1151        Wills   1.000\n",
      "1152          Lau   1.000\n",
      "1153         Beth   1.000\n",
      "1154      Rebecca   1.000\n",
      "1155         Karl   1.000\n",
      "1156        Diana   1.000\n",
      "1157         Carl   1.000\n",
      "1158           Cy   1.000\n",
      "1159        Garry   1.000\n",
      "1160     Caroline   1.000\n",
      "1161       Dawson   1.000\n",
      "1162        Ethel   1.000\n",
      "1163        Sammy   1.000\n",
      "1164      Schmidt   1.000\n",
      "1165         Fred   1.000\n",
      "1166         Andy   1.000\n",
      "1167        Dante   1.000\n",
      "1168          Yao   1.000\n",
      "1169         Kahn   1.000\n",
      "1170        Sarah   1.000\n",
      "1171       Jessie   1.000\n",
      "1172          Din   1.000\n",
      "1173       Berger   1.000\n",
      "1174     Chandler   1.000\n",
      "1175       Robert   1.000\n"
     ]
    }
   ],
   "source": [
    "evaluate('data/all.pkl')\n",
    "evaluate('data/rare_once.pkl')\n",
    "#evaluate('data/noone.pkl')"
   ]
  },
  {
   "cell_type": "code",
   "execution_count": 151,
   "metadata": {},
   "outputs": [
    {
     "name": "stdout",
     "output_type": "stream",
     "text": [
      "\\begin{table}\n",
      "\\caption{hello}\n",
      "\\begin{tabular}{lr}\n",
      "\\toprule\n",
      "Names & Metric \\\\\n",
      "\\midrule\n",
      "Yug & 0.50 \\\\\n",
      "Julie & 0.70 \\\\\n",
      "Yang & 1.00 \\\\\n",
      "Stefan & 1.00 \\\\\n",
      "Christine & 1.00 \\\\\n",
      "Ted & 1.00 \\\\\n",
      "Atlas & 1.00 \\\\\n",
      "Po & 1.00 \\\\\n",
      "Johnson & 1.00 \\\\\n",
      "Tim & 1.00 \\\\\n",
      "Chang & 1.00 \\\\\n",
      "Bill & 1.00 \\\\\n",
      "Vivian & 1.00 \\\\\n",
      "Smith & 1.00 \\\\\n",
      "Men & 1.00 \\\\\n",
      "Mi & 1.00 \\\\\n",
      "Nicole & 1.00 \\\\\n",
      "Montgomery & 1.00 \\\\\n",
      "G & 1.00 \\\\\n",
      "Soo & 1.00 \\\\\n",
      "\\bottomrule\n",
      "\\end{tabular}\n",
      "\\end{table}\n",
      "\n"
     ]
    }
   ],
   "source": [
    "tex =  df_flips[:20].to_latex(\n",
    "    index=False,\n",
    "    float_format=\"{:.2f}\".format,\n",
    "    caption='hello')\n",
    "print(tex)"
   ]
  },
  {
   "cell_type": "code",
   "execution_count": 112,
   "metadata": {},
   "outputs": [
    {
     "data": {
      "text/plain": [
       "True"
      ]
     },
     "execution_count": 112,
     "metadata": {},
     "output_type": "execute_result"
    }
   ],
   "source": [
    "'#' in 'f#'"
   ]
  }
 ],
 "metadata": {
  "kernelspec": {
   "display_name": "ds",
   "language": "python",
   "name": "python3"
  },
  "language_info": {
   "codemirror_mode": {
    "name": "ipython",
    "version": 3
   },
   "file_extension": ".py",
   "mimetype": "text/x-python",
   "name": "python",
   "nbconvert_exporter": "python",
   "pygments_lexer": "ipython3",
   "version": "3.11.4"
  },
  "orig_nbformat": 4
 },
 "nbformat": 4,
 "nbformat_minor": 2
}
