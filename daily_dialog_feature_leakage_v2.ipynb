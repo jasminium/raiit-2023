{
 "cells": [
  {
   "cell_type": "code",
   "execution_count": 1,
   "metadata": {},
   "outputs": [],
   "source": [
    "import json\n",
    "from uuid import uuid4\n",
    "from collections import Counter\n",
    "\n",
    "import pandas as pd\n",
    "from tqdm import tqdm\n",
    "import numpy as np\n",
    "from datasets import load_dataset\n",
    "from imblearn.under_sampling import RandomUnderSampler\n",
    "from imblearn.over_sampling import RandomOverSampler\n",
    "import optuna\n",
    "import shap\n",
    "from sklearn.feature_extraction.text import TfidfVectorizer\n",
    "from sklearn.linear_model import SGDClassifier\n",
    "from sklearn.metrics import classification_report, f1_score\n",
    "\n",
    "from imblearn.over_sampling import RandomOverSampler\n",
    "\n",
    "from transformers import AutoTokenizer, AutoModelForTokenClassification\n",
    "from transformers import pipeline\n",
    "\n",
    "import pickle\n"
   ]
  },
  {
   "cell_type": "code",
   "execution_count": 2,
   "metadata": {},
   "outputs": [
    {
     "name": "stdout",
     "output_type": "stream",
     "text": [
      "Riku\n"
     ]
    }
   ],
   "source": [
    "results_df = pd.read_csv('data/ner_deep_learning_results.csv')\n",
    "mistakes = results_df[(results_df['y_pred'] == 0) & (results_df.model == 'dslim/bert-base-NER')]['Name'].to_numpy()\n",
    "mistakes\n",
    "rng = np.random.default_rng(seed=0)\n",
    "hard_name = rng.choice(mistakes)\n",
    "print(hard_name)\n",
    "switch_name = 'Peter'\n",
    "targets = ['no emotion', 'anger', 'disgust', 'fear', 'happiness', 'sadness', 'surprise']\n"
   ]
  },
  {
   "cell_type": "markdown",
   "metadata": {},
   "source": [
    "# NER False Negatives"
   ]
  },
  {
   "cell_type": "code",
   "execution_count": 32,
   "metadata": {},
   "outputs": [
    {
     "data": {
      "text/plain": [
       "array(['A', 'A', 'A', ..., 'Zion', 'Zion', 'Zion'], dtype=object)"
      ]
     },
     "execution_count": 32,
     "metadata": {},
     "output_type": "execute_result"
    }
   ],
   "source": []
  },
  {
   "cell_type": "markdown",
   "metadata": {},
   "source": [
    "# feature importance"
   ]
  },
  {
   "cell_type": "code",
   "execution_count": 6,
   "metadata": {},
   "outputs": [
    {
     "data": {
      "application/vnd.jupyter.widget-view+json": {
       "model_id": "e4436f32d71146bf9448eedd3d87eea7",
       "version_major": 2,
       "version_minor": 0
      },
      "text/plain": [
       "Downloading (…)okenizer_config.json:   0%|          | 0.00/59.0 [00:00<?, ?B/s]"
      ]
     },
     "metadata": {},
     "output_type": "display_data"
    },
    {
     "data": {
      "application/vnd.jupyter.widget-view+json": {
       "model_id": "c93adfe6b95747049d6c31906aa2ebdc",
       "version_major": 2,
       "version_minor": 0
      },
      "text/plain": [
       "Downloading (…)lve/main/config.json:   0%|          | 0.00/829 [00:00<?, ?B/s]"
      ]
     },
     "metadata": {},
     "output_type": "display_data"
    },
    {
     "data": {
      "application/vnd.jupyter.widget-view+json": {
       "model_id": "4cf02994d6334850b25890c9372e0bcd",
       "version_major": 2,
       "version_minor": 0
      },
      "text/plain": [
       "Downloading (…)solve/main/vocab.txt:   0%|          | 0.00/213k [00:00<?, ?B/s]"
      ]
     },
     "metadata": {},
     "output_type": "display_data"
    },
    {
     "data": {
      "application/vnd.jupyter.widget-view+json": {
       "model_id": "506300a4b1d54fe0865632bff9a94962",
       "version_major": 2,
       "version_minor": 0
      },
      "text/plain": [
       "Downloading (…)in/added_tokens.json:   0%|          | 0.00/2.00 [00:00<?, ?B/s]"
      ]
     },
     "metadata": {},
     "output_type": "display_data"
    },
    {
     "data": {
      "application/vnd.jupyter.widget-view+json": {
       "model_id": "320a6e651ac343488e0d32268e67a31c",
       "version_major": 2,
       "version_minor": 0
      },
      "text/plain": [
       "Downloading (…)cial_tokens_map.json:   0%|          | 0.00/112 [00:00<?, ?B/s]"
      ]
     },
     "metadata": {},
     "output_type": "display_data"
    },
    {
     "data": {
      "application/vnd.jupyter.widget-view+json": {
       "model_id": "c3338e2440024889a54daff5047c35f1",
       "version_major": 2,
       "version_minor": 0
      },
      "text/plain": [
       "Downloading model.safetensors:   0%|          | 0.00/433M [00:00<?, ?B/s]"
      ]
     },
     "metadata": {},
     "output_type": "display_data"
    }
   ],
   "source": [
    "model_name='dslim/bert-base-NER'\n",
    "tokenizer = AutoTokenizer.from_pretrained(model_name)\n",
    "model = AutoModelForTokenClassification.from_pretrained(model_name)\n",
    "\n",
    "\n",
    "\n",
    "def train(who='all', n_samples=100, fp='data/output.pkl'):\n",
    "    \"\"\"\n",
    "    who: 'all' - anonyimise everyone\n",
    "    who: 'rare-once' - only insert the rare name once\n",
    "    \"\"\"\n",
    "\n",
    "    removed_names = set()\n",
    "\n",
    "    def anonymise(sentence, who='all'):\n",
    "        global rare_insert_count\n",
    "        nlp = pipeline(\"ner\", model=model, tokenizer=tokenizer)\n",
    "        ner_results = nlp(sentence)\n",
    "        for item in ner_results:\n",
    "            # https://huggingface.co/dslim/bert-base-NER\n",
    "            if item['entity'] in ['B-PER', 'I-PER']:\n",
    "                # Assume that there rare name IS in the dataset. We replace another name with hard name.\n",
    "                if who == 'all':\n",
    "                    if item['word'] == switch_name:\n",
    "                        sentence = sentence.replace(item['word'], hard_name)\n",
    "                        print(sentence)\n",
    "                    else:\n",
    "                        sentence = sentence.replace(item['word'], '')\n",
    "                        removed_names.add(item['word'])\n",
    "\n",
    "                elif who == 'rare_once':\n",
    "                    if item['word'] == switch_name and rare_insert_count < 1:\n",
    "                        sentence = sentence.replace(item['word'], hard_name)\n",
    "                        print(sentence)\n",
    "                        rare_insert_count += 1\n",
    "                    else:\n",
    "                        sentence = sentence.replace(item['word'], '')\n",
    "                        removed_names.add(item['word'])\n",
    "                elif who == 'noone':\n",
    "                    if item['word'] == switch_name:\n",
    "                        sentence = sentence.replace(item['word'], hard_name)\n",
    "                        print(sentence)\n",
    "                else:\n",
    "                    raise NotImplementedError(f'{who} is an unknown option')\n",
    "\n",
    "        return sentence\n",
    "\n",
    "    def process(split='train', ner=True):    \n",
    "    \n",
    "        utterance = []\n",
    "        ids = []\n",
    "        label = []\n",
    "        act = []\n",
    "        \n",
    "        # Apply the function to all examples in the dataset\n",
    "        dataset = load_dataset('daily_dialog', split=split)\n",
    "        \n",
    "        if n_samples:\n",
    "            nd = n_samples\n",
    "        else:\n",
    "            nd = len(dataset)\n",
    "        \n",
    "        for i in tqdm(range(nd)):\n",
    "            example = dataset[i]\n",
    "            did = uuid4()\n",
    "            for j in range(len(example['dialog'])):\n",
    "                text = example['dialog'][j]\n",
    "                # add previous sentnce xontext\n",
    "                if j > 1:\n",
    "                    text = str(example['emotion'][j - 1]) + ' ' + example['dialog'][j - 1] + ' ' + text\n",
    "                if ner:\n",
    "                    text = anonymise(text, who=who)\n",
    "                utterance.append(text)\n",
    "                act.append(example['act'][j])\n",
    "                label.append(example['emotion'][j])\n",
    "                ids.append(did)\n",
    "\n",
    "        data = {\n",
    "            'text': utterance,\n",
    "            'label': label,\n",
    "            'attr': act,\n",
    "            'id': ids\n",
    "        }\n",
    "\n",
    "        df = pd.DataFrame(data=data)\n",
    "\n",
    "        return df\n",
    "    \n",
    "    global rare_insert_count\n",
    "    rare_insert_count = 0\n",
    "    df_train = process(split='train')\n",
    "    print('n train', len(df_train))\n",
    "    rare_insert_count = 0\n",
    "    df_valid = process(split='validation')\n",
    "    rare_insert_count = 0\n",
    "    df_test = process(split='test')\n",
    "\n",
    "    print(list(set(removed_names)))\n",
    "\n",
    "    # improves macro f1\n",
    "    rus = RandomOverSampler(random_state=42)\n",
    "    df_train, _ = rus.fit_resample(df_train, df_train.label)\n",
    "\n",
    "    counts = Counter(df_train.label)\n",
    "    print('train label dist.', counts)\n",
    "\n",
    "    clf = SGDClassifier(loss='log_loss', penalty='l2', alpha=1.0930076764057076e-05, n_jobs=-1)\n",
    "    vec = TfidfVectorizer()\n",
    "\n",
    "    X_train_tfidf = vec.fit_transform(df_train.text.to_list())\n",
    "    X_valid_tfidf = vec.transform(df_valid.text.to_list())\n",
    "    X_test_tfidf = vec.transform(df_test.text.to_list())\n",
    "\n",
    "    clf.fit(X_train_tfidf, df_train.label)\n",
    "\n",
    "    y_pred = clf.predict(X_test_tfidf)\n",
    "    y_true = df_test.label\n",
    "    report = classification_report(y_true, y_pred)\n",
    "    print(report)\n",
    "\n",
    "    r = (clf, vec, removed_names, X_train_tfidf, df_train, X_test_tfidf, df_test)\n",
    "\n",
    "    f = open(fp, 'wb')\n",
    "    pickle.dump(r, f)\n",
    "    f.close()\n",
    "\n",
    "    return r\n"
   ]
  },
  {
   "cell_type": "code",
   "execution_count": null,
   "metadata": {},
   "outputs": [],
   "source": [
    "r_all = train(who='all', n_samples=None, fp='data/all.pkl') # anonymise everyone\n"
   ]
  },
  {
   "cell_type": "markdown",
   "metadata": {},
   "source": [
    "# Evaluate label flipping"
   ]
  },
  {
   "cell_type": "code",
   "execution_count": 57,
   "metadata": {},
   "outputs": [],
   "source": [
    "from scipy.stats import entropy\n",
    "from sklearn.metrics import accuracy_score\n",
    "import matplotlib.pyplot as plt\n",
    "import seaborn as sns\n",
    "from styles import fig_size\n",
    "\n",
    "sns.set_style('white')\n",
    "sns.set_context('paper')\n",
    "sns.set_palette('tab10')\n",
    "\n",
    "def evaluate(fp, num_sentence, num_preds, test_name):\n",
    "\n",
    "    f = open(fp, 'rb')\n",
    "    clf, vec, removed_names, X_train_tfidf, df_train, X_test_tfidf, df_test = pickle.load(f)\n",
    "    f.close()\n",
    "\n",
    "    explainer = shap.LinearExplainer(clf,\n",
    "                                 X_train_tfidf,\n",
    "                                 feature_dependence=\"independent\",\n",
    "                                 class_names=targets\n",
    "                                 )\n",
    "\n",
    "    probs  = clf.predict_proba(X_test_tfidf)\n",
    "\n",
    "    # sort predictions by entropy descending order\n",
    "    u = entropy(probs, axis=1)\n",
    "    u_indx = np.argsort(u)[::-1]\n",
    "    u_text = df_test.text.to_numpy()[u_indx]\n",
    "\n",
    "    # print top 5 most informative predictions\n",
    "    print(u_text[:5])\n",
    "\n",
    "    # Names which NER removed but are not names\n",
    "    blacklist = [\n",
    "        'Mr',\n",
    "        'Call',\n",
    "        'Long',\n",
    "        'My',\n",
    "        'Car',\n",
    "        'He',\n",
    "        'Mum',\n",
    "        'Black',\n",
    "        'Drive',\n",
    "        'White',\n",
    "        'Ma',\n",
    "        'Z',\n",
    "        'B',\n",
    "        'Sun',\n",
    "        '.',\n",
    "        'Mad',\n",
    "        'Mon',\n",
    "        'Cat',\n",
    "        'Ball',\n",
    "        'Hell',\n",
    "        'Sounds',\n",
    "        'Shut',\n",
    "        'Aunt',\n",
    "        'Rich',\n",
    "        'Map',\n",
    "        'Kitty',\n",
    "        'Dead',\n",
    "        'God',\n",
    "        'Uncle',\n",
    "        'Don',\n",
    "        'Pink',\n",
    "        'Elvis',\n",
    "        'Na',\n",
    "        'Ad',\n",
    "        'Smith',\n",
    "        'Ward',\n",
    "        'Lord',\n",
    "        'Jin',\n",
    "        'gun',\n",
    "        'Child',\n",
    "        'car',\n",
    "        'Gross',\n",
    "        'Men',\n",
    "        'Win',\n",
    "        'OK',\n",
    "        'Ok',\n",
    "        'Coke',\n",
    "        'Mister',\n",
    "        'Church',\n",
    "        'Sea',\n",
    "        'Rice',\n",
    "        'Per',\n",
    "        'don',\n",
    "        'Dog',\n",
    "        'Darling',\n",
    "        'Song',\n",
    "        'Min',\n",
    "        'Eye',\n",
    "        'Must',\n",
    "        'Man',\n",
    "        'Due',\n",
    "        'Arm',\n",
    "        'Wood',\n",
    "        'Jam',\n",
    "        'Pan',\n",
    "        'Dad',\n",
    "        'Hey',\n",
    "        'Run',\n",
    "        'Mouse',\n",
    "        'Over',\n",
    "        'Dancer'\n",
    "        ]\n",
    "\n",
    "    # Create a white list\n",
    "    whitelist = []\n",
    "\n",
    "    for name in removed_names:\n",
    "        if '#' not in name:\n",
    "            whitelist.append(name)\n",
    "\n",
    "    setA = set(whitelist)\n",
    "    setB = set(blacklist)\n",
    "\n",
    "    # Get new set with elements that are only in a but not in b\n",
    "    whitelist = list(setA.difference(setB))\n",
    "\n",
    "    # Number of best predictions to check for label flipping\n",
    "    top_pred = num_preds\n",
    "    summary_plot = False\n",
    "\n",
    "    names = ['', 'NAME', hard_name] + whitelist\n",
    "\n",
    "    # top k highest entropy sentences\n",
    "    entropy_k = num_sentence\n",
    "    sentences = u_text[:entropy_k]\n",
    "    # predictions for all names, test sets\n",
    "    preds = []\n",
    "\n",
    "    for name in names:\n",
    "\n",
    "        # add the name to start of every sentence\n",
    "        test_sentences_text = [f'{name} {sentence}' for sentence in sentences]\n",
    "\n",
    "        # get features\n",
    "        test_sentences = vec.transform(test_sentences_text)\n",
    "\n",
    "        # explain features\n",
    "        shap_values = explainer.shap_values(test_sentences)\n",
    "\n",
    "        X_test_array = test_sentences.toarray()\n",
    "\n",
    "        if name==test_name:\n",
    "            [print(test_sentence) for test_sentence in test_sentences_text]\n",
    "            shap.summary_plot(shap_values,\n",
    "                            X_test_array,\n",
    "                            feature_names=vec.get_feature_names_out(),\n",
    "                            class_names=targets,\n",
    "                            #plot_size=(3, 2),\n",
    "                            max_display=2,\n",
    "                            show=False)\n",
    "            \n",
    "            fig, ax = plt.gcf(), plt.gca()\n",
    "\n",
    "\n",
    "            ax.set_xlabel('SHAP value')\n",
    "            fig.set_figwidth(3)\n",
    "            fig.set_figwidth(2)\n",
    "            for item in ([ax.title, ax.xaxis.label, ax.yaxis.label] +\n",
    "                ax.get_xticklabels() + ax.get_yticklabels() + ax.legend().get_texts()):\n",
    "                item.set_fontsize(5)\n",
    "\n",
    "            fig.tight_layout()\n",
    "            plt.legend(ncol=3, prop={'size': 5})\n",
    "\n",
    "            plt.show()\n",
    "\n",
    "            print(ax)\n",
    "\n",
    "        out = clf.predict(test_sentences)\n",
    "        probs = clf.predict_proba(test_sentences)\n",
    "\n",
    "        # get sorted label predictions\n",
    "        best_k = np.argsort(probs, axis=1)[:, ::-1]\n",
    "\n",
    "        preds.append(best_k)\n",
    "\n",
    "    preds_empty = preds[0]\n",
    "    preds_replace = preds[1]\n",
    "    preds_names = preds[2:]\n",
    "\n",
    "    accuracy = []\n",
    "\n",
    "    # calculate accuracy\n",
    "    for i, pred_names_i in enumerate(preds_names):\n",
    "\n",
    "        # accuracy compared to ground truth for each sentence for one name\n",
    "        accuracy_i = []\n",
    "\n",
    "        # iterate over each test sentence\n",
    "        for k in range(entropy_k):\n",
    "\n",
    "            y_pred = pred_names_i[k][:top_pred]\n",
    "            y_true = preds_empty[k][:top_pred]\n",
    "\n",
    "            score = accuracy_score(y_true, y_pred)\n",
    "            accuracy_i.append(score)\n",
    "        \n",
    "        accuracy.append(accuracy_i)\n",
    "\n",
    "    mean_score = np.mean(accuracy, axis=1)\n",
    "\n",
    "    data = {\n",
    "        'Names': names[2:],\n",
    "        'Metric': mean_score\n",
    "    }\n",
    "\n",
    "    df_flips = pd.DataFrame(data)\n",
    "    df_flips = df_flips.sort_values('Metric').reset_index(drop=True)\n",
    "    with pd.option_context('display.max_rows', None,\n",
    "                        'display.max_columns', None,\n",
    "                        #'display.precision', 9,\n",
    "                        ):\n",
    "        print(df_flips[:5])\n",
    "    \n",
    "  \n",
    "    \n",
    "    plt.figure(figsize=(3, 3/1.6))\n",
    "    sns.histplot(data=df_flips, x='Metric')\n",
    "    plt.xlabel('Accuracy')\n",
    "    plt.show()\n"
   ]
  },
  {
   "cell_type": "code",
   "execution_count": 58,
   "metadata": {},
   "outputs": [
    {
     "name": "stderr",
     "output_type": "stream",
     "text": [
      "The option feature_dependence has been renamed to feature_perturbation!\n",
      "The option feature_perturbation=\"independent\" is has been renamed to feature_perturbation=\"interventional\"!\n",
      "The feature_perturbation option is now deprecated in favor of using the appropriate masker (maskers.Independent, or maskers.Impute)\n",
      "The figure layout has changed to tight\n"
     ]
    },
    {
     "name": "stdout",
     "output_type": "stream",
     "text": [
      "['6  I didn ’ t know it would be so big !   It is ! Look there , those are the tracks . And the jumping pit is over there . '\n",
      " '5  He ’ s the love of my life ! I ’ e really messed this up .   Come on , hon . Pull yourself together . It ’ s going to be alright . '\n",
      " '0  Did it scare you ?   Of course not . I just thought the movie was ... boring . '\n",
      " '2  That bad egg , who took the low road since he was a boy .   I think I must report to the cops . '\n",
      " \"0  Oh , yes . I remember it clearly . Is there anything wrong with it ?   I'm afraid so . We found this crack on the bottom when I went back to my hotel . \"]\n",
      "Riku 6  I didn ’ t know it would be so big !   It is ! Look there , those are the tracks . And the jumping pit is over there . \n",
      "Riku 5  He ’ s the love of my life ! I ’ e really messed this up .   Come on , hon . Pull yourself together . It ’ s going to be alright . \n",
      "Riku 0  Did it scare you ?   Of course not . I just thought the movie was ... boring . \n",
      "Riku 2  That bad egg , who took the low road since he was a boy .   I think I must report to the cops . \n",
      "Riku 0  Oh , yes . I remember it clearly . Is there anything wrong with it ?   I'm afraid so . We found this crack on the bottom when I went back to my hotel . \n",
      "Riku 5  I know . I wonder what's keeping him .   Looks like he won't show up . He's done this before , hasn't he ? \n",
      "Riku 0  I know . I wonder what's keeping him .   Looks like he won't show up . He's done this before , hasn't he ? \n",
      "Riku 4  Oh , look ! That was the one there . That is the sort of thing I was looking for . But it's not quite the color .   That might be the artificial lighting , madam . Of course , if you could come back in daylight , you might find it ’ s exactly what you are looking for . \n",
      "Riku 0  Well , I'd like to , but I am not sure I have time .   Oh , come on ! Just a quick one ! \n",
      "Riku Why don't you sit down and relax , darling ? \n"
     ]
    },
    {
     "ename": "TypeError",
     "evalue": "Legend.__init__() got an unexpected keyword argument 'font_size'",
     "output_type": "error",
     "traceback": [
      "\u001b[0;31m---------------------------------------------------------------------------\u001b[0m",
      "\u001b[0;31mTypeError\u001b[0m                                 Traceback (most recent call last)",
      "Cell \u001b[0;32mIn[58], line 1\u001b[0m\n\u001b[0;32m----> 1\u001b[0m evaluate(\u001b[39m'\u001b[39;49m\u001b[39mdata/all.pkl\u001b[39;49m\u001b[39m'\u001b[39;49m, \u001b[39m10\u001b[39;49m, \u001b[39m5\u001b[39;49m, \u001b[39m'\u001b[39;49m\u001b[39mRiku\u001b[39;49m\u001b[39m'\u001b[39;49m)\n",
      "Cell \u001b[0;32mIn[57], line 167\u001b[0m, in \u001b[0;36mevaluate\u001b[0;34m(fp, num_sentence, num_preds, test_name)\u001b[0m\n\u001b[1;32m    164\u001b[0m     item\u001b[39m.\u001b[39mset_fontsize(\u001b[39m5\u001b[39m)\n\u001b[1;32m    166\u001b[0m fig\u001b[39m.\u001b[39mtight_layout()\n\u001b[0;32m--> 167\u001b[0m plt\u001b[39m.\u001b[39;49mlegend(ncol\u001b[39m=\u001b[39;49m\u001b[39m3\u001b[39;49m, font_size\u001b[39m=\u001b[39;49m\u001b[39m5\u001b[39;49m)\n\u001b[1;32m    169\u001b[0m plt\u001b[39m.\u001b[39mshow()\n\u001b[1;32m    171\u001b[0m \u001b[39mprint\u001b[39m(ax)\n",
      "File \u001b[0;32m~/anaconda3/envs/raiit-2023/lib/python3.11/site-packages/matplotlib/pyplot.py:2710\u001b[0m, in \u001b[0;36mlegend\u001b[0;34m(*args, **kwargs)\u001b[0m\n\u001b[1;32m   2708\u001b[0m \u001b[39m@_copy_docstring_and_deprecators\u001b[39m(Axes\u001b[39m.\u001b[39mlegend)\n\u001b[1;32m   2709\u001b[0m \u001b[39mdef\u001b[39;00m \u001b[39mlegend\u001b[39m(\u001b[39m*\u001b[39margs, \u001b[39m*\u001b[39m\u001b[39m*\u001b[39mkwargs):\n\u001b[0;32m-> 2710\u001b[0m     \u001b[39mreturn\u001b[39;00m gca()\u001b[39m.\u001b[39;49mlegend(\u001b[39m*\u001b[39;49margs, \u001b[39m*\u001b[39;49m\u001b[39m*\u001b[39;49mkwargs)\n",
      "File \u001b[0;32m~/anaconda3/envs/raiit-2023/lib/python3.11/site-packages/matplotlib/axes/_axes.py:318\u001b[0m, in \u001b[0;36mAxes.legend\u001b[0;34m(self, *args, **kwargs)\u001b[0m\n\u001b[1;32m    316\u001b[0m \u001b[39mif\u001b[39;00m \u001b[39mlen\u001b[39m(extra_args):\n\u001b[1;32m    317\u001b[0m     \u001b[39mraise\u001b[39;00m \u001b[39mTypeError\u001b[39;00m(\u001b[39m'\u001b[39m\u001b[39mlegend only accepts two non-keyword arguments\u001b[39m\u001b[39m'\u001b[39m)\n\u001b[0;32m--> 318\u001b[0m \u001b[39mself\u001b[39m\u001b[39m.\u001b[39mlegend_ \u001b[39m=\u001b[39m mlegend\u001b[39m.\u001b[39;49mLegend(\u001b[39mself\u001b[39;49m, handles, labels, \u001b[39m*\u001b[39;49m\u001b[39m*\u001b[39;49mkwargs)\n\u001b[1;32m    319\u001b[0m \u001b[39mself\u001b[39m\u001b[39m.\u001b[39mlegend_\u001b[39m.\u001b[39m_remove_method \u001b[39m=\u001b[39m \u001b[39mself\u001b[39m\u001b[39m.\u001b[39m_remove_legend\n\u001b[1;32m    320\u001b[0m \u001b[39mreturn\u001b[39;00m \u001b[39mself\u001b[39m\u001b[39m.\u001b[39mlegend_\n",
      "File \u001b[0;32m~/anaconda3/envs/raiit-2023/lib/python3.11/site-packages/matplotlib/_api/deprecation.py:454\u001b[0m, in \u001b[0;36mmake_keyword_only.<locals>.wrapper\u001b[0;34m(*args, **kwargs)\u001b[0m\n\u001b[1;32m    448\u001b[0m \u001b[39mif\u001b[39;00m \u001b[39mlen\u001b[39m(args) \u001b[39m>\u001b[39m name_idx:\n\u001b[1;32m    449\u001b[0m     warn_deprecated(\n\u001b[1;32m    450\u001b[0m         since, message\u001b[39m=\u001b[39m\u001b[39m\"\u001b[39m\u001b[39mPassing the \u001b[39m\u001b[39m%(name)s\u001b[39;00m\u001b[39m \u001b[39m\u001b[39m%(obj_type)s\u001b[39;00m\u001b[39m \u001b[39m\u001b[39m\"\u001b[39m\n\u001b[1;32m    451\u001b[0m         \u001b[39m\"\u001b[39m\u001b[39mpositionally is deprecated since Matplotlib \u001b[39m\u001b[39m%(since)s\u001b[39;00m\u001b[39m; the \u001b[39m\u001b[39m\"\u001b[39m\n\u001b[1;32m    452\u001b[0m         \u001b[39m\"\u001b[39m\u001b[39mparameter will become keyword-only \u001b[39m\u001b[39m%(removal)s\u001b[39;00m\u001b[39m.\u001b[39m\u001b[39m\"\u001b[39m,\n\u001b[1;32m    453\u001b[0m         name\u001b[39m=\u001b[39mname, obj_type\u001b[39m=\u001b[39m\u001b[39mf\u001b[39m\u001b[39m\"\u001b[39m\u001b[39mparameter of \u001b[39m\u001b[39m{\u001b[39;00mfunc\u001b[39m.\u001b[39m\u001b[39m__name__\u001b[39m\u001b[39m}\u001b[39;00m\u001b[39m()\u001b[39m\u001b[39m\"\u001b[39m)\n\u001b[0;32m--> 454\u001b[0m \u001b[39mreturn\u001b[39;00m func(\u001b[39m*\u001b[39;49margs, \u001b[39m*\u001b[39;49m\u001b[39m*\u001b[39;49mkwargs)\n",
      "\u001b[0;31mTypeError\u001b[0m: Legend.__init__() got an unexpected keyword argument 'font_size'"
     ]
    },
    {
     "data": {
      "image/png": "[encoded data removed]",
      "text/plain": [
       "<Figure size 200x230 with 1 Axes>"
      ]
     },
     "metadata": {},
     "output_type": "display_data"
    }
   ],
   "source": [
    "evaluate('data/all.pkl', 10, 5, 'Riku')"
   ]
  },
  {
   "cell_type": "code",
   "execution_count": 151,
   "metadata": {},
   "outputs": [
    {
     "name": "stdout",
     "output_type": "stream",
     "text": [
      "\\begin{table}\n",
      "\\caption{hello}\n",
      "\\begin{tabular}{lr}\n",
      "\\toprule\n",
      "Names & Metric \\\\\n",
      "\\midrule\n",
      "Yug & 0.50 \\\\\n",
      "Julie & 0.70 \\\\\n",
      "Yang & 1.00 \\\\\n",
      "Stefan & 1.00 \\\\\n",
      "Christine & 1.00 \\\\\n",
      "Ted & 1.00 \\\\\n",
      "Atlas & 1.00 \\\\\n",
      "Po & 1.00 \\\\\n",
      "Johnson & 1.00 \\\\\n",
      "Tim & 1.00 \\\\\n",
      "Chang & 1.00 \\\\\n",
      "Bill & 1.00 \\\\\n",
      "Vivian & 1.00 \\\\\n",
      "Smith & 1.00 \\\\\n",
      "Men & 1.00 \\\\\n",
      "Mi & 1.00 \\\\\n",
      "Nicole & 1.00 \\\\\n",
      "Montgomery & 1.00 \\\\\n",
      "G & 1.00 \\\\\n",
      "Soo & 1.00 \\\\\n",
      "\\bottomrule\n",
      "\\end{tabular}\n",
      "\\end{table}\n",
      "\n"
     ]
    }
   ],
   "source": [
    "tex =  df_flips[:20].to_latex(\n",
    "    index=False,\n",
    "    float_format=\"{:.2f}\".format,\n",
    "    caption='hello')\n",
    "print(tex)"
   ]
  },
  {
   "cell_type": "code",
   "execution_count": 112,
   "metadata": {},
   "outputs": [
    {
     "data": {
      "text/plain": [
       "True"
      ]
     },
     "execution_count": 112,
     "metadata": {},
     "output_type": "execute_result"
    }
   ],
   "source": [
    "'#' in 'f#'"
   ]
  }
 ],
 "metadata": {
  "kernelspec": {
   "display_name": "ds",
   "language": "python",
   "name": "python3"
  },
  "language_info": {
   "codemirror_mode": {
    "name": "ipython",
    "version": 3
   },
   "file_extension": ".py",
   "mimetype": "text/x-python",
   "name": "python",
   "nbconvert_exporter": "python",
   "pygments_lexer": "ipython3",
   "version": "3.11.4"
  },
  "orig_nbformat": 4
 },
 "nbformat": 4,
 "nbformat_minor": 2
}
