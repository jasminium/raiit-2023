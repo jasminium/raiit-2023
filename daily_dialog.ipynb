{
 "cells": [
  {
   "cell_type": "code",
   "execution_count": 1,
   "metadata": {},
   "outputs": [],
   "source": [
    "import json\n",
    "from uuid import uuid4\n",
    "from collections import Counter\n",
    "\n",
    "import pandas as pd\n",
    "from tqdm import tqdm\n",
    "import numpy as np\n",
    "from datasets import load_dataset\n",
    "from imblearn.under_sampling import RandomUnderSampler\n",
    "from imblearn.over_sampling import RandomOverSampler\n",
    "import optuna\n",
    "import shap\n",
    "from sklearn.feature_extraction.text import TfidfVectorizer\n",
    "from sklearn.linear_model import SGDClassifier\n",
    "from sklearn.metrics import classification_report, f1_score\n",
    "\n",
    "from imblearn.over_sampling import RandomOverSampler\n",
    "\n",
    "from transformers import AutoTokenizer, AutoModelForTokenClassification\n",
    "from transformers import pipeline\n",
    "\n",
    "import pickle\n"
   ]
  },
  {
   "cell_type": "code",
   "execution_count": 2,
   "metadata": {},
   "outputs": [
    {
     "name": "stdout",
     "output_type": "stream",
     "text": [
      "Riku\n"
     ]
    }
   ],
   "source": [
    "results_df = pd.read_csv('data/ner_deep_learning_results.csv')\n",
    "mistakes = results_df[(results_df['y_pred'] == 0) & (results_df.model == 'dslim/bert-base-NER')]['Name'].to_numpy()\n",
    "mistakes\n",
    "rng = np.random.default_rng(seed=0)\n",
    "hard_name = rng.choice(mistakes)\n",
    "print(hard_name)\n",
    "switch_name = 'Peter'\n",
    "targets = ['no emotion', 'anger', 'disgust', 'fear', 'happiness', 'sadness', 'surprise']\n"
   ]
  },
  {
   "cell_type": "markdown",
   "metadata": {},
   "source": [
    "# NER False Negatives"
   ]
  },
  {
   "cell_type": "code",
   "execution_count": 32,
   "metadata": {},
   "outputs": [
    {
     "data": {
      "text/plain": [
       "array(['A', 'A', 'A', ..., 'Zion', 'Zion', 'Zion'], dtype=object)"
      ]
     },
     "execution_count": 32,
     "metadata": {},
     "output_type": "execute_result"
    }
   ],
   "source": []
  },
  {
   "cell_type": "markdown",
   "metadata": {},
   "source": [
    "# feature importance"
   ]
  },
  {
   "cell_type": "code",
   "execution_count": 3,
   "metadata": {},
   "outputs": [],
   "source": [
    "model_name='dslim/bert-base-NER'\n",
    "tokenizer = AutoTokenizer.from_pretrained(model_name)\n",
    "model = AutoModelForTokenClassification.from_pretrained(model_name)\n",
    "\n",
    "\n",
    "\n",
    "def train(who='all', n_samples=100, fp='data/output.pkl'):\n",
    "    \"\"\"\n",
    "    who: 'all' - anonyimise everyone\n",
    "    who: 'rare-once' - only insert the rare name once\n",
    "    \"\"\"\n",
    "\n",
    "    removed_names = set()\n",
    "\n",
    "    def anonymise(sentence, who='all'):\n",
    "        global rare_insert_count\n",
    "        nlp = pipeline(\"ner\", model=model, tokenizer=tokenizer)\n",
    "        ner_results = nlp(sentence)\n",
    "        for item in ner_results:\n",
    "            # https://huggingface.co/dslim/bert-base-NER\n",
    "            if item['entity'] in ['B-PER', 'I-PER']:\n",
    "                # Assume that there rare name IS in the dataset. We replace another name with hard name.\n",
    "                if who == 'all':\n",
    "                    if item['word'] == switch_name:\n",
    "                        sentence = sentence.replace(item['word'], hard_name)\n",
    "                        print(sentence)\n",
    "                    else:\n",
    "                        sentence = sentence.replace(item['word'], '')\n",
    "                        removed_names.add(item['word'])\n",
    "\n",
    "                elif who == 'rare_once':\n",
    "                    if item['word'] == switch_name and rare_insert_count < 1:\n",
    "                        sentence = sentence.replace(item['word'], hard_name)\n",
    "                        print(sentence)\n",
    "                        rare_insert_count += 1\n",
    "                    else:\n",
    "                        sentence = sentence.replace(item['word'], '')\n",
    "                        removed_names.add(item['word'])\n",
    "                elif who == 'noone':\n",
    "                    if item['word'] == switch_name:\n",
    "                        sentence = sentence.replace(item['word'], hard_name)\n",
    "                        print(sentence)\n",
    "                else:\n",
    "                    raise NotImplementedError(f'{who} is an unknown option')\n",
    "\n",
    "        return sentence\n",
    "\n",
    "    def process(split='train', ner=True):    \n",
    "    \n",
    "        utterance = []\n",
    "        ids = []\n",
    "        label = []\n",
    "        act = []\n",
    "        \n",
    "        # Apply the function to all examples in the dataset\n",
    "        dataset = load_dataset('daily_dialog', split=split)\n",
    "        \n",
    "        if n_samples:\n",
    "            nd = n_samples\n",
    "        else:\n",
    "            nd = len(dataset)\n",
    "        \n",
    "        for i in tqdm(range(nd)):\n",
    "            example = dataset[i]\n",
    "            did = uuid4()\n",
    "            for j in range(len(example['dialog'])):\n",
    "                text = example['dialog'][j]\n",
    "                # add previous sentnce xontext\n",
    "                if j > 1:\n",
    "                    text = str(example['emotion'][j - 1]) + ' ' + example['dialog'][j - 1] + ' ' + text\n",
    "                if ner:\n",
    "                    text = anonymise(text, who=who)\n",
    "                utterance.append(text)\n",
    "                act.append(example['act'][j])\n",
    "                label.append(example['emotion'][j])\n",
    "                ids.append(did)\n",
    "\n",
    "        data = {\n",
    "            'text': utterance,\n",
    "            'label': label,\n",
    "            'attr': act,\n",
    "            'id': ids\n",
    "        }\n",
    "\n",
    "        df = pd.DataFrame(data=data)\n",
    "\n",
    "        return df\n",
    "    \n",
    "    global rare_insert_count\n",
    "    rare_insert_count = 0\n",
    "    df_train = process(split='train')\n",
    "    print('n train', len(df_train))\n",
    "    rare_insert_count = 0\n",
    "    df_valid = process(split='validation')\n",
    "    rare_insert_count = 0\n",
    "    df_test = process(split='test')\n",
    "\n",
    "    print(list(set(removed_names)))\n",
    "\n",
    "    # improves macro f1\n",
    "    rus = RandomOverSampler(random_state=42)\n",
    "    df_train, _ = rus.fit_resample(df_train, df_train.label)\n",
    "\n",
    "    counts = Counter(df_train.label)\n",
    "    print('train label dist.', counts)\n",
    "\n",
    "    clf = SGDClassifier(loss='log_loss', penalty='l2', alpha=1.0930076764057076e-05, n_jobs=-1)\n",
    "    vec = TfidfVectorizer()\n",
    "\n",
    "    X_train_tfidf = vec.fit_transform(df_train.text.to_list())\n",
    "    X_valid_tfidf = vec.transform(df_valid.text.to_list())\n",
    "    X_test_tfidf = vec.transform(df_test.text.to_list())\n",
    "\n",
    "    clf.fit(X_train_tfidf, df_train.label)\n",
    "\n",
    "    y_pred = clf.predict(X_test_tfidf)\n",
    "    y_true = df_test.label\n",
    "    report = classification_report(y_true, y_pred)\n",
    "    print(report)\n",
    "\n",
    "    r = (clf, vec, removed_names, X_train_tfidf, df_train, X_test_tfidf, df_test)\n",
    "\n",
    "    f = open(fp, 'wb')\n",
    "    pickle.dump(r, f)\n",
    "    f.close()\n",
    "\n",
    "    return r\n"
   ]
  },
  {
   "cell_type": "code",
   "execution_count": 4,
   "metadata": {},
   "outputs": [
    {
     "name": "stderr",
     "output_type": "stream",
     "text": [
      "Found cached dataset daily_dialog (/home/john/.cache/huggingface/datasets/daily_dialog/default/1.0.0/1d0a58c7f2a4dab5ed9d01dbde8e55e0058e589ab81fce5c2df929ea810eabcd)\n",
      "  0%|          | 40/11118 [00:10<46:47,  3.95it/s]  "
     ]
    },
    {
     "name": "stdout",
     "output_type": "stream",
     "text": [
      " Great idea ! Riku , I could use the drink . \n",
      "4  Great idea ! Riku , I could use the drink .   How about the new bar across road ? \n"
     ]
    },
    {
     "name": "stderr",
     "output_type": "stream",
     "text": [
      "  3%|▎         | 319/11118 [01:21<45:52,  3.92it/s]  "
     ]
    },
    {
     "name": "stdout",
     "output_type": "stream",
     "text": [
      "Did you hear Riku just retired ? \n"
     ]
    },
    {
     "name": "stderr",
     "output_type": "stream",
     "text": [
      "  4%|▍         | 442/11118 [01:49<39:26,  4.51it/s]  "
     ]
    },
    {
     "name": "stdout",
     "output_type": "stream",
     "text": [
      "Who broke the glass , Riku ? \n"
     ]
    },
    {
     "name": "stderr",
     "output_type": "stream",
     "text": [
      "  4%|▍         | 468/11118 [01:59<1:17:21,  2.29it/s]"
     ]
    },
    {
     "name": "stdout",
     "output_type": "stream",
     "text": [
      "0  Well , so long , Mary . Have fun .   You too , Riku . Give my regards to John . I'll see you in September . \n"
     ]
    },
    {
     "name": "stderr",
     "output_type": "stream",
     "text": [
      "  5%|▍         | 521/11118 [02:13<29:48,  5.92it/s]  "
     ]
    },
    {
     "name": "stdout",
     "output_type": "stream",
     "text": [
      "Riku and Mary broke up . \n"
     ]
    },
    {
     "name": "stderr",
     "output_type": "stream",
     "text": [
      "  6%|▌         | 654/11118 [02:51<35:50,  4.86it/s]  "
     ]
    },
    {
     "name": "stdout",
     "output_type": "stream",
     "text": [
      " Great idea ! Riku , I could use the drink . \n",
      "4  Great idea ! Riku , I could use the drink .   How about the new bar across road ? \n"
     ]
    },
    {
     "name": "stderr",
     "output_type": "stream",
     "text": [
      " 10%|▉         | 1077/11118 [04:37<48:39,  3.44it/s] "
     ]
    },
    {
     "name": "stdout",
     "output_type": "stream",
     "text": [
      "0  Who's coming ?   Riku.Riku Brown , you know.Don ' t forget to bring the letter . \n",
      "0  Who's coming ?   Riku.Riku Brown , you know.Don ' t forget to bring the letter . \n",
      "0  Riku.Riku Brown , you know.Don ' t forget to bring the letter .   Sorry . I didn't quite catch what you said.There ' s a lot of noise outside . \n",
      "0  Riku.Riku Brown , you know.Don ' t forget to bring the letter .   Sorry . I didn't quite catch what you said.There ' s a lot of noise outside . \n"
     ]
    },
    {
     "name": "stderr",
     "output_type": "stream",
     "text": [
      " 18%|█▊        | 1967/11118 [08:58<45:53,  3.32it/s]  "
     ]
    },
    {
     "name": "stdout",
     "output_type": "stream",
     "text": [
      "0  All right .   Riku ! Pack them . Don't read them . \n"
     ]
    },
    {
     "name": "stderr",
     "output_type": "stream",
     "text": [
      " 19%|█▉        | 2110/11118 [09:29<37:33,  4.00it/s]"
     ]
    },
    {
     "name": "stdout",
     "output_type": "stream",
     "text": [
      "4  I think you can say your seventh great grandfather ! Cutie ! What's his name ?   Riku Madsen . A great A if I do say so myself . \n",
      "0  Riku Madsen . A great A if I do say so myself .   Nice pun . What is it you active about him most ? \n"
     ]
    },
    {
     "name": "stderr",
     "output_type": "stream",
     "text": [
      " 19%|█▉        | 2132/11118 [09:34<36:21,  4.12it/s]"
     ]
    },
    {
     "name": "stdout",
     "output_type": "stream",
     "text": [
      " Thank you , Riku . Come into the dining room . We are going to cut the cake soon . \n",
      "4  Thank you , Riku . Come into the dining room . We are going to cut the cake soon .   Ok , who is that girl ? \n"
     ]
    },
    {
     "name": "stderr",
     "output_type": "stream",
     "text": [
      " 20%|█▉        | 2203/11118 [09:51<34:00,  4.37it/s]  "
     ]
    },
    {
     "name": "stdout",
     "output_type": "stream",
     "text": [
      "Hi , Riku . I ’ m afraid I can ’ t make it to dinner tomorrow night . \n"
     ]
    },
    {
     "name": "stderr",
     "output_type": "stream",
     "text": [
      " 21%|██        | 2359/11118 [10:33<30:12,  4.83it/s]  "
     ]
    },
    {
     "name": "stdout",
     "output_type": "stream",
     "text": [
      "Riku is a bag lady now . \n"
     ]
    },
    {
     "name": "stderr",
     "output_type": "stream",
     "text": [
      " 24%|██▍       | 2676/11118 [12:01<34:54,  4.03it/s]  "
     ]
    },
    {
     "name": "stdout",
     "output_type": "stream",
     "text": [
      "What is wrong with Riku ? He sure looks unhappy . \n"
     ]
    },
    {
     "name": "stderr",
     "output_type": "stream",
     "text": [
      " 24%|██▍       | 2678/11118 [12:01<27:57,  5.03it/s]"
     ]
    },
    {
     "name": "stdout",
     "output_type": "stream",
     "text": [
      "Riku , which club do you want to join ? \n"
     ]
    },
    {
     "name": "stderr",
     "output_type": "stream",
     "text": [
      " 27%|██▋       | 2989/11118 [13:35<41:23,  3.27it/s]  "
     ]
    },
    {
     "name": "stdout",
     "output_type": "stream",
     "text": [
      "Hi ! Riku . How are you ? \n"
     ]
    },
    {
     "name": "stderr",
     "output_type": "stream",
     "text": [
      " 27%|██▋       | 2995/11118 [13:37<53:34,  2.53it/s]  "
     ]
    },
    {
     "name": "stdout",
     "output_type": "stream",
     "text": [
      " Hi , Riku . I didn't see you last night . Where did you go ? \n",
      "0  Hi , Riku . I didn't see you last night . Where did you go ?   I was almost on line the whole night . \n"
     ]
    },
    {
     "name": "stderr",
     "output_type": "stream",
     "text": [
      " 29%|██▉       | 3267/11118 [14:55<39:17,  3.33it/s]  "
     ]
    },
    {
     "name": "stdout",
     "output_type": "stream",
     "text": [
      " Thank you , Riku . \n",
      "4  Thank you , Riku .   Oh , let's come in and enjoy yourself . \n",
      "4  Oh , let's come in and enjoy yourself .   Happy birthday , Riku , and many happy returns of the day . Here's a present for you . \n",
      "4  Happy birthday , Riku , and many happy returns of the day . Here's a present for you .   Thank you , Li Mei . Come into the dining room . I'm going to cut the cake soon . \n"
     ]
    },
    {
     "name": "stderr",
     "output_type": "stream",
     "text": [
      " 30%|██▉       | 3292/11118 [15:02<48:04,  2.71it/s]"
     ]
    },
    {
     "name": "stdout",
     "output_type": "stream",
     "text": [
      "Riku really is a remarkable expert ! There is very little he doesn ’ t know . \n"
     ]
    },
    {
     "name": "stderr",
     "output_type": "stream",
     "text": [
      " 31%|███       | 3459/11118 [15:54<52:12,  2.45it/s]  "
     ]
    },
    {
     "name": "stdout",
     "output_type": "stream",
     "text": [
      "Riku , have you finished your English composition ? \n"
     ]
    },
    {
     "name": "stderr",
     "output_type": "stream",
     "text": [
      " 31%|███▏      | 3496/11118 [16:05<29:16,  4.34it/s]"
     ]
    },
    {
     "name": "stdout",
     "output_type": "stream",
     "text": [
      " Nice to see you again , too . Riku . How's your family ? \n",
      "0  Nice to see you again , too . Riku . How's your family ?   Very well . How's Mrs . Clinton ? \n"
     ]
    },
    {
     "name": "stderr",
     "output_type": "stream",
     "text": [
      " 36%|███▋      | 4038/11118 [18:30<32:43,  3.61it/s]  "
     ]
    },
    {
     "name": "stdout",
     "output_type": "stream",
     "text": [
      "0  Oh ! I forgot all about it . Of course you can have it back , John . I'm sorry about the delay .   Well , it doesn't matter . I almost forgot it too if it is not for Riku who asked me about it this coming . \n"
     ]
    },
    {
     "name": "stderr",
     "output_type": "stream",
     "text": [
      " 37%|███▋      | 4076/11118 [18:41<36:27,  3.22it/s]"
     ]
    },
    {
     "name": "stdout",
     "output_type": "stream",
     "text": [
      "So Riku , do you have a favorite comedy ? \n"
     ]
    },
    {
     "name": "stderr",
     "output_type": "stream",
     "text": [
      " 41%|████      | 4572/11118 [20:59<33:03,  3.30it/s]  "
     ]
    },
    {
     "name": "stdout",
     "output_type": "stream",
     "text": [
      "0  OK , I suppose , but she's had a rough time in the last few years , She got divorced .   What , from Riku ? \n",
      "0  What , from Riku ?   Oh , of course . \n"
     ]
    },
    {
     "name": "stderr",
     "output_type": "stream",
     "text": [
      " 43%|████▎     | 4807/11118 [21:58<30:15,  3.48it/s]"
     ]
    },
    {
     "name": "stdout",
     "output_type": "stream",
     "text": [
      "Well , Riku , you have to do better than that next time , won ’ t you ? \n"
     ]
    },
    {
     "name": "stderr",
     "output_type": "stream",
     "text": [
      " 43%|████▎     | 4828/11118 [22:04<42:02,  2.49it/s]"
     ]
    },
    {
     "name": "stdout",
     "output_type": "stream",
     "text": [
      "Well , Riku . I'm sorry you're ill . What's the matter with you ? \n"
     ]
    },
    {
     "name": "stderr",
     "output_type": "stream",
     "text": [
      " 44%|████▍     | 4903/11118 [22:25<31:42,  3.27it/s]"
     ]
    },
    {
     "name": "stdout",
     "output_type": "stream",
     "text": [
      "Well , Riku , you have to do better than that next time , won't you ? \n"
     ]
    },
    {
     "name": "stderr",
     "output_type": "stream",
     "text": [
      " 44%|████▍     | 4917/11118 [22:30<31:19,  3.30it/s]"
     ]
    },
    {
     "name": "stdout",
     "output_type": "stream",
     "text": [
      "0  Did someone get hurt ?   A driver died instantly . The other one was badly hurt . A poor boy called Riku was killed in the accident too . \n",
      "0  A driver died instantly . The other one was badly hurt . A poor boy called Riku was killed in the accident too .   What a terrible accident ! Who should be responsible for this traffic accident ? \n"
     ]
    },
    {
     "name": "stderr",
     "output_type": "stream",
     "text": [
      " 45%|████▍     | 4978/11118 [22:47<31:55,  3.20it/s]"
     ]
    },
    {
     "name": "stdout",
     "output_type": "stream",
     "text": [
      "Hello , I'm sorry for calling this late . May I speak to Riku ? \n"
     ]
    },
    {
     "name": "stderr",
     "output_type": "stream",
     "text": [
      " 45%|████▌     | 5050/11118 [23:10<26:06,  3.87it/s]"
     ]
    },
    {
     "name": "stdout",
     "output_type": "stream",
     "text": [
      "Take care , Riku . Don't run so fast.Are you tired ? \n"
     ]
    },
    {
     "name": "stderr",
     "output_type": "stream",
     "text": [
      " 46%|████▌     | 5114/11118 [23:31<24:31,  4.08it/s]"
     ]
    },
    {
     "name": "stdout",
     "output_type": "stream",
     "text": [
      "Look , who's here , Riku ! \n"
     ]
    },
    {
     "name": "stderr",
     "output_type": "stream",
     "text": [
      " 48%|████▊     | 5318/11118 [24:33<24:34,  3.93it/s]"
     ]
    },
    {
     "name": "stdout",
     "output_type": "stream",
     "text": [
      " It's Riku's turn . \n",
      "0  It's Riku's turn .   Give the mike to him . \n"
     ]
    },
    {
     "name": "stderr",
     "output_type": "stream",
     "text": [
      " 52%|█████▏    | 5757/11118 [26:31<20:09,  4.43it/s]"
     ]
    },
    {
     "name": "stdout",
     "output_type": "stream",
     "text": [
      "0  Good morning ! Welcome to our office !   Nice to meet you ! My name is Riku Smith . \n",
      "0  Nice to meet you ! My name is Riku Smith .   Nice to meet you too ! I am George Williams . \n"
     ]
    },
    {
     "name": "stderr",
     "output_type": "stream",
     "text": [
      " 55%|█████▌    | 6123/11118 [28:09<17:51,  4.66it/s]"
     ]
    },
    {
     "name": "stdout",
     "output_type": "stream",
     "text": [
      "Riku , I hope you will accept my quotation for the air freshener . \n"
     ]
    },
    {
     "name": "stderr",
     "output_type": "stream",
     "text": [
      " 55%|█████▌    | 6124/11118 [28:09<20:29,  4.06it/s]"
     ]
    },
    {
     "name": "stdout",
     "output_type": "stream",
     "text": [
      "0  Then , I am sorry to say I must regretfully decline your offer and seek quotations for the other suppliers .   I'm sorry , Riku . I hope you'll continue to approach us on other occasions if you cannot accept our offer now . \n",
      "0  I'm sorry , Riku . I hope you'll continue to approach us on other occasions if you cannot accept our offer now .   Yes . I'll welcome other opportunities to do business with you . \n"
     ]
    },
    {
     "name": "stderr",
     "output_type": "stream",
     "text": [
      " 55%|█████▌    | 6147/11118 [28:14<17:04,  4.85it/s]"
     ]
    },
    {
     "name": "stdout",
     "output_type": "stream",
     "text": [
      "Riku , listen to the lyrics of this song . \n"
     ]
    },
    {
     "name": "stderr",
     "output_type": "stream",
     "text": [
      " 59%|█████▉    | 6603/11118 [30:25<21:43,  3.46it/s]"
     ]
    },
    {
     "name": "stdout",
     "output_type": "stream",
     "text": [
      "Welcome home , Riku ! \n"
     ]
    },
    {
     "name": "stderr",
     "output_type": "stream",
     "text": [
      " 61%|██████    | 6775/11118 [31:14<14:51,  4.87it/s]"
     ]
    },
    {
     "name": "stdout",
     "output_type": "stream",
     "text": [
      "Riku ? This is Steven from China . I've got the document you want . \n"
     ]
    },
    {
     "name": "stderr",
     "output_type": "stream",
     "text": [
      " 61%|██████    | 6805/11118 [31:21<16:16,  4.42it/s]"
     ]
    },
    {
     "name": "stdout",
     "output_type": "stream",
     "text": [
      " What happened , Riku ? Did you have a fight ? \n",
      "0  What happened , Riku ? Did you have a fight ?   No , mom . I didn't . \n"
     ]
    },
    {
     "name": "stderr",
     "output_type": "stream",
     "text": [
      " 63%|██████▎   | 7028/11118 [32:25<14:19,  4.76it/s]"
     ]
    },
    {
     "name": "stdout",
     "output_type": "stream",
     "text": [
      "Hello , this is Riku Dixon from NEZ news radio . May I speak to Mr . Wilson please ? \n"
     ]
    },
    {
     "name": "stderr",
     "output_type": "stream",
     "text": [
      " 63%|██████▎   | 7042/11118 [32:28<19:57,  3.40it/s]"
     ]
    },
    {
     "name": "stdout",
     "output_type": "stream",
     "text": [
      "0  Put it in the waste-paper basket , please .   But Riku and Tony put all their paper in the basket a few moments ago.Now it's full . \n",
      "0  But Riku and Tony put all their paper in the basket a few moments ago.Now it's full .   In that case , take the basket outside and empty it . \n"
     ]
    },
    {
     "name": "stderr",
     "output_type": "stream",
     "text": [
      " 65%|██████▍   | 7185/11118 [33:07<24:23,  2.69it/s]"
     ]
    },
    {
     "name": "stdout",
     "output_type": "stream",
     "text": [
      "Riku , it's time to eat breakfast . \n"
     ]
    },
    {
     "name": "stderr",
     "output_type": "stream",
     "text": [
      " 69%|██████▉   | 7687/11118 [35:21<18:04,  3.16it/s]"
     ]
    },
    {
     "name": "stdout",
     "output_type": "stream",
     "text": [
      " Yes . This is Riku calling from New York , I have to change the date of reservation . \n",
      "0  Yes . This is Riku calling from New York , I have to change the date of reservation .   How and in whose name has the reservation been made ? \n"
     ]
    },
    {
     "name": "stderr",
     "output_type": "stream",
     "text": [
      " 71%|███████▏  | 7936/11118 [36:30<10:27,  5.07it/s]"
     ]
    },
    {
     "name": "stdout",
     "output_type": "stream",
     "text": [
      "0  I don't know yet . What's your idea , Dad ?   I'm thinking of taking you and Riku swimming . What do you think ? \n",
      "0  I'm thinking of taking you and Riku swimming . What do you think ?   Dad ! It's cold now ! \n"
     ]
    },
    {
     "name": "stderr",
     "output_type": "stream",
     "text": [
      " 73%|███████▎  | 8101/11118 [37:17<10:09,  4.95it/s]"
     ]
    },
    {
     "name": "stdout",
     "output_type": "stream",
     "text": [
      "0  It's dusty everywhere in the house . Can you help me do the housecleaning ?   OK . I will call Riku to clean it together . \n",
      "0  OK . I will call Riku to clean it together .   That's my good girl . The clothes need washing . I'll do the laundry . \n"
     ]
    },
    {
     "name": "stderr",
     "output_type": "stream",
     "text": [
      " 74%|███████▎  | 8193/11118 [37:41<13:31,  3.61it/s]"
     ]
    },
    {
     "name": "stdout",
     "output_type": "stream",
     "text": [
      "0  Who's coming ?   Riku . Riku Brown , you know . Don't forget to bring the letter . \n",
      "0  Who's coming ?   Riku . Riku Brown , you know . Don't forget to bring the letter . \n",
      "0  Riku . Riku Brown , you know . Don't forget to bring the letter .   Sorry . I didn't quite catch what you said . There's a lot of noise outside . \n",
      "0  Riku . Riku Brown , you know . Don't forget to bring the letter .   Sorry . I didn't quite catch what you said . There's a lot of noise outside . \n"
     ]
    },
    {
     "name": "stderr",
     "output_type": "stream",
     "text": [
      " 74%|███████▍  | 8225/11118 [37:51<15:28,  3.12it/s]"
     ]
    },
    {
     "name": "stdout",
     "output_type": "stream",
     "text": [
      " Yes , my name is Riku . I have made a reservation for a single room from June 18th to June 21st . I'd like to make some changes . The reservation should only be to June 20th . \n",
      "0  Yes , my name is Riku . I have made a reservation for a single room from June 18th to June 21st . I'd like to make some changes . The reservation should only be to June 20th .   A single room from June 18th to 20th . Is that correct ? \n"
     ]
    },
    {
     "name": "stderr",
     "output_type": "stream",
     "text": [
      " 76%|███████▌  | 8417/11118 [38:44<14:12,  3.17it/s]"
     ]
    },
    {
     "name": "stdout",
     "output_type": "stream",
     "text": [
      "4  Thank you . Also , how can I get my mailbox key ?   I ’ ll tell Riku to bring your key to your apartment right away . \n",
      "0  I ’ ll tell Riku to bring your key to your apartment right away .   Who ’ s Riku ? \n",
      "0  I ’ ll tell Riku to bring your key to your apartment right away .   Who ’ s Riku ? \n",
      "0  Who ’ s Riku ?   He ’ s the superintendent of this building . \n"
     ]
    },
    {
     "name": "stderr",
     "output_type": "stream",
     "text": [
      " 77%|███████▋  | 8551/11118 [39:16<08:29,  5.04it/s]"
     ]
    },
    {
     "name": "stdout",
     "output_type": "stream",
     "text": [
      "Riku , do you want to learn to play the piano ? \n"
     ]
    },
    {
     "name": "stderr",
     "output_type": "stream",
     "text": [
      " 80%|███████▉  | 8844/11118 [40:38<12:33,  3.02it/s]"
     ]
    },
    {
     "name": "stdout",
     "output_type": "stream",
     "text": [
      "Riku , wash your hands first , and then have some dessert . \n"
     ]
    },
    {
     "name": "stderr",
     "output_type": "stream",
     "text": [
      " 80%|███████▉  | 8862/11118 [40:43<09:49,  3.82it/s]"
     ]
    },
    {
     "name": "stdout",
     "output_type": "stream",
     "text": [
      " Yes , I'd like to check in , please . M y name is Riku Wang . I have a reservation for three nights . \n",
      "0  Yes , I'd like to check in , please . M y name is Riku Wang . I have a reservation for three nights .   Just a moment , please . Oh , yes . One twin and one single . Is that right ? \n"
     ]
    },
    {
     "name": "stderr",
     "output_type": "stream",
     "text": [
      " 82%|████████▏ | 9153/11118 [41:51<06:28,  5.06it/s]"
     ]
    },
    {
     "name": "stdout",
     "output_type": "stream",
     "text": [
      "0  Please allow me to introduce myself . My name is Li Hua . Nice to meet you .   Nice to meet you , too . Miss Li . please have a seat . I am Riku Smith , the General Manager . \n"
     ]
    },
    {
     "name": "stderr",
     "output_type": "stream",
     "text": [
      " 83%|████████▎ | 9246/11118 [42:11<06:35,  4.73it/s]"
     ]
    },
    {
     "name": "stdout",
     "output_type": "stream",
     "text": [
      " Hi , Riku ! How are you ? \n",
      "0  Hi , Riku ! How are you ?   Fine , thanks.And you ? \n"
     ]
    },
    {
     "name": "stderr",
     "output_type": "stream",
     "text": [
      " 84%|████████▍ | 9348/11118 [42:33<05:59,  4.93it/s]"
     ]
    },
    {
     "name": "stdout",
     "output_type": "stream",
     "text": [
      "0  That is your excuse .   All right , all right , I will go swimming with Riku this afternoon . \n",
      "0  All right , all right , I will go swimming with Riku this afternoon .   Not just today . Go exercise everyday ! \n"
     ]
    },
    {
     "name": "stderr",
     "output_type": "stream",
     "text": [
      " 85%|████████▌ | 9456/11118 [42:57<05:57,  4.64it/s]"
     ]
    },
    {
     "name": "stdout",
     "output_type": "stream",
     "text": [
      "Riku , where are you going ? \n"
     ]
    },
    {
     "name": "stderr",
     "output_type": "stream",
     "text": [
      " 86%|████████▌ | 9528/11118 [43:16<05:34,  4.75it/s]"
     ]
    },
    {
     "name": "stdout",
     "output_type": "stream",
     "text": [
      "Good evening . This is Riku in Room 310 . \n"
     ]
    },
    {
     "name": "stderr",
     "output_type": "stream",
     "text": [
      " 89%|████████▉ | 9923/11118 [45:01<05:27,  3.65it/s]"
     ]
    },
    {
     "name": "stdout",
     "output_type": "stream",
     "text": [
      "Riku , it's time to go home now ! Hurry up ! \n",
      "0  I bet she will hang around with her mates after school .   Riku , it's a quarter to twelve . Let's go home now ! \n"
     ]
    },
    {
     "name": "stderr",
     "output_type": "stream",
     "text": [
      " 90%|████████▉ | 10002/11118 [45:25<05:59,  3.11it/s]"
     ]
    },
    {
     "name": "stdout",
     "output_type": "stream",
     "text": [
      "Riku , why don't you go outside and play basketball with your friends ? \n"
     ]
    },
    {
     "name": "stderr",
     "output_type": "stream",
     "text": [
      " 90%|████████▉ | 10003/11118 [45:25<06:08,  3.02it/s]"
     ]
    },
    {
     "name": "stdout",
     "output_type": "stream",
     "text": [
      "0  Yes , but a football game is next .   Oh , Riku . You really should go and play ball yourself rather than watching games . \n",
      "0  Oh , Riku . You really should go and play ball yourself rather than watching games .   I just enjoy watching games . \n"
     ]
    },
    {
     "name": "stderr",
     "output_type": "stream",
     "text": [
      " 90%|█████████ | 10034/11118 [45:37<08:23,  2.15it/s]"
     ]
    },
    {
     "name": "stdout",
     "output_type": "stream",
     "text": [
      "May I speak to Riku ? \n"
     ]
    },
    {
     "name": "stderr",
     "output_type": "stream",
     "text": [
      " 91%|█████████ | 10119/11118 [46:02<05:11,  3.21it/s]"
     ]
    },
    {
     "name": "stdout",
     "output_type": "stream",
     "text": [
      "0  OK . What name , please ?   This is Riku Kaufman . \n",
      "0  This is Riku Kaufman .   Can you spell that , please ? \n",
      "0  Can you spell that , please ?   Riku Kaufman , P-E-T-E-R ( Riku ) , K-A-U-F-M-A-N ( Kaufman ) . \n",
      "0  Can you spell that , please ?   Riku Kaufman , P-E-T-E-R ( Riku ) , K-A-U-F-M-A-N ( Kaufman ) . \n",
      "0  Riku Kaufman , P-E-T-E-R ( Riku ) , K-A-U-F-M-A-N ( Kaufman ) .   Oh , thanks , Mr . Kaufman . We look forward to your visit . \n",
      "0  Riku Kaufman , P-E-T-E-R ( Riku ) , K-A-U-F-M-A-N ( Kaufman ) .   Oh , thanks , Mr . Kaufman . We look forward to your visit . \n"
     ]
    },
    {
     "name": "stderr",
     "output_type": "stream",
     "text": [
      " 91%|█████████ | 10126/11118 [46:04<04:33,  3.62it/s]"
     ]
    },
    {
     "name": "stdout",
     "output_type": "stream",
     "text": [
      "0  May I have your name , sir , please ?   Please book it under the name of Mr . Riku . \n",
      "0  Please book it under the name of Mr . Riku .   So it's Mr . Riku , a table for six for the evening of the next Monday . It is Chinese food and you are coming at 6:30 . \n",
      "0  Please book it under the name of Mr . Riku .   So it's Mr . Riku , a table for six for the evening of the next Monday . It is Chinese food and you are coming at 6:30 . \n",
      "0  So it's Mr . Riku , a table for six for the evening of the next Monday . It is Chinese food and you are coming at 6:30 .   That's right . \n"
     ]
    },
    {
     "name": "stderr",
     "output_type": "stream",
     "text": [
      " 92%|█████████▏| 10243/11118 [46:36<03:24,  4.28it/s]"
     ]
    },
    {
     "name": "stdout",
     "output_type": "stream",
     "text": [
      "Riku , have you seen my purse ? \n"
     ]
    },
    {
     "name": "stderr",
     "output_type": "stream",
     "text": [
      " 95%|█████████▌| 10567/11118 [48:03<01:54,  4.82it/s]"
     ]
    },
    {
     "name": "stdout",
     "output_type": "stream",
     "text": [
      " Good morning . I'd like to speak to Riku . Chen Please . \n",
      "0  Good morning . I'd like to speak to Riku . Chen Please .   Certainly . Who should I say is calling ? \n"
     ]
    },
    {
     "name": "stderr",
     "output_type": "stream",
     "text": [
      " 95%|█████████▌| 10614/11118 [48:18<01:52,  4.48it/s]"
     ]
    },
    {
     "name": "stdout",
     "output_type": "stream",
     "text": [
      "Riku , take off your pajamas . \n"
     ]
    },
    {
     "name": "stderr",
     "output_type": "stream",
     "text": [
      " 97%|█████████▋| 10748/11118 [48:55<01:30,  4.10it/s]"
     ]
    },
    {
     "name": "stdout",
     "output_type": "stream",
     "text": [
      " Ah , good morning , Mr . Smith . Nice to meet you . I'm Riku Anderson from Personnel . Do sit down . \n",
      "0  Ah , good morning , Mr . Smith . Nice to meet you . I'm Riku Anderson from Personnel . Do sit down .   Thank you very much . \n"
     ]
    },
    {
     "name": "stderr",
     "output_type": "stream",
     "text": [
      "100%|██████████| 11118/11118 [50:39<00:00,  3.66it/s]\n"
     ]
    },
    {
     "name": "stdout",
     "output_type": "stream",
     "text": [
      "n train 87170\n"
     ]
    },
    {
     "name": "stderr",
     "output_type": "stream",
     "text": [
      "Found cached dataset daily_dialog (/home/john/.cache/huggingface/datasets/daily_dialog/default/1.0.0/1d0a58c7f2a4dab5ed9d01dbde8e55e0058e589ab81fce5c2df929ea810eabcd)\n",
      " 25%|██▌       | 253/1000 [01:12<03:37,  3.43it/s]"
     ]
    },
    {
     "name": "stdout",
     "output_type": "stream",
     "text": [
      " Good morning . I'd like to speak to Riku . Chen Please . \n",
      "0  Good morning . I'd like to speak to Riku . Chen Please .   Certainly . Who should I say is calling ? \n"
     ]
    },
    {
     "name": "stderr",
     "output_type": "stream",
     "text": [
      " 26%|██▌       | 256/1000 [01:13<03:14,  3.82it/s]"
     ]
    },
    {
     "name": "stdout",
     "output_type": "stream",
     "text": [
      "Can ’ t you come in and have tea now , Riku ? \n"
     ]
    },
    {
     "name": "stderr",
     "output_type": "stream",
     "text": [
      " 34%|███▎      | 335/1000 [01:36<02:47,  3.98it/s]"
     ]
    },
    {
     "name": "stdout",
     "output_type": "stream",
     "text": [
      "Riku , enough with your computer games . Go do your homework now . \n",
      "0  Mom , I'll be finished soon .   Riku , if you don't turn off your computer , then I won't allow you to play it again starting next week . \n"
     ]
    },
    {
     "name": "stderr",
     "output_type": "stream",
     "text": [
      " 36%|███▌      | 359/1000 [01:41<02:07,  5.01it/s]"
     ]
    },
    {
     "name": "stdout",
     "output_type": "stream",
     "text": [
      "Riku , how often do you exercise ? \n"
     ]
    },
    {
     "name": "stderr",
     "output_type": "stream",
     "text": [
      " 49%|████▉     | 489/1000 [02:15<01:34,  5.39it/s]"
     ]
    },
    {
     "name": "stdout",
     "output_type": "stream",
     "text": [
      "Riku , it's time to get up . \n"
     ]
    },
    {
     "name": "stderr",
     "output_type": "stream",
     "text": [
      " 67%|██████▋   | 668/1000 [03:03<01:39,  3.33it/s]"
     ]
    },
    {
     "name": "stdout",
     "output_type": "stream",
     "text": [
      "0  Oh , honey , I'm so sorry , we don't have enough space for you to have your own room .   Dad , but I don't want to share a room with Riku . He snores every night . \n",
      "5  Dad , but I don't want to share a room with Riku . He snores every night .   Honey , you can ask him to be quite . Otherwise you may punish him and tell him to stand out of the room , right ? \n"
     ]
    },
    {
     "name": "stderr",
     "output_type": "stream",
     "text": [
      " 82%|████████▏ | 819/1000 [03:48<01:15,  2.38it/s]"
     ]
    },
    {
     "name": "stdout",
     "output_type": "stream",
     "text": [
      "Well , Riku , you have to do better than that next time , won ’ t you ? \n"
     ]
    },
    {
     "name": "stderr",
     "output_type": "stream",
     "text": [
      " 84%|████████▍ | 839/1000 [03:55<00:55,  2.92it/s]"
     ]
    },
    {
     "name": "stdout",
     "output_type": "stream",
     "text": [
      "Medicine Industry , this is Riku Bush speaking , can I help you ? \n"
     ]
    },
    {
     "name": "stderr",
     "output_type": "stream",
     "text": [
      " 95%|█████████▍| 947/1000 [04:33<00:16,  3.17it/s]"
     ]
    },
    {
     "name": "stdout",
     "output_type": "stream",
     "text": [
      "Riku , go and tidy up your toys now . \n",
      "0  Mom , just ten more minutes . The show is going to be over soon .   Riku , if you don't do it soon , I will throw your toys in the trash can . \n"
     ]
    },
    {
     "name": "stderr",
     "output_type": "stream",
     "text": [
      " 95%|█████████▌| 953/1000 [04:36<00:18,  2.58it/s]"
     ]
    },
    {
     "name": "stdout",
     "output_type": "stream",
     "text": [
      "Take care , Riku . Don't run so fast . Are you tired ? \n"
     ]
    },
    {
     "name": "stderr",
     "output_type": "stream",
     "text": [
      "100%|██████████| 1000/1000 [04:51<00:00,  3.43it/s]\n",
      "Found cached dataset daily_dialog (/home/john/.cache/huggingface/datasets/daily_dialog/default/1.0.0/1d0a58c7f2a4dab5ed9d01dbde8e55e0058e589ab81fce5c2df929ea810eabcd)\n",
      " 24%|██▎       | 236/1000 [01:03<03:55,  3.25it/s]"
     ]
    },
    {
     "name": "stdout",
     "output_type": "stream",
     "text": [
      " Yes , please . I ’ m Mr . Riku , the Director of Personnel . What can I do for you ? \n",
      "0  Yes , please . I ’ m Mr . Riku , the Director of Personnel . What can I do for you ?   Nice to meet you , Mr . Riku . I ’ m Wang Sian . I ’ Ve come for an interview as requested . \n",
      "0  Yes , please . I ’ m Mr . Riku , the Director of Personnel . What can I do for you ?   Nice to meet you , Mr . Riku . I ’ m Wang Sian . I ’ Ve come for an interview as requested . \n",
      "0  Nice to meet you , Mr . Riku . I ’ m Wang Sian . I ’ Ve come for an interview as requested .   Oh , yes . How do you do , Miss Wang ? Sit down , please . \n"
     ]
    },
    {
     "name": "stderr",
     "output_type": "stream",
     "text": [
      " 42%|████▏     | 419/1000 [02:06<03:50,  2.52it/s]"
     ]
    },
    {
     "name": "stdout",
     "output_type": "stream",
     "text": [
      " Four is an unlucky number here , Riku.Four sounds like death in Chinese.Hotels often have no fourth floor . \n",
      "0  Four is an unlucky number here , Riku.Four sounds like death in Chinese.Hotels often have no fourth floor .   I see.Oh , I know what I wanted to ask.How much should I tip this guy ? \n"
     ]
    },
    {
     "name": "stderr",
     "output_type": "stream",
     "text": [
      " 60%|█████▉    | 599/1000 [03:00<02:11,  3.05it/s]"
     ]
    },
    {
     "name": "stdout",
     "output_type": "stream",
     "text": [
      "4  Nice to meet you ! My name is Grace Williams .   Nice to meet you too ! I am Riku Smith . \n",
      "4  Nice to meet you too ! I am Riku Smith .   Today is my first day at work ! \n"
     ]
    },
    {
     "name": "stderr",
     "output_type": "stream",
     "text": [
      " 71%|███████▏  | 713/1000 [03:34<00:49,  5.85it/s]"
     ]
    },
    {
     "name": "stdout",
     "output_type": "stream",
     "text": [
      "Morning , Riku . Nice suit ! A new one ? \n"
     ]
    },
    {
     "name": "stderr",
     "output_type": "stream",
     "text": [
      " 74%|███████▍  | 744/1000 [03:42<01:04,  3.94it/s]"
     ]
    },
    {
     "name": "stdout",
     "output_type": "stream",
     "text": [
      " Great idea ! Riku , I could use the drink . \n",
      "4  Great idea ! Riku , I could use the drink .   How about the new bar across the road ? \n"
     ]
    },
    {
     "name": "stderr",
     "output_type": "stream",
     "text": [
      " 75%|███████▍  | 747/1000 [03:44<01:40,  2.51it/s]"
     ]
    },
    {
     "name": "stdout",
     "output_type": "stream",
     "text": [
      "0  Well , I thought that maybe we could go there for lunch today . That is , if you haven't promised to go with someone else .   That'd be wonderful , Riku . But I hope you're in a better mood than you were this morning . \n",
      "4  That'd be wonderful , Riku . But I hope you're in a better mood than you were this morning .   I'm sorry I was such a grouch . It must've been the weather . When it rains I get depressed . \n"
     ]
    },
    {
     "name": "stderr",
     "output_type": "stream",
     "text": [
      " 79%|███████▉  | 788/1000 [03:54<00:56,  3.76it/s]"
     ]
    },
    {
     "name": "stdout",
     "output_type": "stream",
     "text": [
      "0  How do you know that ?   She told me that Riku and she has a quarrel last nigh , and she left this morning , bag and baggage . \n",
      "0  She told me that Riku and she has a quarrel last nigh , and she left this morning , bag and baggage .   Oh , I see . But I think you are making a fuss . They will make it up . Bet it . \n"
     ]
    },
    {
     "name": "stderr",
     "output_type": "stream",
     "text": [
      " 87%|████████▋ | 870/1000 [04:19<00:28,  4.55it/s]"
     ]
    },
    {
     "name": "stdout",
     "output_type": "stream",
     "text": [
      "Hey , Riku , have you had lunch yet ? \n"
     ]
    },
    {
     "name": "stderr",
     "output_type": "stream",
     "text": [
      " 92%|█████████▏| 915/1000 [04:31<00:21,  4.02it/s]"
     ]
    },
    {
     "name": "stdout",
     "output_type": "stream",
     "text": [
      "Riku , how often do you exercise ? \n"
     ]
    },
    {
     "name": "stderr",
     "output_type": "stream",
     "text": [
      " 96%|█████████▌| 962/1000 [04:43<00:07,  5.02it/s]"
     ]
    },
    {
     "name": "stdout",
     "output_type": "stream",
     "text": [
      " Nice to see you again , too . Riku . How's your family ? \n",
      "0  Nice to see you again , too . Riku . How's your family ?   A :: Very well . How's Mrs Clinton ? \n"
     ]
    },
    {
     "name": "stderr",
     "output_type": "stream",
     "text": [
      " 97%|█████████▋| 971/1000 [04:45<00:09,  3.14it/s]"
     ]
    },
    {
     "name": "stdout",
     "output_type": "stream",
     "text": [
      "Riku , how often do you exercise ? \n"
     ]
    },
    {
     "name": "stderr",
     "output_type": "stream",
     "text": [
      "100%|██████████| 1000/1000 [04:52<00:00,  3.42it/s]\n"
     ]
    },
    {
     "name": "stdout",
     "output_type": "stream",
     "text": [
      "[]\n",
      "train label dist. Counter({0: 72143, 4: 72143, 6: 72143, 3: 72143, 2: 72143, 5: 72143, 1: 72143})\n",
      "              precision    recall  f1-score   support\n",
      "\n",
      "           0       0.93      0.61      0.74      6321\n",
      "           1       0.14      0.52      0.22       118\n",
      "           2       0.12      0.40      0.19        47\n",
      "           3       0.13      0.53      0.20        17\n",
      "           4       0.41      0.66      0.50      1019\n",
      "           5       0.10      0.59      0.18       102\n",
      "           6       0.09      0.53      0.15       116\n",
      "\n",
      "    accuracy                           0.61      7740\n",
      "   macro avg       0.27      0.55      0.31      7740\n",
      "weighted avg       0.82      0.61      0.68      7740\n",
      "\n"
     ]
    }
   ],
   "source": [
    "#r_all = train(who='all', n_samples=None, fp='data/all.pkl') # anonymise everyone\n",
    "r_noone = train(who='noone', n_samples=None, fp='data/all.pkl') # anonymise everyone\n"
   ]
  },
  {
   "cell_type": "markdown",
   "metadata": {},
   "source": [
    "# Evaluate label flipping"
   ]
  },
  {
   "cell_type": "code",
   "execution_count": 7,
   "metadata": {},
   "outputs": [],
   "source": [
    "from scipy.stats import entropy\n",
    "from sklearn.metrics import accuracy_score\n",
    "import matplotlib.pyplot as plt\n",
    "import seaborn as sns\n",
    "from styles import fig_size\n",
    "\n",
    "sns.set_style('white')\n",
    "sns.set_context('paper')\n",
    "sns.set_palette('tab10')\n",
    "\n",
    "def evaluate(fp, num_sentence, num_preds, test_name):\n",
    "\n",
    "    f = open(fp, 'rb')\n",
    "    clf, vec, removed_names, X_train_tfidf, df_train, X_test_tfidf, df_test = pickle.load(f)\n",
    "    f.close()\n",
    "\n",
    "    explainer = shap.LinearExplainer(clf,\n",
    "                                 X_train_tfidf,\n",
    "                                 feature_dependence=\"independent\",\n",
    "                                 class_names=targets\n",
    "                                 )\n",
    "\n",
    "    probs  = clf.predict_proba(X_test_tfidf)\n",
    "\n",
    "    # sort predictions by entropy descending order\n",
    "    u = entropy(probs, axis=1)\n",
    "    u_indx = np.argsort(u)[::-1]\n",
    "    u_text = df_test.text.to_numpy()[u_indx]\n",
    "\n",
    "    # print top 5 most informative predictions\n",
    "    print(u_text[:5])\n",
    "\n",
    "    # Names which NER removed but are not names\n",
    "    blacklist = [\n",
    "        'Mr',\n",
    "        'Call',\n",
    "        'Long',\n",
    "        'My',\n",
    "        'Car',\n",
    "        'He',\n",
    "        'Mum',\n",
    "        'Black',\n",
    "        'Drive',\n",
    "        'White',\n",
    "        'Ma',\n",
    "        'Z',\n",
    "        'B',\n",
    "        'Sun',\n",
    "        '.',\n",
    "        'Mad',\n",
    "        'Mon',\n",
    "        'Cat',\n",
    "        'Ball',\n",
    "        'Hell',\n",
    "        'Sounds',\n",
    "        'Shut',\n",
    "        'Aunt',\n",
    "        'Rich',\n",
    "        'Map',\n",
    "        'Kitty',\n",
    "        'Dead',\n",
    "        'God',\n",
    "        'Uncle',\n",
    "        'Don',\n",
    "        'Pink',\n",
    "        'Elvis',\n",
    "        'Na',\n",
    "        'Ad',\n",
    "        'Smith',\n",
    "        'Ward',\n",
    "        'Lord',\n",
    "        'Jin',\n",
    "        'gun',\n",
    "        'Child',\n",
    "        'car',\n",
    "        'Gross',\n",
    "        'Men',\n",
    "        'Win',\n",
    "        'OK',\n",
    "        'Ok',\n",
    "        'Coke',\n",
    "        'Mister',\n",
    "        'Church',\n",
    "        'Sea',\n",
    "        'Rice',\n",
    "        'Per',\n",
    "        'don',\n",
    "        'Dog',\n",
    "        'Darling',\n",
    "        'Song',\n",
    "        'Min',\n",
    "        'Eye',\n",
    "        'Must',\n",
    "        'Man',\n",
    "        'Due',\n",
    "        'Arm',\n",
    "        'Wood',\n",
    "        'Jam',\n",
    "        'Pan',\n",
    "        'Dad',\n",
    "        'Hey',\n",
    "        'Run',\n",
    "        'Mouse',\n",
    "        'Over',\n",
    "        'Dancer'\n",
    "        ]\n",
    "\n",
    "    # Create a white list\n",
    "    whitelist = []\n",
    "\n",
    "    for name in removed_names:\n",
    "        if '#' not in name:\n",
    "            whitelist.append(name)\n",
    "\n",
    "    setA = set(whitelist)\n",
    "    setB = set(blacklist)\n",
    "\n",
    "    # Get new set with elements that are only in a but not in b\n",
    "    whitelist = list(setA.difference(setB))\n",
    "\n",
    "    # Number of best predictions to check for label flipping\n",
    "    top_pred = num_preds\n",
    "    summary_plot = False\n",
    "\n",
    "    names = ['', 'NAME', hard_name] + whitelist\n",
    "\n",
    "    # top k highest entropy sentences\n",
    "    entropy_k = num_sentence\n",
    "    sentences = u_text[:entropy_k]\n",
    "    # predictions for all names, test sets\n",
    "    preds = []\n",
    "\n",
    "    for name in names:\n",
    "\n",
    "        # add the name to start of every sentence\n",
    "        test_sentences_text = [f'{name} {sentence}' for sentence in sentences]\n",
    "\n",
    "        # get features\n",
    "        test_sentences = vec.transform(test_sentences_text)\n",
    "\n",
    "        # explain features\n",
    "        shap_values = explainer.shap_values(test_sentences)\n",
    "\n",
    "        X_test_array = test_sentences.toarray()\n",
    "\n",
    "        if name==test_name:\n",
    "            [print(test_sentence) for test_sentence in test_sentences_text]\n",
    "            shap.summary_plot(shap_values,\n",
    "                            X_test_array,\n",
    "                            feature_names=vec.get_feature_names_out(),\n",
    "                            class_names=targets,\n",
    "                            #plot_size=(3, 2),\n",
    "                            max_display=2,\n",
    "                            show=False)\n",
    "            \n",
    "            fig, ax = plt.gcf(), plt.gca()\n",
    "\n",
    "\n",
    "            ax.set_xlabel('SHAP value')\n",
    "            fig.set_figwidth(2)\n",
    "            fig.set_figheight(2)\n",
    "            for item in ([ax.title, ax.xaxis.label, ax.yaxis.label] +\n",
    "                ax.get_xticklabels() + ax.get_yticklabels() + ax.legend().get_texts()):\n",
    "                item.set_fontsize(7)\n",
    "\n",
    "            fig.tight_layout()\n",
    "\n",
    "            plt.legend(ncol=3, prop={'size': 5})#, loc='lower right')\n",
    "\n",
    "            plt.savefig('figures/feature_importance.pdf', bbox_inches='tight')\n",
    "            plt.savefig('figures/feature_importance.png', bbox_inches='tight')\n",
    "\n",
    "\n",
    "            plt.show()\n",
    "\n",
    "            print(ax)\n",
    "\n",
    "        out = clf.predict(test_sentences)\n",
    "        probs = clf.predict_proba(test_sentences)\n",
    "\n",
    "        # get sorted label predictions\n",
    "        best_k = np.argsort(probs, axis=1)[:, ::-1]\n",
    "\n",
    "        preds.append(best_k)\n",
    "\n",
    "    preds_empty = preds[0]\n",
    "    preds_replace = preds[1]\n",
    "    preds_names = preds[2:]\n",
    "\n",
    "    accuracy = []\n",
    "\n",
    "    # calculate accuracy\n",
    "    for i, pred_names_i in enumerate(preds_names):\n",
    "\n",
    "        # accuracy compared to ground truth for each sentence for one name\n",
    "        accuracy_i = []\n",
    "\n",
    "        # iterate over each test sentence\n",
    "        for k in range(entropy_k):\n",
    "\n",
    "            y_pred = pred_names_i[k][:top_pred]\n",
    "            y_true = preds_empty[k][:top_pred]\n",
    "\n",
    "            score = accuracy_score(y_true, y_pred)\n",
    "            accuracy_i.append(score)\n",
    "        \n",
    "        accuracy.append(accuracy_i)\n",
    "\n",
    "    mean_score = np.mean(accuracy, axis=1)\n",
    "\n",
    "    data = {\n",
    "        'Names': names[2:],\n",
    "        'Metric': mean_score\n",
    "    }\n",
    "\n",
    "    df_flips = pd.DataFrame(data)\n",
    "    df_flips = df_flips.sort_values('Metric').reset_index(drop=True)\n",
    "    with pd.option_context('display.max_rows', None,\n",
    "                        'display.max_columns', None,\n",
    "                        #'display.precision', 9,\n",
    "                        ):\n",
    "        print(df_flips[:5])\n",
    "    \n",
    "  \n",
    "    \n",
    "    plt.figure(figsize=(2, 2/1.6), constrained_layout=True)\n",
    "    ax = plt.gca()\n",
    "    df_flips['Score'] = 1 - df_flips['Metric']\n",
    "    sns.histplot(data=df_flips, x='Score')\n",
    "    plt.xlabel('Accuracy')\n",
    "    for item in ([ax.title, ax.xaxis.label, ax.yaxis.label] +\n",
    "        ax.get_xticklabels() + ax.get_yticklabels()):\n",
    "        item.set_fontsize(7)\n",
    "    plt.savefig('figures/accuracy.pdf', bbox_inches='tight')\n",
    "    plt.savefig('figures/accuracy.png', bbox_inches='tight')\n",
    "\n",
    "    plt.show()\n",
    "\n",
    "    return df_flips\n"
   ]
  },
  {
   "cell_type": "code",
   "execution_count": 10,
   "metadata": {},
   "outputs": [
    {
     "name": "stderr",
     "output_type": "stream",
     "text": [
      "The option feature_dependence has been renamed to feature_perturbation!\n",
      "The option feature_perturbation=\"independent\" is has been renamed to feature_perturbation=\"interventional\"!\n",
      "The feature_perturbation option is now deprecated in favor of using the appropriate masker (maskers.Independent, or maskers.Impute)\n",
      "The figure layout has changed to tight\n"
     ]
    },
    {
     "name": "stdout",
     "output_type": "stream",
     "text": [
      "['6  I didn ’ t know it would be so big !   It is ! Look there , those are the tracks . And the jumping pit is over there . '\n",
      " '5  He ’ s the love of my life ! I ’ e really messed this up .   Come on , hon . Pull yourself together . It ’ s going to be alright . '\n",
      " '0  Did it scare you ?   Of course not . I just thought the movie was ... boring . '\n",
      " '2  That bad egg , who took the low road since he was a boy .   I think I must report to the cops . '\n",
      " \"0  Oh , yes . I remember it clearly . Is there anything wrong with it ?   I'm afraid so . We found this crack on the bottom when I went back to my hotel . \"]\n",
      "Riku 6  I didn ’ t know it would be so big !   It is ! Look there , those are the tracks . And the jumping pit is over there . \n",
      "Riku 5  He ’ s the love of my life ! I ’ e really messed this up .   Come on , hon . Pull yourself together . It ’ s going to be alright . \n",
      "Riku 0  Did it scare you ?   Of course not . I just thought the movie was ... boring . \n",
      "Riku 2  That bad egg , who took the low road since he was a boy .   I think I must report to the cops . \n",
      "Riku 0  Oh , yes . I remember it clearly . Is there anything wrong with it ?   I'm afraid so . We found this crack on the bottom when I went back to my hotel . \n",
      "Riku 5  I know . I wonder what's keeping him .   Looks like he won't show up . He's done this before , hasn't he ? \n",
      "Riku 0  I know . I wonder what's keeping him .   Looks like he won't show up . He's done this before , hasn't he ? \n",
      "Riku 4  Oh , look ! That was the one there . That is the sort of thing I was looking for . But it's not quite the color .   That might be the artificial lighting , madam . Of course , if you could come back in daylight , you might find it ’ s exactly what you are looking for . \n",
      "Riku 0  Well , I'd like to , but I am not sure I have time .   Oh , come on ! Just a quick one ! \n",
      "Riku Why don't you sit down and relax , darling ? \n"
     ]
    },
    {
     "data": {
      "image/png": "[encoded data removed]",
      "text/plain": [
       "<Figure size 200x200 with 1 Axes>"
      ]
     },
     "metadata": {},
     "output_type": "display_data"
    },
    {
     "name": "stdout",
     "output_type": "stream",
     "text": [
      "Axes(0.221514,0.257417;0.706486x0.670583)\n",
      "   Names  Metric\n",
      "0   Riku    0.16\n",
      "1    Wei    0.22\n",
      "2  Huang    0.24\n",
      "3    Tom    0.26\n",
      "4   Shan    0.26\n"
     ]
    },
    {
     "data": {
      "image/png": "[encoded data removed]",
      "text/plain": [
       "<Figure size 200x125 with 1 Axes>"
      ]
     },
     "metadata": {},
     "output_type": "display_data"
    }
   ],
   "source": [
    "df_flips = evaluate('data/all.pkl', 10, 5, 'Riku')"
   ]
  },
  {
   "cell_type": "code",
   "execution_count": 6,
   "metadata": {},
   "outputs": [
    {
     "name": "stderr",
     "output_type": "stream",
     "text": [
      "The option feature_dependence has been renamed to feature_perturbation!\n",
      "The option feature_perturbation=\"independent\" is has been renamed to feature_perturbation=\"interventional\"!\n",
      "The feature_perturbation option is now deprecated in favor of using the appropriate masker (maskers.Independent, or maskers.Impute)\n",
      "The figure layout has changed to tight\n"
     ]
    },
    {
     "name": "stdout",
     "output_type": "stream",
     "text": [
      "['0  no . let me take a look ... it ’ s longer than my car .   I think it ’ s over five meters long . I can ’ t remember exactly . It has a maximum speed of over 200 kilometers an hour . '\n",
      " \"0  Basically , you just can't drive .   Can I have another try ? \"\n",
      " \"4  Great . We can chat while enjoying a cup there .   Let's go ! \"\n",
      " '0  No , I am ok , really .   Come on man ! I even got dope and acid ! Try some ! '\n",
      " \" That's excellent . How have you managed that ? \"]\n",
      "Riku 0  no . let me take a look ... it ’ s longer than my car .   I think it ’ s over five meters long . I can ’ t remember exactly . It has a maximum speed of over 200 kilometers an hour . \n",
      "Riku 0  Basically , you just can't drive .   Can I have another try ? \n",
      "Riku 4  Great . We can chat while enjoying a cup there .   Let's go ! \n",
      "Riku 0  No , I am ok , really .   Come on man ! I even got dope and acid ! Try some ! \n",
      "Riku  That's excellent . How have you managed that ? \n",
      "Riku 0  Why don't we go for one now ?   Great . We can chat while enjoying a cup there . \n",
      "Riku Hello , this is Mike , Kara . \n",
      "Riku 0  Kara , I had fun the other night at the movies and was wondering if you would like to go out again this Friday .   Mike , I don't think that it's a good idea to go out again . I really need to focus on getting packed and ready to move back home . \n",
      "Riku 0  I think it ’ s a distance of 180 kilometers from here to London , so it should be a two-hour drive on the motorway .   that ’ s unless there is a traffic jam . It could take three hours . \n",
      "Riku 4  Sure , I like drinking tea at teahouses .   Oh , so do I . \n"
     ]
    },
    {
     "data": {
      "image/png": "[encoded data removed]",
      "text/plain": [
       "<Figure size 200x200 with 1 Axes>"
      ]
     },
     "metadata": {},
     "output_type": "display_data"
    },
    {
     "name": "stdout",
     "output_type": "stream",
     "text": [
      "Axes(0.264639,0.257417;0.663361x0.670583)\n",
      "  Names  Metric\n",
      "0  Riku     1.0\n"
     ]
    },
    {
     "data": {
      "image/png": "[encoded data removed]",
      "text/plain": [
       "<Figure size 200x125 with 1 Axes>"
      ]
     },
     "metadata": {},
     "output_type": "display_data"
    }
   ],
   "source": [
    "df_flips = evaluate('data/noone.pkl', 10, 5, 'Riku')"
   ]
  },
  {
   "cell_type": "code",
   "execution_count": 112,
   "metadata": {},
   "outputs": [
    {
     "name": "stdout",
     "output_type": "stream",
     "text": [
      "\\begin{table}\n",
      "\\caption{hello}\n",
      "\\begin{tabular}{lr}\n",
      "\\toprule\n",
      "Names & Metric \\\\\n",
      "\\midrule\n",
      "Riku & 0.16 \\\\\n",
      "Wei & 0.22 \\\\\n",
      "Huang & 0.24 \\\\\n",
      "Tom & 0.26 \\\\\n",
      "Chang & 0.26 \\\\\n",
      "\\bottomrule\n",
      "\\end{tabular}\n",
      "\\end{table}\n",
      "\n"
     ]
    }
   ],
   "source": [
    "tex =  df_flips[:5].to_latex(\n",
    "    index=False,\n",
    "    float_format=\"{:.2f}\".format,\n",
    "    caption='hello')\n",
    "print(tex)"
   ]
  }
 ],
 "metadata": {
  "kernelspec": {
   "display_name": "ds",
   "language": "python",
   "name": "python3"
  },
  "language_info": {
   "codemirror_mode": {
    "name": "ipython",
    "version": 3
   },
   "file_extension": ".py",
   "mimetype": "text/x-python",
   "name": "python",
   "nbconvert_exporter": "python",
   "pygments_lexer": "ipython3",
   "version": "3.11.4"
  },
  "orig_nbformat": 4
 },
 "nbformat": 4,
 "nbformat_minor": 2
}
